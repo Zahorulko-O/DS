{
  "nbformat": 4,
  "nbformat_minor": 0,
  "metadata": {
    "colab": {
      "name": "jacobian.ipynb",
      "provenance": [],
      "authorship_tag": "ABX9TyOFGAvYqjQObCN806Zbb4A1",
      "include_colab_link": true
    },
    "kernelspec": {
      "name": "python3",
      "display_name": "Python 3"
    }
  },
  "cells": [
    {
      "cell_type": "markdown",
      "metadata": {
        "id": "view-in-github",
        "colab_type": "text"
      },
      "source": [
        "<a href=\"https://colab.research.google.com/github/Zahorulko-O/DS/blob/main/jacobian.ipynb\" target=\"_parent\"><img src=\"https://colab.research.google.com/assets/colab-badge.svg\" alt=\"Open In Colab\"/></a>"
      ]
    },
    {
      "cell_type": "markdown",
      "metadata": {
        "id": "OXCiSjGDuirP"
      },
      "source": [
        "Матриця Якобі є матрицею складена з частних похідних цих функцій по всих змінних.\r\n",
        "\r\n",
        "\r\n",
        "Якобіан служить лінеаризованою матрицею проектування в статистичній регресії та підгонці кривих (нелінійні найменші квадрати).\r\n",
        "Система пов'язаних нелінійних рівнянь може бути вирішена ітеративно методом Ньютона. Цей метод використовує матрицю Якобія системи рівнянь.\r\n",
        "\r\n",
        "https://ipfs.io/ipfs/QmXoypizjW3WknFiJnKLwHCnL72vedxjQkDDP1mXWo6uco/wiki/Jacobian_matrix_and_determinant.html\r\n",
        "\r\n",
        "Матриця Якобі розповідає, як локальні збурення, введені нейронною мережею, впливатимуть на вихід:\r\n",
        "https://medium.com/unit8-machine-learning-publication/computing-the-jacobian-matrix-of-a-neural-network-in-python-4f162e5db180 (застаріла)"
      ]
    },
    {
      "cell_type": "code",
      "metadata": {
        "colab": {
          "base_uri": "https://localhost:8080/"
        },
        "id": "EciDN4YLlvlB",
        "outputId": "973267aa-6e27-4a74-c709-0cb01a3b0a7c"
      },
      "source": [
        "import autograd.numpy as np\r\n",
        "from autograd import grad, jacobian\r\n",
        "\r\n",
        "x = np.array([1.0, 2.0], dtype=float)\r\n",
        "def cost(x):\r\n",
        "    \r\n",
        "    return x[0]**2 / x[1] - np.log(x[1])\r\n",
        "\r\n",
        "def jacobi(cost):\r\n",
        "    gradient_cost = grad(cost)\r\n",
        "    jacobian_cost = jacobian(cost)\r\n",
        "    gradient_cost(x)\r\n",
        "    \r\n",
        "    return jacobian_cost(np.array([x,x]))\r\n",
        "\r\n",
        "jacobi(cost)"
      ],
      "execution_count": 26,
      "outputs": [
        {
          "output_type": "execute_result",
          "data": {
            "text/plain": [
              "array([[[ 2. ,  0. ],\n",
              "        [-2. ,  0. ]],\n",
              "\n",
              "       [[ 0. ,  2. ],\n",
              "        [ 0. , -1.5]]])"
            ]
          },
          "metadata": {
            "tags": []
          },
          "execution_count": 26
        }
      ]
    },
    {
      "cell_type": "markdown",
      "metadata": {
        "id": "5lyJ8gXyu_VH"
      },
      "source": [
        "## Ефективно обчислювати матрицю Якобі можна за допомогою бібліотеки TensorFlow  (GradientTape.jacobian)\r\n",
        "\r\n",
        "https://www.tensorflow.org/guide/advanced_autodiff#jacobians"
      ]
    },
    {
      "cell_type": "code",
      "metadata": {
        "colab": {
          "base_uri": "https://localhost:8080/"
        },
        "id": "O7GR-4pNuMyp",
        "outputId": "d5c8b341-1042-4959-916b-af7aff8bc20c"
      },
      "source": [
        "import tensorflow as tf\r\n",
        "with tf.GradientTape() as g:\r\n",
        "  x  = tf.constant([1.0, 2.0])\r\n",
        "  g.watch(x)\r\n",
        "  y = x * x\r\n",
        "jacobian = g.jacobian(y, x)\r\n",
        "print(jacobian)\r\n"
      ],
      "execution_count": 22,
      "outputs": [
        {
          "output_type": "stream",
          "text": [
            "tf.Tensor(\n",
            "[[2. 0.]\n",
            " [0. 4.]], shape=(2, 2), dtype=float32)\n"
          ],
          "name": "stdout"
        }
      ]
    },
    {
      "cell_type": "code",
      "metadata": {
        "id": "MIdYBdeAuWwQ"
      },
      "source": [
        ""
      ],
      "execution_count": null,
      "outputs": []
    }
  ]
}