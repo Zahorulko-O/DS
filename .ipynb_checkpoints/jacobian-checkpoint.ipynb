{
 "cells": [
  {
   "cell_type": "markdown",
   "metadata": {
    "colab_type": "text",
    "id": "view-in-github"
   },
   "source": [
    "<a href=\"https://colab.research.google.com/github/Zahorulko-O/DS/blob/main/jacobian.ipynb\" target=\"_parent\"><img src=\"https://colab.research.google.com/assets/colab-badge.svg\" alt=\"Open In Colab\"/></a>"
   ]
  },
  {
   "cell_type": "markdown",
   "metadata": {
    "id": "OXCiSjGDuirP"
   },
   "source": [
    "Матриця Якобі є матрицею складена з частних похідних цих функцій по всих змінних.\n",
    "\n",
    "\n",
    "Якобіан служить лінеаризованою матрицею проектування в статистичній регресії та підгонці кривих (нелінійні найменші квадрати).\n",
    "Система пов'язаних нелінійних рівнянь може бути вирішена ітеративно методом Ньютона. Цей метод використовує матрицю Якобія системи рівнянь.\n",
    "\n",
    "https://ipfs.io/ipfs/QmXoypizjW3WknFiJnKLwHCnL72vedxjQkDDP1mXWo6uco/wiki/Jacobian_matrix_and_determinant.html\n",
    "\n",
    "Матриця Якобі розповідає, як локальні збурення, введені нейронною мережею, впливатимуть на вихід:\n",
    "https://medium.com/unit8-machine-learning-publication/computing-the-jacobian-matrix-of-a-neural-network-in-python-4f162e5db180 (застаріла)"
   ]
  },
  {
   "cell_type": "markdown",
   "metadata": {
    "id": "5lyJ8gXyu_VH"
   },
   "source": [
    "## Ефективно обчислювати матрицю Якобі можна за допомогою бібліотеки TensorFlow  (GradientTape.jacobian)\n",
    "\n",
    "https://www.tensorflow.org/guide/advanced_autodiff#jacobians"
   ]
  },
  {
   "cell_type": "code",
   "execution_count": 22,
   "metadata": {
    "colab": {
     "base_uri": "https://localhost:8080/"
    },
    "id": "O7GR-4pNuMyp",
    "outputId": "d5c8b341-1042-4959-916b-af7aff8bc20c"
   },
   "outputs": [
    {
     "name": "stdout",
     "output_type": "stream",
     "text": [
      "tf.Tensor(\n",
      "[[2. 0.]\n",
      " [0. 4.]], shape=(2, 2), dtype=float32)\n"
     ]
    }
   ],
   "source": [
    "import tensorflow as tf\n",
    "with tf.GradientTape() as g:\n",
    "    x  = tf.constant([1.0, 2.0])\n",
    "    g.watch(x)\n",
    "    y = x * x\n",
    "jacobian = g.jacobian(y, x)\n",
    "print(jacobian)\n"
   ]
  },
  {
   "cell_type": "code",
   "execution_count": null,
   "metadata": {
    "id": "MIdYBdeAuWwQ"
   },
   "outputs": [],
   "source": []
  }
 ],
 "metadata": {
  "colab": {
   "authorship_tag": "ABX9TyOFGAvYqjQObCN806Zbb4A1",
   "include_colab_link": true,
   "name": "jacobian.ipynb",
   "provenance": []
  },
  "kernelspec": {
   "display_name": "Python 3",
   "language": "python",
   "name": "python3"
  },
  "language_info": {
   "codemirror_mode": {
    "name": "ipython",
    "version": 3
   },
   "file_extension": ".py",
   "mimetype": "text/x-python",
   "name": "python",
   "nbconvert_exporter": "python",
   "pygments_lexer": "ipython3",
   "version": "3.8.5"
  }
 },
 "nbformat": 4,
 "nbformat_minor": 1
}
