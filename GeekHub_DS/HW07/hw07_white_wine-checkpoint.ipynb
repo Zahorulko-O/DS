{
 "cells": [
  {
   "cell_type": "markdown",
   "metadata": {},
   "source": [
    "#  Построить модели для классификации или регресии "
   ]
  },
  {
   "cell_type": "code",
   "execution_count": 1,
   "metadata": {},
   "outputs": [],
   "source": [
    "#  KNN, LMNN, ENN,"
   ]
  },
  {
   "cell_type": "code",
   "execution_count": 2,
   "metadata": {},
   "outputs": [
    {
     "name": "stdout",
     "output_type": "stream",
     "text": [
      "Requirement already satisfied: pylmnn in c:\\users\\olya\\anaconda3\\lib\\site-packages (1.6.3)\n",
      "Requirement already satisfied: scikit-learn>=0.18 in c:\\users\\olya\\anaconda3\\lib\\site-packages (from pylmnn) (0.21.2)\n",
      "Requirement already satisfied: numpy>=1.11 in c:\\users\\olya\\anaconda3\\lib\\site-packages (from pylmnn) (1.16.4)\n",
      "Requirement already satisfied: scipy>=0.18 in c:\\users\\olya\\anaconda3\\lib\\site-packages (from pylmnn) (1.2.1)\n",
      "Requirement already satisfied: joblib>=0.11 in c:\\users\\olya\\anaconda3\\lib\\site-packages (from scikit-learn>=0.18->pylmnn) (0.13.2)\n",
      "Requirement already satisfied: enn in c:\\users\\olya\\anaconda3\\lib\\site-packages (0.14)\n",
      "Requirement already satisfied: matplotlib in c:\\users\\olya\\anaconda3\\lib\\site-packages (3.1.0)\n",
      "Requirement already satisfied: cycler>=0.10 in c:\\users\\olya\\anaconda3\\lib\\site-packages (from matplotlib) (0.10.0)\n",
      "Requirement already satisfied: kiwisolver>=1.0.1 in c:\\users\\olya\\anaconda3\\lib\\site-packages (from matplotlib) (1.1.0)\n",
      "Requirement already satisfied: pyparsing!=2.0.4,!=2.1.2,!=2.1.6,>=2.0.1 in c:\\users\\olya\\anaconda3\\lib\\site-packages (from matplotlib) (2.4.0)\n",
      "Requirement already satisfied: python-dateutil>=2.1 in c:\\users\\olya\\anaconda3\\lib\\site-packages (from matplotlib) (2.8.0)\n",
      "Requirement already satisfied: numpy>=1.11 in c:\\users\\olya\\anaconda3\\lib\\site-packages (from matplotlib) (1.16.4)\n",
      "Requirement already satisfied: six in c:\\users\\olya\\anaconda3\\lib\\site-packages (from cycler>=0.10->matplotlib) (1.12.0)\n",
      "Requirement already satisfied: setuptools in c:\\users\\olya\\anaconda3\\lib\\site-packages (from kiwisolver>=1.0.1->matplotlib) (41.0.1)\n"
     ]
    }
   ],
   "source": [
    "#install packets\n",
    "!pip3 install pylmnn\n",
    "!pip3 install enn\n",
    "!pip3 install matplotlib"
   ]
  },
  {
   "cell_type": "code",
   "execution_count": 3,
   "metadata": {},
   "outputs": [
    {
     "name": "stderr",
     "output_type": "stream",
     "text": [
      "C:\\Users\\Olya\\Anaconda3\\lib\\site-packages\\sklearn\\externals\\six.py:31: DeprecationWarning: The module is deprecated in version 0.21 and will be removed in version 0.23 since we've dropped support for Python 2.7. Please rely on the official version of six (https://pypi.org/project/six/).\n",
      "  \"(https://pypi.org/project/six/).\", DeprecationWarning)\n"
     ]
    }
   ],
   "source": [
    "import numpy as np\n",
    "import pandas as pd\n",
    "import matplotlib\n",
    "\n",
    "from enn.enn import ENN\n",
    "from pylmnn import LargeMarginNearestNeighbor as LMNN\n",
    "from scipy.spatial.distance import euclidean, mahalanobis\n",
    "from sklearn.neighbors import DistanceMetric\n",
    "from sklearn.metrics import accuracy_score, f1_score, precision_score, recall_score, roc_auc_score\n",
    "from sklearn.model_selection import cross_val_score, GridSearchCV, train_test_split\n",
    "from sklearn.neighbors import KNeighborsClassifier, KNeighborsRegressor, RadiusNeighborsRegressor, NearestNeighbors\n",
    "\n",
    "# matplotlib.style.use('seaborn')\n"
   ]
  },
  {
   "cell_type": "markdown",
   "metadata": {},
   "source": [
    "## Построить модели для классификации или регресии для датасета "
   ]
  },
  {
   "cell_type": "code",
   "execution_count": 4,
   "metadata": {},
   "outputs": [],
   "source": [
    "from glob import glob\n",
    "import os\n",
    "import glob\n",
    "import pickle\n",
    "#pip install tqdm\n",
    "from tqdm import tqdm_notebook\n",
    "import numpy as np\n",
    "import pandas as pd\n",
    "from scipy.sparse import csr_matrix\n",
    "\n",
    "df = pd.DataFrame()  \n",
    "path = 'LESSON07'\n",
    "PATH_TO_DATA = '..\\HW_13_wine_dataset'\n",
    "\n",
    "pd.set_option('precision', 3)\n",
    "\n",
    "#csv_file_path = glob.glob(os.path.join(path, \"HW_13_wine_dataset\", \"*.csv\"))\n",
    "#for file in csv_file_path:\n",
    "#    df = df.append(pd.read_csv(file, sep=';'))\n",
    "#    df.head()\n",
    "#    print(df)"
   ]
  },
  {
   "cell_type": "markdown",
   "metadata": {},
   "source": [
    "# wine_white"
   ]
  },
  {
   "cell_type": "code",
   "execution_count": 5,
   "metadata": {},
   "outputs": [
    {
     "data": {
      "text/html": [
       "<div>\n",
       "<style scoped>\n",
       "    .dataframe tbody tr th:only-of-type {\n",
       "        vertical-align: middle;\n",
       "    }\n",
       "\n",
       "    .dataframe tbody tr th {\n",
       "        vertical-align: top;\n",
       "    }\n",
       "\n",
       "    .dataframe thead th {\n",
       "        text-align: right;\n",
       "    }\n",
       "</style>\n",
       "<table border=\"1\" class=\"dataframe\">\n",
       "  <thead>\n",
       "    <tr style=\"text-align: right;\">\n",
       "      <th></th>\n",
       "      <th>fixed acidity</th>\n",
       "      <th>volatile acidity</th>\n",
       "      <th>citric acid</th>\n",
       "      <th>residual sugar</th>\n",
       "      <th>chlorides</th>\n",
       "      <th>free sulfur dioxide</th>\n",
       "      <th>total sulfur dioxide</th>\n",
       "      <th>density</th>\n",
       "      <th>pH</th>\n",
       "      <th>sulphates</th>\n",
       "      <th>alcohol</th>\n",
       "      <th>quality</th>\n",
       "    </tr>\n",
       "  </thead>\n",
       "  <tbody>\n",
       "    <tr>\n",
       "      <th>0</th>\n",
       "      <td>7.0</td>\n",
       "      <td>0.27</td>\n",
       "      <td>0.36</td>\n",
       "      <td>20.7</td>\n",
       "      <td>0.045</td>\n",
       "      <td>45.0</td>\n",
       "      <td>170.0</td>\n",
       "      <td>1.001</td>\n",
       "      <td>3.00</td>\n",
       "      <td>0.45</td>\n",
       "      <td>8.8</td>\n",
       "      <td>6</td>\n",
       "    </tr>\n",
       "    <tr>\n",
       "      <th>1</th>\n",
       "      <td>6.3</td>\n",
       "      <td>0.30</td>\n",
       "      <td>0.34</td>\n",
       "      <td>1.6</td>\n",
       "      <td>0.049</td>\n",
       "      <td>14.0</td>\n",
       "      <td>132.0</td>\n",
       "      <td>0.994</td>\n",
       "      <td>3.30</td>\n",
       "      <td>0.49</td>\n",
       "      <td>9.5</td>\n",
       "      <td>6</td>\n",
       "    </tr>\n",
       "    <tr>\n",
       "      <th>2</th>\n",
       "      <td>8.1</td>\n",
       "      <td>0.28</td>\n",
       "      <td>0.40</td>\n",
       "      <td>6.9</td>\n",
       "      <td>0.050</td>\n",
       "      <td>30.0</td>\n",
       "      <td>97.0</td>\n",
       "      <td>0.995</td>\n",
       "      <td>3.26</td>\n",
       "      <td>0.44</td>\n",
       "      <td>10.1</td>\n",
       "      <td>6</td>\n",
       "    </tr>\n",
       "    <tr>\n",
       "      <th>3</th>\n",
       "      <td>7.2</td>\n",
       "      <td>0.23</td>\n",
       "      <td>0.32</td>\n",
       "      <td>8.5</td>\n",
       "      <td>0.058</td>\n",
       "      <td>47.0</td>\n",
       "      <td>186.0</td>\n",
       "      <td>0.996</td>\n",
       "      <td>3.19</td>\n",
       "      <td>0.40</td>\n",
       "      <td>9.9</td>\n",
       "      <td>6</td>\n",
       "    </tr>\n",
       "    <tr>\n",
       "      <th>4</th>\n",
       "      <td>7.2</td>\n",
       "      <td>0.23</td>\n",
       "      <td>0.32</td>\n",
       "      <td>8.5</td>\n",
       "      <td>0.058</td>\n",
       "      <td>47.0</td>\n",
       "      <td>186.0</td>\n",
       "      <td>0.996</td>\n",
       "      <td>3.19</td>\n",
       "      <td>0.40</td>\n",
       "      <td>9.9</td>\n",
       "      <td>6</td>\n",
       "    </tr>\n",
       "    <tr>\n",
       "      <th>...</th>\n",
       "      <td>...</td>\n",
       "      <td>...</td>\n",
       "      <td>...</td>\n",
       "      <td>...</td>\n",
       "      <td>...</td>\n",
       "      <td>...</td>\n",
       "      <td>...</td>\n",
       "      <td>...</td>\n",
       "      <td>...</td>\n",
       "      <td>...</td>\n",
       "      <td>...</td>\n",
       "      <td>...</td>\n",
       "    </tr>\n",
       "    <tr>\n",
       "      <th>4893</th>\n",
       "      <td>6.2</td>\n",
       "      <td>0.21</td>\n",
       "      <td>0.29</td>\n",
       "      <td>1.6</td>\n",
       "      <td>0.039</td>\n",
       "      <td>24.0</td>\n",
       "      <td>92.0</td>\n",
       "      <td>0.991</td>\n",
       "      <td>3.27</td>\n",
       "      <td>0.50</td>\n",
       "      <td>11.2</td>\n",
       "      <td>6</td>\n",
       "    </tr>\n",
       "    <tr>\n",
       "      <th>4894</th>\n",
       "      <td>6.6</td>\n",
       "      <td>0.32</td>\n",
       "      <td>0.36</td>\n",
       "      <td>8.0</td>\n",
       "      <td>0.047</td>\n",
       "      <td>57.0</td>\n",
       "      <td>168.0</td>\n",
       "      <td>0.995</td>\n",
       "      <td>3.15</td>\n",
       "      <td>0.46</td>\n",
       "      <td>9.6</td>\n",
       "      <td>5</td>\n",
       "    </tr>\n",
       "    <tr>\n",
       "      <th>4895</th>\n",
       "      <td>6.5</td>\n",
       "      <td>0.24</td>\n",
       "      <td>0.19</td>\n",
       "      <td>1.2</td>\n",
       "      <td>0.041</td>\n",
       "      <td>30.0</td>\n",
       "      <td>111.0</td>\n",
       "      <td>0.993</td>\n",
       "      <td>2.99</td>\n",
       "      <td>0.46</td>\n",
       "      <td>9.4</td>\n",
       "      <td>6</td>\n",
       "    </tr>\n",
       "    <tr>\n",
       "      <th>4896</th>\n",
       "      <td>5.5</td>\n",
       "      <td>0.29</td>\n",
       "      <td>0.30</td>\n",
       "      <td>1.1</td>\n",
       "      <td>0.022</td>\n",
       "      <td>20.0</td>\n",
       "      <td>110.0</td>\n",
       "      <td>0.989</td>\n",
       "      <td>3.34</td>\n",
       "      <td>0.38</td>\n",
       "      <td>12.8</td>\n",
       "      <td>7</td>\n",
       "    </tr>\n",
       "    <tr>\n",
       "      <th>4897</th>\n",
       "      <td>6.0</td>\n",
       "      <td>0.21</td>\n",
       "      <td>0.38</td>\n",
       "      <td>0.8</td>\n",
       "      <td>0.020</td>\n",
       "      <td>22.0</td>\n",
       "      <td>98.0</td>\n",
       "      <td>0.989</td>\n",
       "      <td>3.26</td>\n",
       "      <td>0.32</td>\n",
       "      <td>11.8</td>\n",
       "      <td>6</td>\n",
       "    </tr>\n",
       "  </tbody>\n",
       "</table>\n",
       "<p>4898 rows × 12 columns</p>\n",
       "</div>"
      ],
      "text/plain": [
       "      fixed acidity  volatile acidity  citric acid  residual sugar  chlorides  \\\n",
       "0               7.0              0.27         0.36            20.7      0.045   \n",
       "1               6.3              0.30         0.34             1.6      0.049   \n",
       "2               8.1              0.28         0.40             6.9      0.050   \n",
       "3               7.2              0.23         0.32             8.5      0.058   \n",
       "4               7.2              0.23         0.32             8.5      0.058   \n",
       "...             ...               ...          ...             ...        ...   \n",
       "4893            6.2              0.21         0.29             1.6      0.039   \n",
       "4894            6.6              0.32         0.36             8.0      0.047   \n",
       "4895            6.5              0.24         0.19             1.2      0.041   \n",
       "4896            5.5              0.29         0.30             1.1      0.022   \n",
       "4897            6.0              0.21         0.38             0.8      0.020   \n",
       "\n",
       "      free sulfur dioxide  total sulfur dioxide  density    pH  sulphates  \\\n",
       "0                    45.0                 170.0    1.001  3.00       0.45   \n",
       "1                    14.0                 132.0    0.994  3.30       0.49   \n",
       "2                    30.0                  97.0    0.995  3.26       0.44   \n",
       "3                    47.0                 186.0    0.996  3.19       0.40   \n",
       "4                    47.0                 186.0    0.996  3.19       0.40   \n",
       "...                   ...                   ...      ...   ...        ...   \n",
       "4893                 24.0                  92.0    0.991  3.27       0.50   \n",
       "4894                 57.0                 168.0    0.995  3.15       0.46   \n",
       "4895                 30.0                 111.0    0.993  2.99       0.46   \n",
       "4896                 20.0                 110.0    0.989  3.34       0.38   \n",
       "4897                 22.0                  98.0    0.989  3.26       0.32   \n",
       "\n",
       "      alcohol  quality  \n",
       "0         8.8        6  \n",
       "1         9.5        6  \n",
       "2        10.1        6  \n",
       "3         9.9        6  \n",
       "4         9.9        6  \n",
       "...       ...      ...  \n",
       "4893     11.2        6  \n",
       "4894      9.6        5  \n",
       "4895      9.4        6  \n",
       "4896     12.8        7  \n",
       "4897     11.8        6  \n",
       "\n",
       "[4898 rows x 12 columns]"
      ]
     },
     "execution_count": 5,
     "metadata": {},
     "output_type": "execute_result"
    }
   ],
   "source": [
    "csv_file_path_2 = glob.glob(os.path.join(path, \"HW_13_wine_dataset\", \"winequality-white.csv\"))\n",
    "for file in csv_file_path_2:\n",
    "    df_wine_white = df.append(pd.read_csv(file, sep=';'))\n",
    "    df_wine_white.head()\n",
    "    \n",
    "df_wine_white"
   ]
  },
  {
   "cell_type": "code",
   "execution_count": 6,
   "metadata": {},
   "outputs": [
    {
     "data": {
      "text/plain": [
       "(4898, 12)"
      ]
     },
     "execution_count": 6,
     "metadata": {},
     "output_type": "execute_result"
    }
   ],
   "source": [
    "df_wine_white.shape"
   ]
  },
  {
   "cell_type": "code",
   "execution_count": 7,
   "metadata": {},
   "outputs": [
    {
     "data": {
      "text/html": [
       "<div>\n",
       "<style scoped>\n",
       "    .dataframe tbody tr th:only-of-type {\n",
       "        vertical-align: middle;\n",
       "    }\n",
       "\n",
       "    .dataframe tbody tr th {\n",
       "        vertical-align: top;\n",
       "    }\n",
       "\n",
       "    .dataframe thead th {\n",
       "        text-align: right;\n",
       "    }\n",
       "</style>\n",
       "<table border=\"1\" class=\"dataframe\">\n",
       "  <thead>\n",
       "    <tr style=\"text-align: right;\">\n",
       "      <th></th>\n",
       "      <th>fixed acidity</th>\n",
       "      <th>volatile acidity</th>\n",
       "      <th>citric acid</th>\n",
       "      <th>residual sugar</th>\n",
       "      <th>chlorides</th>\n",
       "      <th>free sulfur dioxide</th>\n",
       "      <th>total sulfur dioxide</th>\n",
       "      <th>density</th>\n",
       "      <th>pH</th>\n",
       "      <th>sulphates</th>\n",
       "      <th>alcohol</th>\n",
       "      <th>quality</th>\n",
       "    </tr>\n",
       "  </thead>\n",
       "  <tbody>\n",
       "    <tr>\n",
       "      <th>count</th>\n",
       "      <td>4898.000</td>\n",
       "      <td>4898.000</td>\n",
       "      <td>4898.000</td>\n",
       "      <td>4898.000</td>\n",
       "      <td>4898.000</td>\n",
       "      <td>4898.000</td>\n",
       "      <td>4898.000</td>\n",
       "      <td>4898.000</td>\n",
       "      <td>4898.000</td>\n",
       "      <td>4898.000</td>\n",
       "      <td>4898.000</td>\n",
       "      <td>4898.000</td>\n",
       "    </tr>\n",
       "    <tr>\n",
       "      <th>mean</th>\n",
       "      <td>6.855</td>\n",
       "      <td>0.278</td>\n",
       "      <td>0.334</td>\n",
       "      <td>6.391</td>\n",
       "      <td>0.046</td>\n",
       "      <td>35.308</td>\n",
       "      <td>138.361</td>\n",
       "      <td>0.994</td>\n",
       "      <td>3.188</td>\n",
       "      <td>0.490</td>\n",
       "      <td>10.514</td>\n",
       "      <td>5.878</td>\n",
       "    </tr>\n",
       "    <tr>\n",
       "      <th>std</th>\n",
       "      <td>0.844</td>\n",
       "      <td>0.101</td>\n",
       "      <td>0.121</td>\n",
       "      <td>5.072</td>\n",
       "      <td>0.022</td>\n",
       "      <td>17.007</td>\n",
       "      <td>42.498</td>\n",
       "      <td>0.003</td>\n",
       "      <td>0.151</td>\n",
       "      <td>0.114</td>\n",
       "      <td>1.231</td>\n",
       "      <td>0.886</td>\n",
       "    </tr>\n",
       "    <tr>\n",
       "      <th>min</th>\n",
       "      <td>3.800</td>\n",
       "      <td>0.080</td>\n",
       "      <td>0.000</td>\n",
       "      <td>0.600</td>\n",
       "      <td>0.009</td>\n",
       "      <td>2.000</td>\n",
       "      <td>9.000</td>\n",
       "      <td>0.987</td>\n",
       "      <td>2.720</td>\n",
       "      <td>0.220</td>\n",
       "      <td>8.000</td>\n",
       "      <td>3.000</td>\n",
       "    </tr>\n",
       "    <tr>\n",
       "      <th>25%</th>\n",
       "      <td>6.300</td>\n",
       "      <td>0.210</td>\n",
       "      <td>0.270</td>\n",
       "      <td>1.700</td>\n",
       "      <td>0.036</td>\n",
       "      <td>23.000</td>\n",
       "      <td>108.000</td>\n",
       "      <td>0.992</td>\n",
       "      <td>3.090</td>\n",
       "      <td>0.410</td>\n",
       "      <td>9.500</td>\n",
       "      <td>5.000</td>\n",
       "    </tr>\n",
       "    <tr>\n",
       "      <th>50%</th>\n",
       "      <td>6.800</td>\n",
       "      <td>0.260</td>\n",
       "      <td>0.320</td>\n",
       "      <td>5.200</td>\n",
       "      <td>0.043</td>\n",
       "      <td>34.000</td>\n",
       "      <td>134.000</td>\n",
       "      <td>0.994</td>\n",
       "      <td>3.180</td>\n",
       "      <td>0.470</td>\n",
       "      <td>10.400</td>\n",
       "      <td>6.000</td>\n",
       "    </tr>\n",
       "    <tr>\n",
       "      <th>75%</th>\n",
       "      <td>7.300</td>\n",
       "      <td>0.320</td>\n",
       "      <td>0.390</td>\n",
       "      <td>9.900</td>\n",
       "      <td>0.050</td>\n",
       "      <td>46.000</td>\n",
       "      <td>167.000</td>\n",
       "      <td>0.996</td>\n",
       "      <td>3.280</td>\n",
       "      <td>0.550</td>\n",
       "      <td>11.400</td>\n",
       "      <td>6.000</td>\n",
       "    </tr>\n",
       "    <tr>\n",
       "      <th>max</th>\n",
       "      <td>14.200</td>\n",
       "      <td>1.100</td>\n",
       "      <td>1.660</td>\n",
       "      <td>65.800</td>\n",
       "      <td>0.346</td>\n",
       "      <td>289.000</td>\n",
       "      <td>440.000</td>\n",
       "      <td>1.039</td>\n",
       "      <td>3.820</td>\n",
       "      <td>1.080</td>\n",
       "      <td>14.200</td>\n",
       "      <td>9.000</td>\n",
       "    </tr>\n",
       "  </tbody>\n",
       "</table>\n",
       "</div>"
      ],
      "text/plain": [
       "       fixed acidity  volatile acidity  citric acid  residual sugar  \\\n",
       "count       4898.000          4898.000     4898.000        4898.000   \n",
       "mean           6.855             0.278        0.334           6.391   \n",
       "std            0.844             0.101        0.121           5.072   \n",
       "min            3.800             0.080        0.000           0.600   \n",
       "25%            6.300             0.210        0.270           1.700   \n",
       "50%            6.800             0.260        0.320           5.200   \n",
       "75%            7.300             0.320        0.390           9.900   \n",
       "max           14.200             1.100        1.660          65.800   \n",
       "\n",
       "       chlorides  free sulfur dioxide  total sulfur dioxide   density  \\\n",
       "count   4898.000             4898.000              4898.000  4898.000   \n",
       "mean       0.046               35.308               138.361     0.994   \n",
       "std        0.022               17.007                42.498     0.003   \n",
       "min        0.009                2.000                 9.000     0.987   \n",
       "25%        0.036               23.000               108.000     0.992   \n",
       "50%        0.043               34.000               134.000     0.994   \n",
       "75%        0.050               46.000               167.000     0.996   \n",
       "max        0.346              289.000               440.000     1.039   \n",
       "\n",
       "             pH  sulphates   alcohol   quality  \n",
       "count  4898.000   4898.000  4898.000  4898.000  \n",
       "mean      3.188      0.490    10.514     5.878  \n",
       "std       0.151      0.114     1.231     0.886  \n",
       "min       2.720      0.220     8.000     3.000  \n",
       "25%       3.090      0.410     9.500     5.000  \n",
       "50%       3.180      0.470    10.400     6.000  \n",
       "75%       3.280      0.550    11.400     6.000  \n",
       "max       3.820      1.080    14.200     9.000  "
      ]
     },
     "execution_count": 7,
     "metadata": {},
     "output_type": "execute_result"
    }
   ],
   "source": [
    "df_wine_white.describe()"
   ]
  },
  {
   "cell_type": "code",
   "execution_count": 8,
   "metadata": {},
   "outputs": [
    {
     "data": {
      "text/plain": [
       "quality\n",
       "3      20\n",
       "4     163\n",
       "5    1457\n",
       "6    2198\n",
       "7     880\n",
       "8     175\n",
       "9       5\n",
       "Name: quality, dtype: int64"
      ]
     },
     "execution_count": 8,
     "metadata": {},
     "output_type": "execute_result"
    }
   ],
   "source": [
    "quality = df_wine_white['quality'].groupby(df_wine_white['quality']).count()\n",
    "quality"
   ]
  },
  {
   "cell_type": "code",
   "execution_count": 9,
   "metadata": {},
   "outputs": [],
   "source": [
    "quality.plot(kind='bar');"
   ]
  },
  {
   "cell_type": "code",
   "execution_count": 10,
   "metadata": {},
   "outputs": [
    {
     "name": "stdout",
     "output_type": "stream",
     "text": [
      "[[ 6.3   0.28  0.29 ...  3.43  0.59 11.  ]\n",
      " [ 7.3   0.23  0.37 ...  3.26  0.4  12.2 ]\n",
      " [ 6.6   0.38  0.15 ...  3.11  0.38 10.2 ]\n",
      " ...\n",
      " [ 8.4   0.19  0.42 ...  3.06  0.65 11.1 ]\n",
      " [ 6.1   0.22  0.25 ...  3.21  0.4  10.7 ]\n",
      " [ 7.2   0.23  0.38 ...  3.09  0.44  9.  ]] [[ 6.2   0.38  0.18 ...  3.53  0.71  9.2 ]\n",
      " [ 6.4   0.25  0.74 ...  3.21  0.42  9.2 ]\n",
      " [ 6.4   0.25  0.37 ...  3.18  0.4  11.1 ]\n",
      " ...\n",
      " [ 7.2   0.3   0.26 ...  3.19  0.56 11.3 ]\n",
      " [ 6.7   0.11  0.34 ...  3.42  0.4   9.3 ]\n",
      " [ 6.6   0.29  0.31 ...  3.24  0.6  12.6 ]] [6 8 6 ... 4 5 6] [4 6 7 5 7 6 6 6 7 5 6 7 6 6 6 5 7 6 5 6 5 5 6 7 6 5 4 5 6 7 5 6 7 6 7 5 5\n",
      " 6 6 7 5 4 6 6 6 5 7 5 5 6 5 5 5 6 7 6 6 5 6 5 7 5 6 5 7 7 5 6 8 5 6 6 6 5\n",
      " 5 7 6 5 5 6 6 6 5 7 5 5 5 7 6 5 5 6 6 7 6 7 7 6 5 6 5 7 5 6 7 5 7 6 5 7 4\n",
      " 5 5 6 6 6 6 8 7 5 5 6 6 6 6 5 6 5 6 4 6 6 6 6 7 6 5 6 6 5 6 6 5 6 5 5 8 6\n",
      " 7 5 6 6 7 5 4 6 7 8 6 6 5 5 5 6 6 5 6 6 8 5 5 6 6 7 6 6 6 5 6 5 7 7 5 5 7\n",
      " 5 8 6 5 6 6 7 7 6 6 8 6 5 7 6 6 5 6 5 6 6 7 6 7 6 6 7 5 6 5 5 6 5 6 5 7 6\n",
      " 5 7 5 7 6 4 5 6 4 6 6 5 6 6 6 6 7 5 5 6 6 6 6 7 5 5 6 6 6 6 5 7 5 6 7 5 5\n",
      " 5 5 6 6 6 6 6 7 6 7 5 6 7 6 7 6 6 7 6 8 6 6 6 5 7 5 6 6 6 6 4 6 6 5 6 6 6\n",
      " 5 8 5 6 6 6 6 5 7 6 6 7 6 7 5 7 5 5 6 7 6 6 6 8 5 7 7 6 7 5 6 6 7 8 6 7 5\n",
      " 6 6 5 6 6 5 8 6 7 5 6 7 6 5 6 6 5 5 7 6 5 7 5 6 6 4 7 6 7 6 5 7 6 6 6 5 4\n",
      " 6 6 6 7 5 5 7 5 6 7 5 4 6 5 6 7 6 6 7 5 5 4 8 8 8 6 5 6 6 5 5 6 6 6 4 5 7\n",
      " 5 7 6 6 7 6 6 6 4 5 5 5 6 7 5 6 7 7 6 5 5 5 6 5 5 5 7 5 6 6 6 6 4 6 7 6 7\n",
      " 5 7 6 6 6 5 7 7 6 6 6 6 6 6 7 5 6 6 8 6 6 5 6 5 5 5 6 5 5 7 4 5 5 6 6 6 6\n",
      " 7 6 6 6 7 5 6 5 6 8 5 5 5 5 6 7 6 7 6 6 5 5 7 8 6 5 6 7 6 7 6 6 7 7 5 5 6\n",
      " 6 7 5 5 5 6 5 7 6 6 5 4 7 6 6 8 5 5 7 6 5 6 4 7 7 5 8 6 5 5 7 6 6 7 6 6 6\n",
      " 5 6 6 7 5 5 5 6 6 5 7 5 5 7 7 6 5 6 6 6 6 5 5 6 6 5 5 7 5 6 7 7 5 7 8 8 6\n",
      " 6 6 5 6 6 6 5 6 5 5 6 6 6 6 6 6 7 5 6 5 6 5 7 7 6 8 7 8 5 5 6 6 6 6 5 6 6\n",
      " 6 8 6 5 6 6 7 6 6 5 6 7 6 6 7 5 6 6 5 7 3 6 7 6 6 5 7 6 5 5 5 7 6 6 6 6 6\n",
      " 6 6 6 7 5 7 7 5 5 5 7 6 6 6 6 5 5 7 5 6 5 5 6 8 6 7 6 6 5 8 5 4 6 5 6 7 5\n",
      " 6 6 6 4 6 5 5 5 6 8 7 6 7 5 6 6 5 7 7 6 6 3 5 5 6 5 5 5 4 5 6 6 6 5 5 7 6\n",
      " 6 6 6 5 7 7 5 8 6 8 6 5 6 7 5 7 5 6 5 5 5 5 6 6 6 5 5 6 6 6 4 6 6 6 5 4 6\n",
      " 6 4 5 7 6 5 5 6 6 6 7 6 5 6 7 7 7 5 6 6 5 4 6 6 6 8 5 6 7 7 6 5 7 6 7 6 7\n",
      " 7 6 4 7 6 7 6 6 5 5 6 6 6 5 5 6 6 5 6 6 7 7 5 6 5 7 5 5 6 5 5 7 6 6 6 6 6\n",
      " 7 4 5 6 8 8 7 7 6 5 7 5 5 6 7 6 7 6 6 5 5 7 6 7 6 6 5 6 6 7 7 8 6 6 5 6 5\n",
      " 7 5 5 6 7 6 7 6 5 6 5 6 5 6 5 6 7 6 6 5 7 6 6 7 6 5 6 8 5 6 6 6 5 5 7 6 5\n",
      " 5 6 6 6 6 6 7 7 6 6 7 6 8 7 6 7 6 6 5 5 6 5 7 5 6 5 6 6 5 6 5 6 6 5 6 4 5\n",
      " 5 5 5 5 6 6 5 5 5 7 6 6 6 7 5 6 7 8]\n"
     ]
    }
   ],
   "source": [
    "# get column titles except the last column (отримати заголовки стовпців, окрім останнього)\n",
    "features=df_wine_white.columns[:-1].tolist()\n",
    "#print(features)\n",
    "# get data set features (отримати функції набору даних )\n",
    "X=df_wine_white[features].values\n",
    "#print(X)\n",
    "# get labels (отримати позначки)\n",
    "y=df_wine_white['quality'].values\n",
    "#print(y)\n",
    "# split data to train data set and test data set (розділити дані для тренування набору даних та тестового набору даних)\n",
    "X_train,X_test,y_train,y_test = train_test_split(X,y,test_size=0.2,random_state=1)\n",
    "print(X_train,X_test,y_train,y_test)\n",
    "# store scores of KNN model by K=1 to 31 (зберігайте бали моделі KNN на K = 1 до 31)\n",
    "scores=[]"
   ]
  },
  {
   "cell_type": "code",
   "execution_count": 11,
   "metadata": {
    "scrolled": true
   },
   "outputs": [
    {
     "name": "stdout",
     "output_type": "stream",
     "text": [
      "KNeighborsClassifier(algorithm='auto', leaf_size=30, metric='minkowski',\n",
      "                     metric_params=None, n_jobs=None, n_neighbors=8, p=2,\n",
      "                     weights='uniform')\n",
      "[0.45547074 0.47515924 0.43312102 0.46035806 0.43846154]\n",
      "0.45251411748361575\n",
      "[0.4527705102351101, 0.4632457372986617, 0.4545891915535636, 0.45432788419326586, 0.4456354658373661, 0.45251411748361575]\n"
     ]
    }
   ],
   "source": [
    "# loop k from 3 to 9, and get cross validation score of each K value (в циклі k від 3 до 9,отримують перехресне підтвердження кожного знач. K)\n",
    "for k in range(3,9):\n",
    "    knn=KNeighborsClassifier(k) #from sklearn.neighbors\n",
    "    score_val=cross_val_score(knn,X_train,y_train,scoring='accuracy',cv=5) #from sklearn.model_selection\n",
    "    score_mean=score_val.mean()\n",
    "    scores.append(score_mean)\n",
    "print(knn)\n",
    "print(score_val)\n",
    "print(score_mean)\n",
    "print(scores)"
   ]
  },
  {
   "cell_type": "code",
   "execution_count": 12,
   "metadata": {},
   "outputs": [
    {
     "name": "stdout",
     "output_type": "stream",
     "text": [
      "2\n",
      "prediction precision rate: 0.5071428571428571\n"
     ]
    }
   ],
   "source": [
    "# get index of maxium score along axis, default axis=0 for 1 dimensional array\n",
    "#отримати індекс максимальної оцінки(np.argmax) вздовж осі, за замовчуванням axis=0 для 1 розмірного масиву D-1\n",
    "best_k=np.argmax(scores)+1  # Only the first occurrence is returned (Повертається лише перше значення)\n",
    "print(best_k)\n",
    "# generate KNN model (згенеруємо модель KNN)\n",
    "knn=KNeighborsClassifier(best_k)\n",
    "# fit with train data set (надавати train data set)\n",
    "knn.fit(X_train,y_train)\n",
    "# get Modes presicion rate using test set  (отримати швидкість набору режиму за допомогою тестового набору)\n",
    "print(\"prediction precision rate:\",knn.score(X_test,y_test))"
   ]
  },
  {
   "cell_type": "code",
   "execution_count": 13,
   "metadata": {},
   "outputs": [
    {
     "name": "stderr",
     "output_type": "stream",
     "text": [
      "C:\\Users\\Olya\\Anaconda3\\lib\\site-packages\\pylmnn\\lmnn.py:517: UserWarning: `n_neighbors` (=5) is not less than the number of samples in the smallest non-singleton class (=5). `n_neighbors_` will be set to 4 for estimation.\n",
      "  min_non_singleton_size - 1))\n",
      "C:\\Users\\Olya\\Anaconda3\\lib\\site-packages\\pylmnn\\lmnn.py:517: UserWarning: `n_neighbors` (=6) is not less than the number of samples in the smallest non-singleton class (=5). `n_neighbors_` will be set to 4 for estimation.\n",
      "  min_non_singleton_size - 1))\n",
      "C:\\Users\\Olya\\Anaconda3\\lib\\site-packages\\pylmnn\\lmnn.py:517: UserWarning: `n_neighbors` (=7) is not less than the number of samples in the smallest non-singleton class (=5). `n_neighbors_` will be set to 4 for estimation.\n",
      "  min_non_singleton_size - 1))\n",
      "C:\\Users\\Olya\\Anaconda3\\lib\\site-packages\\pylmnn\\lmnn.py:517: UserWarning: `n_neighbors` (=8) is not less than the number of samples in the smallest non-singleton class (=5). `n_neighbors_` will be set to 4 for estimation.\n",
      "  min_non_singleton_size - 1))\n"
     ]
    }
   ],
   "source": [
    "scores=[]\n",
    "# loop k from 3 to 9, and get cross validation score of each K value(в циклі k від 3 до 9,отримують перехресне підтвердження кожного значення K)\n",
    "k_test, n_components, max_iter = 5, X.shape[1], 180\n",
    "for k in range(3,9):\n",
    "    # Instantiate the metric learner (Ігноруйте навчальний показник)\n",
    "    lmnn = LMNN(n_neighbors=k, max_iter=max_iter, n_components=n_components)\n",
    "    # Train the metric learner (Тренуйте навчального показника)\n",
    "    lmnn.fit(X_train, y_train)\n",
    "    # Fit the nearest neighbors classifier (Підібрати класифікатор найближчих сусідів)\n",
    "    knn = KNeighborsClassifier(n_neighbors=k_test)\n",
    "    knn.fit(lmnn.transform(X_train), y_train)\n",
    "    score_val=cross_val_score(knn,lmnn.transform(X_train),y_train,scoring='accuracy',cv=5)\n",
    "    score_mean=score_val.mean()\n",
    "    scores.append(score_mean)\n",
    "\n"
   ]
  },
  {
   "cell_type": "code",
   "execution_count": 14,
   "metadata": {},
   "outputs": [
    {
     "name": "stdout",
     "output_type": "stream",
     "text": [
      "5\n"
     ]
    },
    {
     "name": "stderr",
     "output_type": "stream",
     "text": [
      "C:\\Users\\Olya\\Anaconda3\\lib\\site-packages\\pylmnn\\lmnn.py:517: UserWarning: `n_neighbors` (=5) is not less than the number of samples in the smallest non-singleton class (=5). `n_neighbors_` will be set to 4 for estimation.\n",
      "  min_non_singleton_size - 1))\n"
     ]
    },
    {
     "name": "stdout",
     "output_type": "stream",
     "text": [
      "prediction precision rate: 0.5244897959183673\n"
     ]
    }
   ],
   "source": [
    "# get index of maxium score along axis, default axis=0 for 1 dimensional array \n",
    "#отримати індекс максимальної оцінки вздовж осі, за замовчуванням вісь = 0 для 1 розмірного масиву\n",
    "best_k=np.argmax(scores)+1\n",
    "print(best_k)\n",
    "# Instantiate the metric learner (Ігноруйте навчальний показник)\n",
    "lmnn = LMNN(n_neighbors=int(best_k), max_iter=max_iter, n_components=n_components)\n",
    "# Train the metric learner (Тренуйте навчального показника)\n",
    "lmnn.fit(X_train, y_train)\n",
    "# generate KNN model (згенеруйте кnn модель)\n",
    "knn=KNeighborsClassifier(n_neighbors=best_k)\n",
    "# fit with train data set (підходить rain data set )\n",
    "knn.fit(lmnn.transform(X_train), y_train)\n",
    "# get Modes presicion rate using test set (отримати передбачення ставки, що використовується в тестовому наборі)\n",
    "print(\"prediction precision rate:\",knn.score(lmnn.transform(X_test),y_test))"
   ]
  },
  {
   "cell_type": "code",
   "execution_count": 15,
   "metadata": {},
   "outputs": [
    {
     "name": "stdout",
     "output_type": "stream",
     "text": [
      "ENN(distance_function=<function euclidean at 0x00000000092E6730>, k=3)\n",
      "Train scores\n",
      "accuracy_score =  0.45408163265306123\n",
      "precision_score =  0.2687213770398484\n"
     ]
    },
    {
     "name": "stderr",
     "output_type": "stream",
     "text": [
      "C:\\Users\\Olya\\Anaconda3\\lib\\site-packages\\sklearn\\metrics\\classification.py:1439: UndefinedMetricWarning: Recall is ill-defined and being set to 0.0 in labels with no true samples.\n",
      "  'recall', 'true', average, warn_for)\n"
     ]
    },
    {
     "name": "stdout",
     "output_type": "stream",
     "text": [
      "recall_score =  0.3165946001000317\n"
     ]
    },
    {
     "name": "stderr",
     "output_type": "stream",
     "text": [
      "C:\\Users\\Olya\\Anaconda3\\lib\\site-packages\\sklearn\\metrics\\classification.py:1439: UndefinedMetricWarning: F-score is ill-defined and being set to 0.0 in labels with no true samples.\n",
      "  'recall', 'true', average, warn_for)\n"
     ]
    },
    {
     "name": "stdout",
     "output_type": "stream",
     "text": [
      "f1_score =  0.2736964300424377\n"
     ]
    }
   ],
   "source": [
    "clf = ENN()\n",
    "clf.fit(X_train, y_train)\n",
    "y_pred = clf.predict(X_test)\n",
    "print(clf)\n",
    "print('Train scores')\n",
    "print('accuracy_score = ', accuracy_score(y_test, y_pred))\n",
    "print('precision_score = ', precision_score(y_test, y_pred, average='macro'))\n",
    "print('recall_score = ', recall_score(y_test, y_pred, average='macro'))\n",
    "print('f1_score = ', f1_score(y_test, y_pred, average='macro'))"
   ]
  },
  {
   "cell_type": "code",
   "execution_count": 29,
   "metadata": {},
   "outputs": [
    {
     "data": {
      "text/plain": [
       "(14009, 12)"
      ]
     },
     "execution_count": 29,
     "metadata": {},
     "output_type": "execute_result"
    }
   ],
   "source": [
    "# Улучшение скора\n",
    "# Get balanced sample by oversampling\n",
    "df3=df_wine_white[df_wine_white['quality']==3]\n",
    "df3=pd.concat([df3]*109)\n",
    "\n",
    "df4=df_wine_white[df_wine_white['quality']==4]\n",
    "df4=pd.concat([df4]*13)\n",
    "df5=df_wine_white[df_wine_white['quality']==5]\n",
    "df6=df_wine_white[df_wine_white['quality']==6]\n",
    "\n",
    "df7=df_wine_white[df_wine_white['quality']==7]\n",
    "df7=pd.concat([df7]*2)\n",
    "df8=df_wine_white[df_wine_white['quality']==8]\n",
    "df8=pd.concat([df8]*12)\n",
    "df9=df_wine_white[df_wine_white['quality']==9]\n",
    "df9=pd.concat([df9]*439)\n",
    "df_balanced=pd.concat([df3,df4,df5,df6,df7,df8,df9])\n",
    "df_balanced.shape"
   ]
  },
  {
   "cell_type": "code",
   "execution_count": 30,
   "metadata": {},
   "outputs": [
    {
     "data": {
      "text/plain": [
       "quality\n",
       "3    2180\n",
       "4    2119\n",
       "5    1457\n",
       "6    2198\n",
       "7    1760\n",
       "8    2100\n",
       "9    2195\n",
       "Name: quality, dtype: int64"
      ]
     },
     "execution_count": 30,
     "metadata": {},
     "output_type": "execute_result"
    }
   ],
   "source": [
    "quality1 = df_balanced['quality'].groupby(df_balanced['quality']).count()\n",
    "quality1"
   ]
  },
  {
   "cell_type": "code",
   "execution_count": null,
   "metadata": {},
   "outputs": [],
   "source": []
  },
  {
   "cell_type": "code",
   "execution_count": 31,
   "metadata": {},
   "outputs": [
    {
     "data": {
      "text/plain": [
       "<matplotlib.axes._subplots.AxesSubplot at 0xb9874a8>"
      ]
     },
     "execution_count": 31,
     "metadata": {},
     "output_type": "execute_result"
    },
    {
     "data": {
      "image/png": "[encoded data removed]",
      "text/plain": [
       "<Figure size 432x288 with 1 Axes>"
      ]
     },
     "metadata": {
      "needs_background": "light"
     },
     "output_type": "display_data"
    }
   ],
   "source": [
    "quality1.plot(kind='bar')"
   ]
  },
  {
   "cell_type": "code",
   "execution_count": 32,
   "metadata": {},
   "outputs": [],
   "source": [
    "# df.columns is column labels property\n",
    "features=df_balanced.columns[:-1].tolist()\n",
    "X=df_balanced[features].values\n",
    "y=df_balanced['quality']\n",
    "\n",
    "X_train,X_test,y_train,y_test=train_test_split(X,y,test_size=0.2,random_state=1)\n"
   ]
  },
  {
   "cell_type": "code",
   "execution_count": null,
   "metadata": {},
   "outputs": [],
   "source": [
    "scores=[]\n",
    "for i in range(32):\n",
    "    knn=KNeighborsClassifier(k)\n",
    "    score_val=cross_val_score(knn,X_train,y_train,scoring='accuracy',cv=10)\n",
    "    score_mean=score_val.mean()\n",
    "    scores.append(score_mean)\n",
    "best_K=np.argmax(scores)+1\n",
    "print('best K is:',best_K)\n",
    "knn=KNeighborsClassifier(best_K)\n",
    "knn.fit(X_train,y_train)\n",
    "print(\"prediction precision rate:\",knn.score(X_test,y_test))"
   ]
  },
  {
   "cell_type": "code",
   "execution_count": null,
   "metadata": {},
   "outputs": [],
   "source": [
    "X = [[0], [1], [2], [3]]\n",
    "y = [0, 0, 1, 1]\n",
    "neigh = KNeighborsRegressor(n_neighbors=2)\n",
    "neigh.fit(X, y)"
   ]
  },
  {
   "cell_type": "code",
   "execution_count": null,
   "metadata": {},
   "outputs": [],
   "source": [
    "print(neigh.predict([[1.5]]))"
   ]
  },
  {
   "cell_type": "code",
   "execution_count": null,
   "metadata": {},
   "outputs": [],
   "source": []
  },
  {
   "cell_type": "code",
   "execution_count": null,
   "metadata": {},
   "outputs": [],
   "source": [
    "samples = [[0., 0., 0.], [0., .5, 0.], [1., 1., .5]]\n",
    "neigh = NearestNeighbors(radius=1.6, n_neighbors=2)\n",
    "neigh.fit(samples)"
   ]
  },
  {
   "cell_type": "code",
   "execution_count": null,
   "metadata": {},
   "outputs": [],
   "source": [
    "# Predict value (Прогнозуйте значення)\n",
    "print(neigh.kneighbors([[1., 1., 1.]]))"
   ]
  },
  {
   "cell_type": "code",
   "execution_count": null,
   "metadata": {},
   "outputs": [],
   "source": [
    "rng = neigh.radius_neighbors([[1., 1., 1.]])\n",
    "# Distance to points (Відстань до балів)\n",
    "print(np.asarray(rng[0][0]))\n",
    "# Index of points (Index балів)\n",
    "print(np.asarray(rng[1][0]))"
   ]
  },
  {
   "cell_type": "code",
   "execution_count": null,
   "metadata": {},
   "outputs": [],
   "source": []
  },
  {
   "cell_type": "markdown",
   "metadata": {},
   "source": []
  },
  {
   "cell_type": "code",
   "execution_count": null,
   "metadata": {},
   "outputs": [],
   "source": []
  }
 ],
 "metadata": {
  "kernelspec": {
   "display_name": "Python 3",
   "language": "python",
   "name": "python3"
  },
  "language_info": {
   "codemirror_mode": {
    "name": "ipython",
    "version": 3
   },
   "file_extension": ".py",
   "mimetype": "text/x-python",
   "name": "python",
   "nbconvert_exporter": "python",
   "pygments_lexer": "ipython3",
   "version": "3.7.3"
  }
 },
 "nbformat": 4,
 "nbformat_minor": 2
}
