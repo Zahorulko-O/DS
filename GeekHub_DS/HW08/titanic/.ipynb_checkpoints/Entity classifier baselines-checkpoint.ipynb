{
 "cells": [
  {
   "cell_type": "code",
   "execution_count": 1,
   "metadata": {},
   "outputs": [
    {
     "name": "stderr",
     "output_type": "stream",
     "text": [
      "Using TensorFlow backend.\n"
     ]
    }
   ],
   "source": [
    "import itertools\n",
    "import joblib\n",
    "import matplotlib.pyplot as plt\n",
    "import nltk\n",
    "import numpy as np\n",
    "import os\n",
    "import pandas as pd\n",
    "import seaborn as sns\n",
    "import warnings\n",
    "warnings.filterwarnings('ignore')\n",
    "\n",
    "from enum import Enum\n",
    "from gensim import matutils\n",
    "from gensim.corpora import Dictionary\n",
    "from gensim.models import TfidfModel, WordEmbeddingSimilarityIndex\n",
    "from gensim.models.fasttext import load_facebook_model\n",
    "from gensim.similarities import Similarity, SoftCosineSimilarity, SparseTermSimilarityMatrix, WmdSimilarity\n",
    "from gensim.test.utils import get_tmpfile\n",
    "from keras import Sequential\n",
    "from keras.layers import Activation, Dense, Dropout, Embedding, LSTM, GRU\n",
    "from keras.layers.embeddings import Embedding\n",
    "from keras.preprocessing.sequence import pad_sequences\n",
    "from keras_preprocessing.text import Tokenizer\n",
    "from lightgbm import LGBMClassifier\n",
    "from nltk import RegexpTokenizer\n",
    "from nltk.stem import WordNetLemmatizer\n",
    "from sklearn.ensemble import RandomForestClassifier\n",
    "from sklearn.feature_extraction.text import CountVectorizer\n",
    "from sklearn.linear_model import LogisticRegression\n",
    "from sklearn.metrics import classification_report, confusion_matrix\n",
    "from sklearn.model_selection import GridSearchCV, learning_curve, train_test_split, StratifiedShuffleSplit, \\\n",
    "    validation_curve\n",
    "from sklearn.preprocessing import LabelEncoder, LabelBinarizer\n",
    "from sklearn.utils import compute_class_weight"
   ]
  },
  {
   "cell_type": "code",
   "execution_count": 2,
   "metadata": {},
   "outputs": [],
   "source": [
    "DATA_DIR = 'data'\n",
    "\n",
    "COMPANY_TRAINING_DATA_FILENAME = \"company_training_data.csv\"\n",
    "INVESTOR_TRAINING_DATA_FILENAME = \"investor_training_data.csv\"\n",
    "LP_TRAINING_DATA_FILENAME = \"lp_training_data.csv\"\n",
    "SP_TRAINING_DATA_FILENAME = \"sp_training_data.csv\"\n",
    "\n",
    "FASTTEXT_MODEL_NAME = 'cc.en.300.bin'\n",
    "COUNT_VECTORIZER_MODEL_NAME = 'count_vec.mdl'\n",
    "MULTI_LR_MODEL_NAME = 'multi_class_lr.mdl'\n",
    "MULTI_LR_CV_MODEL_NAME = 'multi_class_lr_cv.mdl'\n",
    "\n",
    "with open(os.path.join(DATA_DIR, 'stop_words.csv'), 'r', encoding='utf-8') as f:\n",
    "    STOP_WORDS = f.readlines()\n",
    "STOP_WORDS = frozenset([item[:-1] for item in STOP_WORDS])\n",
    "\n",
    "\n",
    "class VECTORIZE_METHOD(str, Enum):\n",
    "    \"\"\"\n",
    "    Enumeration for vectorization methods\n",
    "    \"\"\"\n",
    "    FAST_TEXT = \"ft\"\n",
    "    DOC_2_VEC = \"d2v\"\n",
    "    WORD_2_VEC = \"w2v\"\n",
    "    BERT = \"bert\"\n",
    "\n",
    "\n",
    "class SIMILARITY_MEASURES(str, Enum):\n",
    "    \"\"\"\n",
    "    Enumeration for vectorization methods\n",
    "    \"\"\"\n",
    "    COSINE = \"cosine\"\n",
    "    SOFT_COSINE = \"soft_cosine\"\n",
    "    WMD = \"wmd\""
   ]
  },
  {
   "cell_type": "code",
   "execution_count": 3,
   "metadata": {},
   "outputs": [],
   "source": [
    "np.set_printoptions(precision=2)\n",
    "\n",
    "tokenizer = RegexpTokenizer('\\W', gaps=True)\n",
    "wordnet_lemmatizer = WordNetLemmatizer()\n",
    "vectors = None\n",
    "vectorize_method = VECTORIZE_METHOD.FAST_TEXT\n",
    "vector_size = None\n",
    "\n",
    "similarity_measure = SIMILARITY_MEASURES.COSINE\n",
    "# similarity_index = None\n",
    "\n",
    "topic_model = None\n",
    "dictionary = None\n",
    "corpus = None\n",
    "corpus_target = None"
   ]
  },
  {
   "cell_type": "code",
   "execution_count": 4,
   "metadata": {},
   "outputs": [],
   "source": [
    "def load_data():\n",
    "    company_df = pd.read_csv(os.path.join(DATA_DIR, COMPANY_TRAINING_DATA_FILENAME), index_col='pbid',\n",
    "                             usecols=['pbid', 'PrimaryDomain', 'FullDesc', 'sentence'])\n",
    "    company_df['target'] = 'TIC'\n",
    "    investor_df = pd.read_csv(os.path.join(DATA_DIR, INVESTOR_TRAINING_DATA_FILENAME), index_col='pbid',\n",
    "                              usecols=['pbid', 'PrimaryDomain', 'FullDesc', 'sentence'])\n",
    "    investor_df['target'] = 'INV'\n",
    "    lp_df = pd.read_csv(os.path.join(DATA_DIR, LP_TRAINING_DATA_FILENAME), index_col='pbid',\n",
    "                        usecols=['pbid', 'PrimaryDomain', 'FullDesc', 'sentence'])\n",
    "    lp_df['target'] = 'LP'\n",
    "    sp_df = pd.read_csv(os.path.join(DATA_DIR, SP_TRAINING_DATA_FILENAME), index_col='pbid',\n",
    "                        usecols=['pbid', 'PrimaryDomain', 'FullDesc', 'sentence'])\n",
    "    sp_df['target'] = 'SER'\n",
    "    frames = [company_df, investor_df, lp_df, sp_df]\n",
    "    all_df = pd.concat(frames)\n",
    "    all_df.dropna(inplace=True)\n",
    "    return all_df "
   ]
  },
  {
   "cell_type": "code",
   "execution_count": 5,
   "metadata": {},
   "outputs": [],
   "source": [
    "def text2tokens(raw_text: str):\n",
    "    \"\"\"\n",
    "    Tokenize text\n",
    "\n",
    "    :param raw_text: text representing brief description of th company with keywords\n",
    "    :return: list of tokens\n",
    "    \"\"\"\n",
    "    tokens = [wordnet_lemmatizer.lemmatize(token.strip().lower()) for token in\n",
    "              tokenizer.tokenize(raw_text) if wordnet_lemmatizer.lemmatize(\n",
    "            token.strip().lower()) not in STOP_WORDS and not token.isnumeric() and len(token) > 2]\n",
    "    return tokens"
   ]
  },
  {
   "cell_type": "code",
   "execution_count": 6,
   "metadata": {},
   "outputs": [],
   "source": [
    "def tokens2vectors(tokens):\n",
    "    \"\"\"\n",
    "    Calculate average token vector as company vector\n",
    "\n",
    "    :param tokens: 1D array-like object with tokens representing company description with keywords\n",
    "    :return: 1D array-like object representing average company vector\n",
    "    \"\"\"\n",
    "    if vectorize_method == VECTORIZE_METHOD.DOC_2_VEC:\n",
    "        return vectors.infer_vector(tokens)\n",
    "    else:\n",
    "        desc_words = [vectors[token] for token in tokens if token in vectors]\n",
    "        if desc_words:\n",
    "            return matutils.unitvec(np.mean(np.array(desc_words), axis=0))\n",
    "        else:\n",
    "            return np.zeros(vector_size, )"
   ]
  },
  {
   "cell_type": "code",
   "execution_count": 7,
   "metadata": {},
   "outputs": [],
   "source": [
    "def vectorize_inputs(text_list):\n",
    "    return np.vstack([tokens2vectors(text) for text in text_list])"
   ]
  },
  {
   "cell_type": "code",
   "execution_count": 8,
   "metadata": {},
   "outputs": [],
   "source": [
    "def load_vectors():\n",
    "    \"\"\"\n",
    "    Load word vectors according to vectorize method\n",
    "\n",
    "    :param vectorize_method: method to use for vectorization (FastText or Word2Vec)\n",
    "    :return: company vectors as Word2Vec or FastText models\n",
    "    \"\"\"\n",
    "    if vectorize_method == VECTORIZE_METHOD.FAST_TEXT:\n",
    "        model = load_facebook_model(os.path.join(DATA_DIR, FASTTEXT_MODEL_NAME))\n",
    "        return model.wv, model.vector_size"
   ]
  },
  {
   "cell_type": "code",
   "execution_count": 9,
   "metadata": {},
   "outputs": [],
   "source": [
    "def plot_with_err(x, data, **kwargs):\n",
    "    mu, std = data.mean(1), data.std(1)\n",
    "    lines = plt.plot(x, mu, '-', **kwargs)\n",
    "    plt.fill_between(x, mu - std, mu + std, edgecolor='none', facecolor=lines[0].get_color(), alpha=0.2)"
   ]
  },
  {
   "cell_type": "code",
   "execution_count": 10,
   "metadata": {},
   "outputs": [],
   "source": [
    "def plot_learning_curve(N_train, val_train, val_test, degree=2, alpha=0.01):\n",
    "    plot_with_err(N_train, val_train, label='training scores')\n",
    "    plot_with_err(N_train, val_test, label='validation scores')\n",
    "    plt.xlabel('Training Set Size')\n",
    "    plt.ylabel('AUC')\n",
    "    plt.legend()\n",
    "    plt.show()"
   ]
  },
  {
   "cell_type": "code",
   "execution_count": 11,
   "metadata": {},
   "outputs": [],
   "source": [
    "def prepare_train_test_data(df):\n",
    "    X_train, X_test, y_train, y_test = train_test_split(df['sentence'], df['target'],\n",
    "                                                        test_size=0.3, random_state=42, shuffle=True,\n",
    "                                                        stratify=df['target'])\n",
    "    return X_train, X_test, y_train, y_test"
   ]
  },
  {
   "cell_type": "code",
   "execution_count": 12,
   "metadata": {},
   "outputs": [],
   "source": [
    "def plot_confusion_matrix(cm, title=None, cmap=plt.cm.Blues, normalize=True, tags=None):\n",
    "    plt.imshow(cm, interpolation='nearest', cmap=cmap)\n",
    "    plt.title(title)\n",
    "    plt.colorbar()\n",
    "    tick_marks = np.arange(len(tags))\n",
    "    target_names = tags\n",
    "    plt.xticks(tick_marks, target_names, rotation=0)\n",
    "    plt.yticks(tick_marks, target_names)\n",
    "    plt.tight_layout()\n",
    "    plt.ylabel('True label')\n",
    "    plt.xlabel('Predicted label')\n",
    "    plt.show()"
   ]
  },
  {
   "cell_type": "code",
   "execution_count": 13,
   "metadata": {},
   "outputs": [],
   "source": [
    "def evaluate_prediction(df, predictions, target, title=\"Confusion matrix\"):\n",
    "    tags = df['target'].unique()\n",
    "\n",
    "    print(classification_report(target, predictions, labels=tags))\n",
    "    cm = confusion_matrix(target, predictions, labels=tags)\n",
    "    print(f'confusion matrix\\n {cm}')\n",
    "    print('(row=expected, col=predicted)')\n",
    "\n",
    "    cm_normalized = cm.astype('float') / cm.sum(axis=1)[:, np.newaxis]\n",
    "    plot_confusion_matrix(cm_normalized, title + ' Normalized', tags=df['target'].unique())"
   ]
  },
  {
   "cell_type": "code",
   "execution_count": 14,
   "metadata": {},
   "outputs": [],
   "source": [
    "def predict(vectorizer, classifier, X, y, df):\n",
    "    data_features = vectorizer.transform(X)\n",
    "    predictions = classifier.predict(data_features)\n",
    "    evaluate_prediction(df, predictions, y)"
   ]
  },
  {
   "cell_type": "code",
   "execution_count": 15,
   "metadata": {},
   "outputs": [],
   "source": [
    "def most_influential_words(vectorizer, clf, entity_type_index=0, num_words=10):\n",
    "    features = vectorizer.get_feature_names()\n",
    "    max_coef = sorted(enumerate(clf.coef_[entity_type_index]), key=lambda x:x[1], reverse=True)\n",
    "    return [features[x[0]] for x in max_coef[:num_words]]"
   ]
  },
  {
   "cell_type": "code",
   "execution_count": 16,
   "metadata": {},
   "outputs": [],
   "source": [
    "def train_on_fasttext(all_df, clf):\n",
    "    X_train, X_test, y_train, y_test = prepare_train_test_data(all_df)\n",
    "    X_train_tokenized = X_train.apply(lambda row: text2tokens(row)).values\n",
    "    X_test_tokenized = X_test.apply(lambda row: text2tokens(row)).values\n",
    "\n",
    "    X_train_vectorized = vectorize_inputs(X_train_tokenized)\n",
    "    X_test_vectorized = vectorize_inputs(X_test_tokenized)\n",
    "\n",
    "    clf = clf.fit(X_train_vectorized, y_train.tolist())\n",
    "\n",
    "    predicted = clf.predict(X_test_vectorized)\n",
    "    evaluate_prediction(all_df, predicted, y_test.tolist())"
   ]
  },
  {
   "cell_type": "code",
   "execution_count": 17,
   "metadata": {},
   "outputs": [],
   "source": [
    "def train_on_count_vectorizer(all_df, clf, vectorizer):\n",
    "    X_train, X_test, y_train, y_test = prepare_train_test_data(all_df)\n",
    "    train_data_features = vectorizer.fit_transform(X_train)\n",
    "\n",
    "    clf = clf.fit(train_data_features, y_train.tolist())\n",
    "\n",
    "    predict(vectorizer, clf, X_test, y_test.tolist(), all_df)"
   ]
  },
  {
   "cell_type": "code",
   "execution_count": 18,
   "metadata": {},
   "outputs": [],
   "source": [
    "def train_simple_neural_network(all_df):\n",
    "    num_labels = 4\n",
    "    vocab_size = 15000\n",
    "    batch_size = 128\n",
    "    num_epochs = 10\n",
    "\n",
    "    X_train, X_test, y_train, y_test = prepare_train_test_data(all_df)\n",
    "\n",
    "    tokenizer = Tokenizer(num_words=vocab_size)\n",
    "    tokenizer.fit_on_texts(X_train)\n",
    "\n",
    "    x_train = tokenizer.texts_to_matrix(X_train, mode='tfidf')\n",
    "    x_test = tokenizer.texts_to_matrix(X_test, mode='tfidf')\n",
    "\n",
    "    encoder = LabelBinarizer()\n",
    "    encoder.fit(y_train)\n",
    "    y_train = encoder.transform(y_train)\n",
    "    y_test = encoder.transform(y_test)\n",
    "    \n",
    "    model = Sequential()\n",
    "    model.add(Dense(512, input_shape=(vocab_size,)))\n",
    "    model.add(Activation('relu'))\n",
    "    model.add(Dropout(0.3))\n",
    "    model.add(Dense(512))\n",
    "    model.add(Activation('relu'))\n",
    "    model.add(Dropout(0.3))\n",
    "    model.add(Dense(num_labels))\n",
    "    model.add(Activation('softmax'))\n",
    "    model.summary()\n",
    "\n",
    "    model.compile(loss='categorical_crossentropy', optimizer='adam', metrics=['accuracy'])\n",
    "\n",
    "    y_train_labels = np.argmax(y_train, axis=1)\n",
    "    class_weights = compute_class_weight('balanced', np.unique(y_train_labels), y_train_labels)\n",
    "\n",
    "    history = model.fit(x_train, y_train,\n",
    "                        batch_size=batch_size,\n",
    "                        epochs=num_epochs,\n",
    "                        verbose=2,\n",
    "                        class_weight=class_weights,\n",
    "                        validation_split=0.3)\n",
    "\n",
    "    score, acc = model.evaluate(x_test, y_test, batch_size=batch_size, verbose=2)\n",
    "\n",
    "    print('Test accuracy:', acc)\n",
    "    \n",
    "    y_pred = model.predict_classes(x_test)\n",
    "    cnf_matrix = confusion_matrix(np.argmax(y_test, axis=1), y_pred)\n",
    "    cm_normalized = cnf_matrix.astype('float') / cnf_matrix.sum(axis=1)[:, np.newaxis]\n",
    "\n",
    "    label_names = encoder.classes_\n",
    "    print(classification_report(np.argmax(y_test, axis=1), y_pred))\n",
    "    print(f'confusion matrix\\n {cnf_matrix}')\n",
    "\n",
    "    plot_confusion_matrix(cm_normalized, title='Normalized confusion matrix', tags=encoder.classes_)"
   ]
  },
  {
   "cell_type": "code",
   "execution_count": 19,
   "metadata": {},
   "outputs": [
    {
     "name": "stdout",
     "output_type": "stream",
     "text": [
      "Wall time: 1min 23s\n"
     ]
    }
   ],
   "source": [
    "%%time\n",
    "vectors, vector_size = load_vectors()"
   ]
  },
  {
   "cell_type": "code",
   "execution_count": 20,
   "metadata": {},
   "outputs": [
    {
     "name": "stdout",
     "output_type": "stream",
     "text": [
      "Wall time: 1.04 s\n"
     ]
    }
   ],
   "source": [
    "%%time\n",
    "df = load_data()"
   ]
  },
  {
   "cell_type": "code",
   "execution_count": 21,
   "metadata": {},
   "outputs": [
    {
     "data": {
      "image/png": "[encoded data removed]",
      "text/plain": [
       "<Figure size 432x288 with 1 Axes>"
      ]
     },
     "metadata": {
      "needs_background": "light"
     },
     "output_type": "display_data"
    }
   ],
   "source": [
    "my_tags = df['target'].unique()\n",
    "df['target'].value_counts().plot(kind=\"bar\", rot=0);"
   ]
  },
  {
   "cell_type": "markdown",
   "metadata": {},
   "source": [
    "The data is very unbalanced. We have TargetCompany (TIC) as majority class."
   ]
  },
  {
   "cell_type": "markdown",
   "metadata": {},
   "source": [
    "# Build baseline models"
   ]
  },
  {
   "cell_type": "markdown",
   "metadata": {},
   "source": [
    "Let's try to use simple Logistic Regression with word embedding (FastText)"
   ]
  },
  {
   "cell_type": "code",
   "execution_count": 22,
   "metadata": {},
   "outputs": [
    {
     "name": "stdout",
     "output_type": "stream",
     "text": [
      "              precision    recall  f1-score   support\n",
      "\n",
      "         TIC       0.87      0.97      0.92     26467\n",
      "         INV       0.69      0.53      0.60      4827\n",
      "          LP       0.62      0.27      0.38      1502\n",
      "         SER       0.67      0.40      0.50      2198\n",
      "\n",
      "    accuracy                           0.84     34994\n",
      "   macro avg       0.71      0.54      0.60     34994\n",
      "weighted avg       0.83      0.84      0.83     34994\n",
      "\n",
      "confusion matrix\n",
      " [[25628   533   119   187]\n",
      " [ 1992  2572    93   170]\n",
      " [  853   168   408    73]\n",
      " [  859   429    37   873]]\n",
      "(row=expected, col=predicted)\n"
     ]
    },
    {
     "data": {
      "image/png": "[encoded data removed]",
      "text/plain": [
       "<Figure size 432x288 with 2 Axes>"
      ]
     },
     "metadata": {
      "needs_background": "light"
     },
     "output_type": "display_data"
    },
    {
     "name": "stdout",
     "output_type": "stream",
     "text": [
      "Wall time: 54.8 s\n"
     ]
    }
   ],
   "source": [
    "%%time\n",
    "clf = LogisticRegression(n_jobs=1, C=1e5, solver='lbfgs', multi_class='ovr', max_iter=1000)\n",
    "train_on_fasttext(df, clf)"
   ]
  },
  {
   "cell_type": "markdown",
   "metadata": {},
   "source": [
    "As we can see, due to imbalanced classes we make many false predictions for the minorities"
   ]
  },
  {
   "cell_type": "markdown",
   "metadata": {},
   "source": [
    "Let's try to use simple Logistic Regression with Bag of Words (Count Vectorizing)"
   ]
  },
  {
   "cell_type": "code",
   "execution_count": 23,
   "metadata": {},
   "outputs": [],
   "source": [
    "clf = LogisticRegression(n_jobs=1, C=100, solver='lbfgs', multi_class='ovr', max_iter=10000)\n",
    "vectorizer = CountVectorizer(analyzer=\"word\", tokenizer=nltk.word_tokenize, \n",
    "                             preprocessor=None, stop_words='english', max_features=3000)"
   ]
  },
  {
   "cell_type": "code",
   "execution_count": 24,
   "metadata": {},
   "outputs": [
    {
     "name": "stdout",
     "output_type": "stream",
     "text": [
      "              precision    recall  f1-score   support\n",
      "\n",
      "         TIC       0.88      0.96      0.92     26467\n",
      "         INV       0.74      0.55      0.63      4827\n",
      "          LP       0.56      0.31      0.40      1502\n",
      "         SER       0.68      0.47      0.55      2198\n",
      "\n",
      "    accuracy                           0.85     34994\n",
      "   macro avg       0.71      0.57      0.62     34994\n",
      "weighted avg       0.83      0.85      0.83     34994\n",
      "\n",
      "confusion matrix\n",
      " [[25540   505   200   222]\n",
      " [ 1871  2635   114   207]\n",
      " [  822   154   462    64]\n",
      " [  829   283    54  1032]]\n",
      "(row=expected, col=predicted)\n"
     ]
    },
    {
     "data": {
      "image/png": "[encoded data removed]",
      "text/plain": [
       "<Figure size 432x288 with 2 Axes>"
      ]
     },
     "metadata": {
      "needs_background": "light"
     },
     "output_type": "display_data"
    },
    {
     "name": "stdout",
     "output_type": "stream",
     "text": [
      "Wall time: 1min 15s\n"
     ]
    }
   ],
   "source": [
    "%%time\n",
    "train_on_count_vectorizer(df, clf, vectorizer)"
   ]
  },
  {
   "cell_type": "markdown",
   "metadata": {},
   "source": [
    "Results mostly the same as with using word embesddings but using mach less memory"
   ]
  },
  {
   "cell_type": "markdown",
   "metadata": {},
   "source": [
    "Also, we can see the most influental words for each class"
   ]
  },
  {
   "cell_type": "code",
   "execution_count": 25,
   "metadata": {},
   "outputs": [
    {
     "name": "stdout",
     "output_type": "stream",
     "text": [
      "SER\n"
     ]
    },
    {
     "data": {
      "text/plain": [
       "['.coms',\n",
       " 'saved',\n",
       " 'manufactured',\n",
       " 'sample',\n",
       " 'scheduling',\n",
       " 'automate',\n",
       " 'easy-to-use',\n",
       " 'safely',\n",
       " 'workflow',\n",
       " 'streamline',\n",
       " 'sms',\n",
       " 'packages',\n",
       " 'fish',\n",
       " 'categorized',\n",
       " 'mapping',\n",
       " 'night',\n",
       " 'basin',\n",
       " 'controlled',\n",
       " 'delicious',\n",
       " 'detect']"
      ]
     },
     "execution_count": 25,
     "metadata": {},
     "output_type": "execute_result"
    }
   ],
   "source": [
    "entity_type_id = 3\n",
    "print(df['target'].unique()[entity_type_id])\n",
    "most_influential_words(vectorizer, clf, entity_type_id, num_words=20)"
   ]
  },
  {
   "cell_type": "markdown",
   "metadata": {},
   "source": [
    "Let's try to use simple Neural Network"
   ]
  },
  {
   "cell_type": "code",
   "execution_count": 26,
   "metadata": {
    "scrolled": false
   },
   "outputs": [
    {
     "name": "stderr",
     "output_type": "stream",
     "text": [
      "WARNING: Logging before flag parsing goes to stderr.\n",
      "W1120 17:02:02.793893 22228 module_wrapper.py:139] From C:\\Users\\OSHASHLIUK\\Anaconda3\\lib\\site-packages\\keras\\backend\\tensorflow_backend.py:74: The name tf.get_default_graph is deprecated. Please use tf.compat.v1.get_default_graph instead.\n",
      "\n",
      "W1120 17:02:02.805892 22228 module_wrapper.py:139] From C:\\Users\\OSHASHLIUK\\Anaconda3\\lib\\site-packages\\keras\\backend\\tensorflow_backend.py:517: The name tf.placeholder is deprecated. Please use tf.compat.v1.placeholder instead.\n",
      "\n",
      "W1120 17:02:02.817892 22228 module_wrapper.py:139] From C:\\Users\\OSHASHLIUK\\Anaconda3\\lib\\site-packages\\keras\\backend\\tensorflow_backend.py:4138: The name tf.random_uniform is deprecated. Please use tf.random.uniform instead.\n",
      "\n",
      "W1120 17:02:02.831894 22228 module_wrapper.py:139] From C:\\Users\\OSHASHLIUK\\Anaconda3\\lib\\site-packages\\keras\\backend\\tensorflow_backend.py:133: The name tf.placeholder_with_default is deprecated. Please use tf.compat.v1.placeholder_with_default instead.\n",
      "\n",
      "W1120 17:02:02.837894 22228 deprecation.py:506] From C:\\Users\\OSHASHLIUK\\Anaconda3\\lib\\site-packages\\keras\\backend\\tensorflow_backend.py:3445: calling dropout (from tensorflow.python.ops.nn_ops) with keep_prob is deprecated and will be removed in a future version.\n",
      "Instructions for updating:\n",
      "Please use `rate` instead of `keep_prob`. Rate should be set to `rate = 1 - keep_prob`.\n",
      "W1120 17:02:02.877894 22228 module_wrapper.py:139] From C:\\Users\\OSHASHLIUK\\Anaconda3\\lib\\site-packages\\keras\\optimizers.py:790: The name tf.train.Optimizer is deprecated. Please use tf.compat.v1.train.Optimizer instead.\n",
      "\n",
      "W1120 17:02:02.895893 22228 module_wrapper.py:139] From C:\\Users\\OSHASHLIUK\\Anaconda3\\lib\\site-packages\\keras\\backend\\tensorflow_backend.py:3295: The name tf.log is deprecated. Please use tf.math.log instead.\n",
      "\n",
      "W1120 17:02:02.983894 22228 deprecation.py:323] From C:\\Users\\OSHASHLIUK\\Anaconda3\\lib\\site-packages\\tensorflow_core\\python\\ops\\math_grad.py:1424: where (from tensorflow.python.ops.array_ops) is deprecated and will be removed in a future version.\n",
      "Instructions for updating:\n",
      "Use tf.where in 2.0, which has the same broadcast rule as np.where\n",
      "W1120 17:02:03.059863 22228 module_wrapper.py:139] From C:\\Users\\OSHASHLIUK\\Anaconda3\\lib\\site-packages\\keras\\backend\\tensorflow_backend.py:986: The name tf.assign_add is deprecated. Please use tf.compat.v1.assign_add instead.\n",
      "\n"
     ]
    },
    {
     "name": "stdout",
     "output_type": "stream",
     "text": [
      "_________________________________________________________________\n",
      "Layer (type)                 Output Shape              Param #   \n",
      "=================================================================\n",
      "dense_1 (Dense)              (None, 512)               7680512   \n",
      "_________________________________________________________________\n",
      "activation_1 (Activation)    (None, 512)               0         \n",
      "_________________________________________________________________\n",
      "dropout_1 (Dropout)          (None, 512)               0         \n",
      "_________________________________________________________________\n",
      "dense_2 (Dense)              (None, 512)               262656    \n",
      "_________________________________________________________________\n",
      "activation_2 (Activation)    (None, 512)               0         \n",
      "_________________________________________________________________\n",
      "dropout_2 (Dropout)          (None, 512)               0         \n",
      "_________________________________________________________________\n",
      "dense_3 (Dense)              (None, 4)                 2052      \n",
      "_________________________________________________________________\n",
      "activation_3 (Activation)    (None, 4)                 0         \n",
      "=================================================================\n",
      "Total params: 7,945,220\n",
      "Trainable params: 7,945,220\n",
      "Non-trainable params: 0\n",
      "_________________________________________________________________\n"
     ]
    },
    {
     "name": "stderr",
     "output_type": "stream",
     "text": [
      "W1120 17:02:03.118863 22228 module_wrapper.py:139] From C:\\Users\\OSHASHLIUK\\Anaconda3\\lib\\site-packages\\keras\\backend\\tensorflow_backend.py:973: The name tf.assign is deprecated. Please use tf.compat.v1.assign instead.\n",
      "\n",
      "W1120 17:02:03.164895 22228 module_wrapper.py:139] From C:\\Users\\OSHASHLIUK\\Anaconda3\\lib\\site-packages\\keras\\backend\\tensorflow_backend.py:2741: The name tf.Session is deprecated. Please use tf.compat.v1.Session instead.\n",
      "\n",
      "W1120 17:02:03.176863 22228 module_wrapper.py:139] From C:\\Users\\OSHASHLIUK\\Anaconda3\\lib\\site-packages\\keras\\backend\\tensorflow_backend.py:174: The name tf.get_default_session is deprecated. Please use tf.compat.v1.get_default_session instead.\n",
      "\n",
      "W1120 17:02:03.176863 22228 module_wrapper.py:139] From C:\\Users\\OSHASHLIUK\\Anaconda3\\lib\\site-packages\\keras\\backend\\tensorflow_backend.py:181: The name tf.ConfigProto is deprecated. Please use tf.compat.v1.ConfigProto instead.\n",
      "\n"
     ]
    },
    {
     "name": "stdout",
     "output_type": "stream",
     "text": [
      "Train on 57155 samples, validate on 24496 samples\n",
      "Epoch 1/10\n"
     ]
    },
    {
     "name": "stderr",
     "output_type": "stream",
     "text": [
      "W1120 17:02:06.867685 22228 module_wrapper.py:139] From C:\\Users\\OSHASHLIUK\\Anaconda3\\lib\\site-packages\\keras\\backend\\tensorflow_backend.py:190: The name tf.global_variables is deprecated. Please use tf.compat.v1.global_variables instead.\n",
      "\n",
      "W1120 17:02:06.867685 22228 module_wrapper.py:139] From C:\\Users\\OSHASHLIUK\\Anaconda3\\lib\\site-packages\\keras\\backend\\tensorflow_backend.py:199: The name tf.is_variable_initialized is deprecated. Please use tf.compat.v1.is_variable_initialized instead.\n",
      "\n",
      "W1120 17:02:07.193352 22228 module_wrapper.py:139] From C:\\Users\\OSHASHLIUK\\Anaconda3\\lib\\site-packages\\keras\\backend\\tensorflow_backend.py:206: The name tf.variables_initializer is deprecated. Please use tf.compat.v1.variables_initializer instead.\n",
      "\n"
     ]
    },
    {
     "name": "stdout",
     "output_type": "stream",
     "text": [
      " - 17s - loss: 0.5341 - acc: 0.8413 - val_loss: 0.4670 - val_acc: 0.8593\n",
      "Epoch 2/10\n",
      " - 10s - loss: 0.2987 - acc: 0.9045 - val_loss: 0.5189 - val_acc: 0.8510\n",
      "Epoch 3/10\n",
      " - 10s - loss: 0.1116 - acc: 0.9656 - val_loss: 0.7912 - val_acc: 0.8413\n",
      "Epoch 4/10\n",
      " - 10s - loss: 0.0495 - acc: 0.9871 - val_loss: 0.9987 - val_acc: 0.8407\n",
      "Epoch 5/10\n",
      " - 10s - loss: 0.0380 - acc: 0.9921 - val_loss: 1.0705 - val_acc: 0.8368\n",
      "Epoch 6/10\n",
      " - 10s - loss: 0.0304 - acc: 0.9930 - val_loss: 1.1513 - val_acc: 0.8430\n",
      "Epoch 7/10\n",
      " - 10s - loss: 0.0303 - acc: 0.9932 - val_loss: 1.1823 - val_acc: 0.8384\n",
      "Epoch 8/10\n",
      " - 10s - loss: 0.0297 - acc: 0.9936 - val_loss: 1.2380 - val_acc: 0.8401\n",
      "Epoch 9/10\n",
      " - 10s - loss: 0.0264 - acc: 0.9937 - val_loss: 1.1978 - val_acc: 0.8405\n",
      "Epoch 10/10\n",
      " - 10s - loss: 0.0231 - acc: 0.9948 - val_loss: 1.2157 - val_acc: 0.8333\n",
      "Test accuracy: 0.8366291364131672\n",
      "              precision    recall  f1-score   support\n",
      "\n",
      "           0       0.63      0.59      0.61      4827\n",
      "           1       0.51      0.37      0.43      1502\n",
      "           2       0.63      0.50      0.55      2198\n",
      "           3       0.90      0.94      0.92     26467\n",
      "\n",
      "    accuracy                           0.84     34994\n",
      "   macro avg       0.67      0.60      0.63     34994\n",
      "weighted avg       0.83      0.84      0.83     34994\n",
      "\n",
      "confusion matrix\n",
      " [[ 2839   171   247  1570]\n",
      " [  216   549    73   664]\n",
      " [  373    67  1093   665]\n",
      " [ 1051   292   328 24796]]\n"
     ]
    },
    {
     "data": {
      "image/png": "[encoded data removed]",
      "text/plain": [
       "<Figure size 432x288 with 2 Axes>"
      ]
     },
     "metadata": {
      "needs_background": "light"
     },
     "output_type": "display_data"
    },
    {
     "name": "stdout",
     "output_type": "stream",
     "text": [
      "Wall time: 2min 16s\n"
     ]
    }
   ],
   "source": [
    "%%time\n",
    "train_simple_neural_network(df)"
   ]
  },
  {
   "cell_type": "markdown",
   "metadata": {},
   "source": [
    "Results mostly the same as in the previous models. Probably we should complicate the model or use another tricks such as SMOTE"
   ]
  },
  {
   "cell_type": "markdown",
   "metadata": {},
   "source": [
    "Let's try to use Random Forest Classifier with Bag of Words (Count Vectorizing)"
   ]
  },
  {
   "cell_type": "code",
   "execution_count": 27,
   "metadata": {},
   "outputs": [
    {
     "name": "stdout",
     "output_type": "stream",
     "text": [
      "              precision    recall  f1-score   support\n",
      "\n",
      "         TIC       0.91      0.84      0.87     26467\n",
      "         INV       0.63      0.60      0.61      4827\n",
      "          LP       0.26      0.46      0.33      1502\n",
      "         SER       0.42      0.59      0.49      2198\n",
      "\n",
      "    accuracy                           0.78     34994\n",
      "   macro avg       0.55      0.62      0.58     34994\n",
      "weighted avg       0.81      0.78      0.79     34994\n",
      "\n",
      "confusion matrix\n",
      " [[22337  1243  1652  1235]\n",
      " [ 1251  2899   236   441]\n",
      " [  517   149   695   141]\n",
      " [  485   338    81  1294]]\n",
      "(row=expected, col=predicted)\n"
     ]
    },
    {
     "data": {
      "image/png": "[encoded data removed]",
      "text/plain": [
       "<Figure size 432x288 with 2 Axes>"
      ]
     },
     "metadata": {
      "needs_background": "light"
     },
     "output_type": "display_data"
    },
    {
     "name": "stdout",
     "output_type": "stream",
     "text": [
      "Wall time: 37.6 s\n"
     ]
    }
   ],
   "source": [
    "%%time\n",
    "clf = RandomForestClassifier(bootstrap=True,\n",
    "                             class_weight='balanced',\n",
    "                             criterion='gini',\n",
    "                             max_depth=8,\n",
    "                             max_features='auto',\n",
    "                             max_leaf_nodes=None,\n",
    "                             min_impurity_decrease=0.0,\n",
    "                             min_impurity_split=None,\n",
    "                             min_samples_leaf=4,\n",
    "                             min_samples_split=10,\n",
    "                             min_weight_fraction_leaf=0.0,\n",
    "                             n_estimators=300,\n",
    "                             oob_score=False,\n",
    "                             random_state=42,\n",
    "                             verbose=0,\n",
    "                             warm_start=False)   \n",
    "train_on_count_vectorizer(df, clf, vectorizer)"
   ]
  },
  {
   "cell_type": "markdown",
   "metadata": {},
   "source": [
    "Metrics are slightly worse than previous models, but the recall is much higher than in previous models, i.e. we are much more likely to predict classes with less representation"
   ]
  },
  {
   "cell_type": "markdown",
   "metadata": {},
   "source": [
    "Let's try to use Light GBM with Bag of Words (Count Vectorizing)"
   ]
  },
  {
   "cell_type": "code",
   "execution_count": 28,
   "metadata": {},
   "outputs": [
    {
     "name": "stdout",
     "output_type": "stream",
     "text": [
      "              precision    recall  f1-score   support\n",
      "\n",
      "         TIC       0.94      0.82      0.88     26467\n",
      "         INV       0.60      0.66      0.63      4827\n",
      "          LP       0.28      0.64      0.39      1502\n",
      "         SER       0.46      0.67      0.54      2198\n",
      "\n",
      "    accuracy                           0.78     34994\n",
      "   macro avg       0.57      0.70      0.61     34994\n",
      "weighted avg       0.84      0.78      0.80     34994\n",
      "\n",
      "confusion matrix\n",
      " [[21748  1696  1893  1130]\n",
      " [  780  3205   372   470]\n",
      " [  261   153   957   131]\n",
      " [  247   317   172  1462]]\n",
      "(row=expected, col=predicted)\n"
     ]
    },
    {
     "data": {
      "image/png": "[encoded data removed]",
      "text/plain": [
       "<Figure size 432x288 with 2 Axes>"
      ]
     },
     "metadata": {
      "needs_background": "light"
     },
     "output_type": "display_data"
    },
    {
     "name": "stdout",
     "output_type": "stream",
     "text": [
      "Wall time: 7min 17s\n"
     ]
    }
   ],
   "source": [
    "%%time\n",
    "clf = LGBMClassifier(\n",
    "    nthread=4,\n",
    "    objective='multiclass',\n",
    "    class_weight='balanced',\n",
    "    n_estimators=10000,\n",
    "    learning_rate=0.02,\n",
    "    num_leaves=32,\n",
    "    colsample_bytree=0.9497036,\n",
    "    subsample=0.8715623,\n",
    "    max_depth=8,\n",
    "    reg_alpha=0.04,\n",
    "    reg_lambda=0.073,\n",
    "    min_split_gain=0.0222415,\n",
    "    min_child_weight=40,\n",
    "    silent=-1,\n",
    "    verbose=-1\n",
    ")  \n",
    "vectorizer = CountVectorizer(dtype=np.float32, analyzer=\"word\", tokenizer=nltk.word_tokenize, \n",
    "                             preprocessor=None, stop_words='english', max_features=3000)\n",
    "train_on_count_vectorizer(df, clf, vectorizer)"
   ]
  },
  {
   "cell_type": "markdown",
   "metadata": {},
   "source": [
    "And results is better for prediction minority classes\n"
   ]
  },
  {
   "cell_type": "markdown",
   "metadata": {},
   "source": [
    "# Conclusions"
   ]
  },
  {
   "cell_type": "markdown",
   "metadata": {},
   "source": [
    "For the baseline models we have try several models with only the basic text preprocessing and without generating new features. On this data, as for me, the Random Forest and Light GBM work better because this algorithms provide us the better predictions for minority classes. So, I propose next steps:\n",
    "1. Refactor the code of the Primary Entity Type Classifier to use pb_ml library\n",
    "2. At first sight the predicting of the Primary Investor Type and Primary Service Provider Type are very similar to predicting Primary Entity Type (only the data aquisition and labels to predict are diffirent), so create one pipline for all of this classifiers\n",
    "3. Use Light GBM model as baseline model\n",
    "4. Try to use derivatives models from Random Forest (such as various boostings) for improving the baseline model\n",
    "5. Use some tricks sach as upsampling with SMOTE, ensemble Cross-Validation and feature enginiering for improoving the results"
   ]
  }
 ],
 "metadata": {
  "kernelspec": {
   "display_name": "Python 3",
   "language": "python",
   "name": "python3"
  },
  "language_info": {
   "codemirror_mode": {
    "name": "ipython",
    "version": 3
   },
   "file_extension": ".py",
   "mimetype": "text/x-python",
   "name": "python",
   "nbconvert_exporter": "python",
   "pygments_lexer": "ipython3",
   "version": "3.7.3"
  }
 },
 "nbformat": 4,
 "nbformat_minor": 2
}
