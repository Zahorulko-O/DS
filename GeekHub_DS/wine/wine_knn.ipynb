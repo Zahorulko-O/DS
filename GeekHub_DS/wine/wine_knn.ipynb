{
 "cells": [
  {
   "cell_type": "markdown",
   "metadata": {},
   "source": [
    "#  Построить модели для классификации или регресии "
   ]
  },
  {
   "cell_type": "code",
   "execution_count": 1,
   "metadata": {},
   "outputs": [],
   "source": [
    "#  KNN, LMNN, ENN,"
   ]
  },
  {
   "cell_type": "code",
   "execution_count": 2,
   "metadata": {},
   "outputs": [
    {
     "name": "stdout",
     "output_type": "stream",
     "text": [
      "Requirement already satisfied: pylmnn in c:\\users\\olya\\appdata\\local\\programs\\python\\python37\\lib\\site-packages (1.6.3)\n",
      "Requirement already satisfied: numpy>=1.11 in c:\\users\\olya\\appdata\\local\\programs\\python\\python37\\lib\\site-packages (from pylmnn) (1.17.4)\n",
      "Requirement already satisfied: scipy>=0.18 in c:\\users\\olya\\appdata\\local\\programs\\python\\python37\\lib\\site-packages (from pylmnn) (1.3.3)\n",
      "Requirement already satisfied: scikit_learn>=0.18 in c:\\users\\olya\\appdata\\local\\programs\\python\\python37\\lib\\site-packages (from pylmnn) (0.21.3)\n",
      "Requirement already satisfied: joblib>=0.11 in c:\\users\\olya\\appdata\\local\\programs\\python\\python37\\lib\\site-packages (from scikit_learn>=0.18->pylmnn) (0.14.0)\n"
     ]
    },
    {
     "name": "stderr",
     "output_type": "stream",
     "text": [
      "You are using pip version 10.0.1, however version 20.3.3 is available.\n",
      "You should consider upgrading via the 'python -m pip install --upgrade pip' command.\n"
     ]
    },
    {
     "name": "stdout",
     "output_type": "stream",
     "text": [
      "Requirement already satisfied: enn in c:\\users\\olya\\appdata\\local\\programs\\python\\python37\\lib\\site-packages (0.14)\n"
     ]
    },
    {
     "name": "stderr",
     "output_type": "stream",
     "text": [
      "You are using pip version 10.0.1, however version 20.3.3 is available.\n",
      "You should consider upgrading via the 'python -m pip install --upgrade pip' command.\n"
     ]
    },
    {
     "name": "stdout",
     "output_type": "stream",
     "text": [
      "Requirement already satisfied: matplotlib in c:\\users\\olya\\appdata\\local\\programs\\python\\python37\\lib\\site-packages (3.1.2)\n",
      "Requirement already satisfied: cycler>=0.10 in c:\\users\\olya\\appdata\\local\\programs\\python\\python37\\lib\\site-packages (from matplotlib) (0.10.0)\n",
      "Requirement already satisfied: kiwisolver>=1.0.1 in c:\\users\\olya\\appdata\\local\\programs\\python\\python37\\lib\\site-packages (from matplotlib) (1.1.0)\n",
      "Requirement already satisfied: python-dateutil>=2.1 in c:\\users\\olya\\appdata\\local\\programs\\python\\python37\\lib\\site-packages (from matplotlib) (2.8.1)\n",
      "Requirement already satisfied: numpy>=1.11 in c:\\users\\olya\\appdata\\local\\programs\\python\\python37\\lib\\site-packages (from matplotlib) (1.17.4)\n",
      "Requirement already satisfied: pyparsing!=2.0.4,!=2.1.2,!=2.1.6,>=2.0.1 in c:\\users\\olya\\appdata\\local\\programs\\python\\python37\\lib\\site-packages (from matplotlib) (2.4.5)\n",
      "Requirement already satisfied: six in c:\\users\\olya\\appdata\\local\\programs\\python\\python37\\lib\\site-packages (from cycler>=0.10->matplotlib) (1.13.0)\n",
      "Requirement already satisfied: setuptools in c:\\users\\olya\\appdata\\local\\programs\\python\\python37\\lib\\site-packages (from kiwisolver>=1.0.1->matplotlib) (39.0.1)\n"
     ]
    },
    {
     "name": "stderr",
     "output_type": "stream",
     "text": [
      "You are using pip version 10.0.1, however version 20.3.3 is available.\n",
      "You should consider upgrading via the 'python -m pip install --upgrade pip' command.\n"
     ]
    }
   ],
   "source": [
    "#install packets\n",
    "!pip3 install pylmnn\n",
    "!pip3 install enn\n",
    "!pip3 install matplotlib"
   ]
  },
  {
   "cell_type": "code",
   "execution_count": 9,
   "metadata": {},
   "outputs": [
    {
     "name": "stdout",
     "output_type": "stream",
     "text": [
      "Collecting GPyOpt\n",
      "  Downloading GPyOpt-1.2.6.tar.gz (56 kB)\n",
      "Requirement already satisfied: numpy>=1.7 in c:\\programdata\\anaconda3\\lib\\site-packages (from GPyOpt) (1.18.1)\n",
      "Requirement already satisfied: scipy>=0.16 in c:\\programdata\\anaconda3\\lib\\site-packages (from GPyOpt) (1.4.1)\n",
      "Collecting GPy>=1.8\n",
      "  Downloading GPy-1.9.9-cp37-cp37m-win_amd64.whl (1.5 MB)\n",
      "Requirement already satisfied: six in c:\\programdata\\anaconda3\\lib\\site-packages (from GPy>=1.8->GPyOpt) (1.14.0)\n",
      "Collecting paramz>=0.9.0\n",
      "  Downloading paramz-0.9.5.tar.gz (71 kB)\n",
      "Requirement already satisfied: decorator>=4.0.10 in c:\\programdata\\anaconda3\\lib\\site-packages (from paramz>=0.9.0->GPy>=1.8->GPyOpt) (4.4.1)\n",
      "Building wheels for collected packages: GPyOpt, paramz\n",
      "  Building wheel for GPyOpt (setup.py): started\n",
      "  Building wheel for GPyOpt (setup.py): finished with status 'done'\n",
      "  Created wheel for GPyOpt: filename=GPyOpt-1.2.6-py3-none-any.whl size=83628 sha256=13120957cd5c43345bef3f205d0037c76d9fdf559cc19322655e7e57d5f53081\n",
      "  Stored in directory: c:\\users\\olya\\appdata\\local\\pip\\cache\\wheels\\e6\\fa\\d1\\f9652b5af79f769a0ab74dbead7c7aea9a93c6bc74543fd3ec\n",
      "  Building wheel for paramz (setup.py): started\n",
      "  Building wheel for paramz (setup.py): finished with status 'done'\n",
      "  Created wheel for paramz: filename=paramz-0.9.5-py3-none-any.whl size=102556 sha256=1b5ed758f40eae4487680b3579dabcbb9961162f979934763a8ea810c9031b7e\n",
      "  Stored in directory: c:\\users\\olya\\appdata\\local\\pip\\cache\\wheels\\c8\\95\\f5\\ce28482da28162e6028c4b3a32c41d147395825b3cd62bc810\n",
      "Successfully built GPyOpt paramz\n",
      "Installing collected packages: paramz, GPy, GPyOpt\n",
      "Successfully installed GPy-1.9.9 GPyOpt-1.2.6 paramz-0.9.5\n",
      "Note: you may need to restart the kernel to use updated packages.\n"
     ]
    }
   ],
   "source": [
    "pip install GPyOpt"
   ]
  },
  {
   "cell_type": "code",
   "execution_count": 10,
   "metadata": {},
   "outputs": [],
   "source": [
    "import numpy as np\n",
    "import pandas as pd\n",
    "import matplotlib\n",
    "\n",
    "from enn.enn import ENN\n",
    "from pylmnn import LargeMarginNearestNeighbor as LMNN\n",
    "from scipy.spatial.distance import euclidean, mahalanobis\n",
    "from sklearn.neighbors import DistanceMetric\n",
    "from sklearn.metrics import accuracy_score, f1_score, precision_score, recall_score, roc_auc_score\n",
    "from sklearn.model_selection import cross_val_score, GridSearchCV, train_test_split\n",
    "from sklearn.neighbors import KNeighborsClassifier, KNeighborsRegressor, RadiusNeighborsRegressor, NearestNeighbors\n",
    "\n",
    "# matplotlib.style.use('seaborn')\n"
   ]
  },
  {
   "cell_type": "markdown",
   "metadata": {},
   "source": [
    "## Построить модели для классификации или регресии для датасета "
   ]
  },
  {
   "cell_type": "code",
   "execution_count": 11,
   "metadata": {},
   "outputs": [],
   "source": [
    "from glob import glob\n",
    "import os\n",
    "import glob\n",
    "import pickle\n",
    "#pip install tqdm\n",
    "from tqdm import tqdm_notebook\n",
    "import numpy as np\n",
    "import pandas as pd\n",
    "from scipy.sparse import csr_matrix\n",
    "\n",
    "df = pd.DataFrame()  \n",
    "\n",
    "PATH_TO_DATA = 'HW_13_wine_dataset'\n",
    "\n",
    "pd.set_option('precision', 3)\n",
    "\n",
    "#csv_file_path = glob.glob(os.path.join(\"HW_13_wine_dataset\", \"*.csv\"))\n",
    "#for file in csv_file_path:\n",
    "#    df = df.append(pd.read_csv(file, sep=';'))\n",
    "#    df.head()\n",
    "#    print(df)"
   ]
  },
  {
   "cell_type": "markdown",
   "metadata": {},
   "source": [
    "# wine_red"
   ]
  },
  {
   "cell_type": "code",
   "execution_count": 12,
   "metadata": {},
   "outputs": [
    {
     "data": {
      "text/html": [
       "<div>\n",
       "<style scoped>\n",
       "    .dataframe tbody tr th:only-of-type {\n",
       "        vertical-align: middle;\n",
       "    }\n",
       "\n",
       "    .dataframe tbody tr th {\n",
       "        vertical-align: top;\n",
       "    }\n",
       "\n",
       "    .dataframe thead th {\n",
       "        text-align: right;\n",
       "    }\n",
       "</style>\n",
       "<table border=\"1\" class=\"dataframe\">\n",
       "  <thead>\n",
       "    <tr style=\"text-align: right;\">\n",
       "      <th></th>\n",
       "      <th>fixed acidity</th>\n",
       "      <th>volatile acidity</th>\n",
       "      <th>citric acid</th>\n",
       "      <th>residual sugar</th>\n",
       "      <th>chlorides</th>\n",
       "      <th>free sulfur dioxide</th>\n",
       "      <th>total sulfur dioxide</th>\n",
       "      <th>density</th>\n",
       "      <th>pH</th>\n",
       "      <th>sulphates</th>\n",
       "      <th>alcohol</th>\n",
       "      <th>quality</th>\n",
       "    </tr>\n",
       "  </thead>\n",
       "  <tbody>\n",
       "    <tr>\n",
       "      <th>0</th>\n",
       "      <td>7.4</td>\n",
       "      <td>0.700</td>\n",
       "      <td>0.00</td>\n",
       "      <td>1.9</td>\n",
       "      <td>0.076</td>\n",
       "      <td>11.0</td>\n",
       "      <td>34.0</td>\n",
       "      <td>0.998</td>\n",
       "      <td>3.51</td>\n",
       "      <td>0.56</td>\n",
       "      <td>9.4</td>\n",
       "      <td>5</td>\n",
       "    </tr>\n",
       "    <tr>\n",
       "      <th>1</th>\n",
       "      <td>7.8</td>\n",
       "      <td>0.880</td>\n",
       "      <td>0.00</td>\n",
       "      <td>2.6</td>\n",
       "      <td>0.098</td>\n",
       "      <td>25.0</td>\n",
       "      <td>67.0</td>\n",
       "      <td>0.997</td>\n",
       "      <td>3.20</td>\n",
       "      <td>0.68</td>\n",
       "      <td>9.8</td>\n",
       "      <td>5</td>\n",
       "    </tr>\n",
       "    <tr>\n",
       "      <th>2</th>\n",
       "      <td>7.8</td>\n",
       "      <td>0.760</td>\n",
       "      <td>0.04</td>\n",
       "      <td>2.3</td>\n",
       "      <td>0.092</td>\n",
       "      <td>15.0</td>\n",
       "      <td>54.0</td>\n",
       "      <td>0.997</td>\n",
       "      <td>3.26</td>\n",
       "      <td>0.65</td>\n",
       "      <td>9.8</td>\n",
       "      <td>5</td>\n",
       "    </tr>\n",
       "    <tr>\n",
       "      <th>3</th>\n",
       "      <td>11.2</td>\n",
       "      <td>0.280</td>\n",
       "      <td>0.56</td>\n",
       "      <td>1.9</td>\n",
       "      <td>0.075</td>\n",
       "      <td>17.0</td>\n",
       "      <td>60.0</td>\n",
       "      <td>0.998</td>\n",
       "      <td>3.16</td>\n",
       "      <td>0.58</td>\n",
       "      <td>9.8</td>\n",
       "      <td>6</td>\n",
       "    </tr>\n",
       "    <tr>\n",
       "      <th>4</th>\n",
       "      <td>7.4</td>\n",
       "      <td>0.700</td>\n",
       "      <td>0.00</td>\n",
       "      <td>1.9</td>\n",
       "      <td>0.076</td>\n",
       "      <td>11.0</td>\n",
       "      <td>34.0</td>\n",
       "      <td>0.998</td>\n",
       "      <td>3.51</td>\n",
       "      <td>0.56</td>\n",
       "      <td>9.4</td>\n",
       "      <td>5</td>\n",
       "    </tr>\n",
       "    <tr>\n",
       "      <th>...</th>\n",
       "      <td>...</td>\n",
       "      <td>...</td>\n",
       "      <td>...</td>\n",
       "      <td>...</td>\n",
       "      <td>...</td>\n",
       "      <td>...</td>\n",
       "      <td>...</td>\n",
       "      <td>...</td>\n",
       "      <td>...</td>\n",
       "      <td>...</td>\n",
       "      <td>...</td>\n",
       "      <td>...</td>\n",
       "    </tr>\n",
       "    <tr>\n",
       "      <th>1594</th>\n",
       "      <td>6.2</td>\n",
       "      <td>0.600</td>\n",
       "      <td>0.08</td>\n",
       "      <td>2.0</td>\n",
       "      <td>0.090</td>\n",
       "      <td>32.0</td>\n",
       "      <td>44.0</td>\n",
       "      <td>0.995</td>\n",
       "      <td>3.45</td>\n",
       "      <td>0.58</td>\n",
       "      <td>10.5</td>\n",
       "      <td>5</td>\n",
       "    </tr>\n",
       "    <tr>\n",
       "      <th>1595</th>\n",
       "      <td>5.9</td>\n",
       "      <td>0.550</td>\n",
       "      <td>0.10</td>\n",
       "      <td>2.2</td>\n",
       "      <td>0.062</td>\n",
       "      <td>39.0</td>\n",
       "      <td>51.0</td>\n",
       "      <td>0.995</td>\n",
       "      <td>3.52</td>\n",
       "      <td>0.76</td>\n",
       "      <td>11.2</td>\n",
       "      <td>6</td>\n",
       "    </tr>\n",
       "    <tr>\n",
       "      <th>1596</th>\n",
       "      <td>6.3</td>\n",
       "      <td>0.510</td>\n",
       "      <td>0.13</td>\n",
       "      <td>2.3</td>\n",
       "      <td>0.076</td>\n",
       "      <td>29.0</td>\n",
       "      <td>40.0</td>\n",
       "      <td>0.996</td>\n",
       "      <td>3.42</td>\n",
       "      <td>0.75</td>\n",
       "      <td>11.0</td>\n",
       "      <td>6</td>\n",
       "    </tr>\n",
       "    <tr>\n",
       "      <th>1597</th>\n",
       "      <td>5.9</td>\n",
       "      <td>0.645</td>\n",
       "      <td>0.12</td>\n",
       "      <td>2.0</td>\n",
       "      <td>0.075</td>\n",
       "      <td>32.0</td>\n",
       "      <td>44.0</td>\n",
       "      <td>0.995</td>\n",
       "      <td>3.57</td>\n",
       "      <td>0.71</td>\n",
       "      <td>10.2</td>\n",
       "      <td>5</td>\n",
       "    </tr>\n",
       "    <tr>\n",
       "      <th>1598</th>\n",
       "      <td>6.0</td>\n",
       "      <td>0.310</td>\n",
       "      <td>0.47</td>\n",
       "      <td>3.6</td>\n",
       "      <td>0.067</td>\n",
       "      <td>18.0</td>\n",
       "      <td>42.0</td>\n",
       "      <td>0.995</td>\n",
       "      <td>3.39</td>\n",
       "      <td>0.66</td>\n",
       "      <td>11.0</td>\n",
       "      <td>6</td>\n",
       "    </tr>\n",
       "  </tbody>\n",
       "</table>\n",
       "<p>1599 rows × 12 columns</p>\n",
       "</div>"
      ],
      "text/plain": [
       "      fixed acidity  volatile acidity  citric acid  residual sugar  chlorides  \\\n",
       "0               7.4             0.700         0.00             1.9      0.076   \n",
       "1               7.8             0.880         0.00             2.6      0.098   \n",
       "2               7.8             0.760         0.04             2.3      0.092   \n",
       "3              11.2             0.280         0.56             1.9      0.075   \n",
       "4               7.4             0.700         0.00             1.9      0.076   \n",
       "...             ...               ...          ...             ...        ...   \n",
       "1594            6.2             0.600         0.08             2.0      0.090   \n",
       "1595            5.9             0.550         0.10             2.2      0.062   \n",
       "1596            6.3             0.510         0.13             2.3      0.076   \n",
       "1597            5.9             0.645         0.12             2.0      0.075   \n",
       "1598            6.0             0.310         0.47             3.6      0.067   \n",
       "\n",
       "      free sulfur dioxide  total sulfur dioxide  density    pH  sulphates  \\\n",
       "0                    11.0                  34.0    0.998  3.51       0.56   \n",
       "1                    25.0                  67.0    0.997  3.20       0.68   \n",
       "2                    15.0                  54.0    0.997  3.26       0.65   \n",
       "3                    17.0                  60.0    0.998  3.16       0.58   \n",
       "4                    11.0                  34.0    0.998  3.51       0.56   \n",
       "...                   ...                   ...      ...   ...        ...   \n",
       "1594                 32.0                  44.0    0.995  3.45       0.58   \n",
       "1595                 39.0                  51.0    0.995  3.52       0.76   \n",
       "1596                 29.0                  40.0    0.996  3.42       0.75   \n",
       "1597                 32.0                  44.0    0.995  3.57       0.71   \n",
       "1598                 18.0                  42.0    0.995  3.39       0.66   \n",
       "\n",
       "      alcohol  quality  \n",
       "0         9.4        5  \n",
       "1         9.8        5  \n",
       "2         9.8        5  \n",
       "3         9.8        6  \n",
       "4         9.4        5  \n",
       "...       ...      ...  \n",
       "1594     10.5        5  \n",
       "1595     11.2        6  \n",
       "1596     11.0        6  \n",
       "1597     10.2        5  \n",
       "1598     11.0        6  \n",
       "\n",
       "[1599 rows x 12 columns]"
      ]
     },
     "execution_count": 12,
     "metadata": {},
     "output_type": "execute_result"
    }
   ],
   "source": [
    "csv_file_path_1 = glob.glob(os.path.join( \"HW_13_wine_dataset\", \"winequality-red.csv\"))\n",
    "for file in csv_file_path_1:\n",
    "    df_wine_red = df.append(pd.read_csv(file, sep=';'))\n",
    "    df_wine_red.head()\n",
    "    \n",
    "df_wine_red"
   ]
  },
  {
   "cell_type": "code",
   "execution_count": 13,
   "metadata": {},
   "outputs": [
    {
     "data": {
      "text/plain": [
       "(1599, 12)"
      ]
     },
     "execution_count": 13,
     "metadata": {},
     "output_type": "execute_result"
    }
   ],
   "source": [
    "df_wine_red.shape"
   ]
  },
  {
   "cell_type": "code",
   "execution_count": 14,
   "metadata": {},
   "outputs": [
    {
     "data": {
      "text/html": [
       "<div>\n",
       "<style scoped>\n",
       "    .dataframe tbody tr th:only-of-type {\n",
       "        vertical-align: middle;\n",
       "    }\n",
       "\n",
       "    .dataframe tbody tr th {\n",
       "        vertical-align: top;\n",
       "    }\n",
       "\n",
       "    .dataframe thead th {\n",
       "        text-align: right;\n",
       "    }\n",
       "</style>\n",
       "<table border=\"1\" class=\"dataframe\">\n",
       "  <thead>\n",
       "    <tr style=\"text-align: right;\">\n",
       "      <th></th>\n",
       "      <th>fixed acidity</th>\n",
       "      <th>volatile acidity</th>\n",
       "      <th>citric acid</th>\n",
       "      <th>residual sugar</th>\n",
       "      <th>chlorides</th>\n",
       "      <th>free sulfur dioxide</th>\n",
       "      <th>total sulfur dioxide</th>\n",
       "      <th>density</th>\n",
       "      <th>pH</th>\n",
       "      <th>sulphates</th>\n",
       "      <th>alcohol</th>\n",
       "      <th>quality</th>\n",
       "    </tr>\n",
       "  </thead>\n",
       "  <tbody>\n",
       "    <tr>\n",
       "      <th>count</th>\n",
       "      <td>1599.000</td>\n",
       "      <td>1599.000</td>\n",
       "      <td>1599.000</td>\n",
       "      <td>1599.000</td>\n",
       "      <td>1599.000</td>\n",
       "      <td>1599.000</td>\n",
       "      <td>1599.000</td>\n",
       "      <td>1599.000</td>\n",
       "      <td>1599.000</td>\n",
       "      <td>1599.000</td>\n",
       "      <td>1599.000</td>\n",
       "      <td>1599.000</td>\n",
       "    </tr>\n",
       "    <tr>\n",
       "      <th>mean</th>\n",
       "      <td>8.320</td>\n",
       "      <td>0.528</td>\n",
       "      <td>0.271</td>\n",
       "      <td>2.539</td>\n",
       "      <td>0.087</td>\n",
       "      <td>15.875</td>\n",
       "      <td>46.468</td>\n",
       "      <td>0.997</td>\n",
       "      <td>3.311</td>\n",
       "      <td>0.658</td>\n",
       "      <td>10.423</td>\n",
       "      <td>5.636</td>\n",
       "    </tr>\n",
       "    <tr>\n",
       "      <th>std</th>\n",
       "      <td>1.741</td>\n",
       "      <td>0.179</td>\n",
       "      <td>0.195</td>\n",
       "      <td>1.410</td>\n",
       "      <td>0.047</td>\n",
       "      <td>10.460</td>\n",
       "      <td>32.895</td>\n",
       "      <td>0.002</td>\n",
       "      <td>0.154</td>\n",
       "      <td>0.170</td>\n",
       "      <td>1.066</td>\n",
       "      <td>0.808</td>\n",
       "    </tr>\n",
       "    <tr>\n",
       "      <th>min</th>\n",
       "      <td>4.600</td>\n",
       "      <td>0.120</td>\n",
       "      <td>0.000</td>\n",
       "      <td>0.900</td>\n",
       "      <td>0.012</td>\n",
       "      <td>1.000</td>\n",
       "      <td>6.000</td>\n",
       "      <td>0.990</td>\n",
       "      <td>2.740</td>\n",
       "      <td>0.330</td>\n",
       "      <td>8.400</td>\n",
       "      <td>3.000</td>\n",
       "    </tr>\n",
       "    <tr>\n",
       "      <th>25%</th>\n",
       "      <td>7.100</td>\n",
       "      <td>0.390</td>\n",
       "      <td>0.090</td>\n",
       "      <td>1.900</td>\n",
       "      <td>0.070</td>\n",
       "      <td>7.000</td>\n",
       "      <td>22.000</td>\n",
       "      <td>0.996</td>\n",
       "      <td>3.210</td>\n",
       "      <td>0.550</td>\n",
       "      <td>9.500</td>\n",
       "      <td>5.000</td>\n",
       "    </tr>\n",
       "    <tr>\n",
       "      <th>50%</th>\n",
       "      <td>7.900</td>\n",
       "      <td>0.520</td>\n",
       "      <td>0.260</td>\n",
       "      <td>2.200</td>\n",
       "      <td>0.079</td>\n",
       "      <td>14.000</td>\n",
       "      <td>38.000</td>\n",
       "      <td>0.997</td>\n",
       "      <td>3.310</td>\n",
       "      <td>0.620</td>\n",
       "      <td>10.200</td>\n",
       "      <td>6.000</td>\n",
       "    </tr>\n",
       "    <tr>\n",
       "      <th>75%</th>\n",
       "      <td>9.200</td>\n",
       "      <td>0.640</td>\n",
       "      <td>0.420</td>\n",
       "      <td>2.600</td>\n",
       "      <td>0.090</td>\n",
       "      <td>21.000</td>\n",
       "      <td>62.000</td>\n",
       "      <td>0.998</td>\n",
       "      <td>3.400</td>\n",
       "      <td>0.730</td>\n",
       "      <td>11.100</td>\n",
       "      <td>6.000</td>\n",
       "    </tr>\n",
       "    <tr>\n",
       "      <th>max</th>\n",
       "      <td>15.900</td>\n",
       "      <td>1.580</td>\n",
       "      <td>1.000</td>\n",
       "      <td>15.500</td>\n",
       "      <td>0.611</td>\n",
       "      <td>72.000</td>\n",
       "      <td>289.000</td>\n",
       "      <td>1.004</td>\n",
       "      <td>4.010</td>\n",
       "      <td>2.000</td>\n",
       "      <td>14.900</td>\n",
       "      <td>8.000</td>\n",
       "    </tr>\n",
       "  </tbody>\n",
       "</table>\n",
       "</div>"
      ],
      "text/plain": [
       "       fixed acidity  volatile acidity  citric acid  residual sugar  \\\n",
       "count       1599.000          1599.000     1599.000        1599.000   \n",
       "mean           8.320             0.528        0.271           2.539   \n",
       "std            1.741             0.179        0.195           1.410   \n",
       "min            4.600             0.120        0.000           0.900   \n",
       "25%            7.100             0.390        0.090           1.900   \n",
       "50%            7.900             0.520        0.260           2.200   \n",
       "75%            9.200             0.640        0.420           2.600   \n",
       "max           15.900             1.580        1.000          15.500   \n",
       "\n",
       "       chlorides  free sulfur dioxide  total sulfur dioxide   density  \\\n",
       "count   1599.000             1599.000              1599.000  1599.000   \n",
       "mean       0.087               15.875                46.468     0.997   \n",
       "std        0.047               10.460                32.895     0.002   \n",
       "min        0.012                1.000                 6.000     0.990   \n",
       "25%        0.070                7.000                22.000     0.996   \n",
       "50%        0.079               14.000                38.000     0.997   \n",
       "75%        0.090               21.000                62.000     0.998   \n",
       "max        0.611               72.000               289.000     1.004   \n",
       "\n",
       "             pH  sulphates   alcohol   quality  \n",
       "count  1599.000   1599.000  1599.000  1599.000  \n",
       "mean      3.311      0.658    10.423     5.636  \n",
       "std       0.154      0.170     1.066     0.808  \n",
       "min       2.740      0.330     8.400     3.000  \n",
       "25%       3.210      0.550     9.500     5.000  \n",
       "50%       3.310      0.620    10.200     6.000  \n",
       "75%       3.400      0.730    11.100     6.000  \n",
       "max       4.010      2.000    14.900     8.000  "
      ]
     },
     "execution_count": 14,
     "metadata": {},
     "output_type": "execute_result"
    }
   ],
   "source": [
    "df_wine_red.describe()"
   ]
  },
  {
   "cell_type": "code",
   "execution_count": 15,
   "metadata": {},
   "outputs": [
    {
     "data": {
      "text/plain": [
       "quality\n",
       "3     10\n",
       "4     53\n",
       "5    681\n",
       "6    638\n",
       "7    199\n",
       "8     18\n",
       "Name: quality, dtype: int64"
      ]
     },
     "execution_count": 15,
     "metadata": {},
     "output_type": "execute_result"
    }
   ],
   "source": [
    "quality = df_wine_red['quality'].groupby(df_wine_red['quality']).count()\n",
    "quality"
   ]
  },
  {
   "cell_type": "code",
   "execution_count": 16,
   "metadata": {},
   "outputs": [
    {
     "data": {
      "image/png": "[encoded data removed]",
      "text/plain": [
       "<Figure size 432x288 with 1 Axes>"
      ]
     },
     "metadata": {
      "needs_background": "light"
     },
     "output_type": "display_data"
    }
   ],
   "source": [
    "quality.plot(kind='bar');"
   ]
  },
  {
   "cell_type": "code",
   "execution_count": 41,
   "metadata": {},
   "outputs": [
    {
     "name": "stdout",
     "output_type": "stream",
     "text": [
      "[[ 7.     0.65   0.02  ...  3.47   0.67   9.5  ]\n",
      " [10.2    0.42   0.57  ...  3.04   0.63   9.6  ]\n",
      " [ 5.2    0.34   0.    ...  3.68   0.79  14.   ]\n",
      " ...\n",
      " [ 6.6    0.725  0.09  ...  3.35   0.49  10.8  ]\n",
      " [ 7.2    0.63   0.    ...  3.37   0.58   9.   ]\n",
      " [ 9.1    0.4    0.5   ...  3.21   0.69  12.5  ]] [[ 8.8   0.41  0.64 ...  3.54  0.66 10.5 ]\n",
      " [ 8.7   0.63  0.28 ...  3.26  0.63 10.2 ]\n",
      " [10.4   0.34  0.58 ...  3.19  0.7  11.3 ]\n",
      " ...\n",
      " [ 7.1   0.67  0.   ...  3.44  0.54  9.4 ]\n",
      " [ 6.2   0.39  0.43 ...  3.45  0.87 11.2 ]\n",
      " [10.9   0.32  0.52 ...  3.28  0.77 11.5 ]] [6 5 6 ... 6 6 8] [5 6 6 6 6 6 6 5 5 5 6 6 6 6 6 5 6 5 5 5 6 6 5 6 6 6 6 6 6 7 6 6 5 6 5 6 5\n",
      " 7 6 5 6 5 5 6 5 6 5 5 5 6 5 4 7 5 5 6 6 6 5 5 5 6 5 6 5 6 7 6 6 6 5 6 6 6\n",
      " 5 5 6 6 5 6 5 5 5 6 5 5 5 7 5 6 5 7 5 6 5 5 6 5 3 6 5 5 5 5 5 5 6 6 5 6 7\n",
      " 5 6 6 5 7 5 5 5 5 4 7 7 5 5 5 6 5 7 7 6 5 7 5 6 7 5 7 6 6 5 6 6 5 6 6 6 5\n",
      " 6 6 6 6 5 6 5 7 5 6 6 6 8 6 5 5 6 6 4 5 5 6 6 6 4 7 5 6 5 5 5 5 6 6 5 6 6\n",
      " 6 7 6 4 6 5 6 6 5 6 5 4 5 6 5 7 5 7 5 7 6 5 5 6 5 5 7 5 6 5 6 5 5 7 6 5 6\n",
      " 5 5 6 5 4 7 7 7 6 6 7 6 6 6 6 6 5 4 6 5 7 6 6 8 6 5 5 5 5 4 6 6 6 5 5 4 5\n",
      " 5 6 5 5 5 4 6 5 5 6 6 5 6 5 6 6 5 5 6 5 5 6 4 4 5 6 5 6 5 5 5 6 6 6 5 6 7\n",
      " 5 5 5 5 6 6 5 5 6 6 5 5 5 5 5 5 6 6 6 5 5 5 7 6]\n"
     ]
    }
   ],
   "source": [
    "# get column titles except the last column (отримати заголовки стовпців, окрім останнього)\n",
    "features=df_wine_red.columns[:-1].tolist()\n",
    "#print(features)\n",
    "# get data set features }(отримати функції набору даних; array значень без 'quality')\n",
    "X=df_wine_red[features].values\n",
    "#print(X)\n",
    "# get labels (отримати позначки  array значень 'quality')\n",
    "y=df_wine_red['quality'].values\n",
    "#print(y)\n",
    "# split data to train data set and test data set (розділити дані для тренування на випадкові підмножини набору даних та тестового набору даних у співвідношенні 0,2 до 0,8) )\n",
    "#random_state -одинакові навчальні та перевірочні сети щоб використовувати одинакові вхідні дані\n",
    "X_train,X_test,y_train,y_test = train_test_split(X,y,test_size=0.2,random_state=1)\n",
    "print(X_train,X_test,y_train,y_test)\n",
    "# store scores of KNN model by K=1 to 31 (зберігайте бали моделі KNN на K = 1 до 31)\n",
    "scores=[]"
   ]
  },
  {
   "cell_type": "code",
   "execution_count": 42,
   "metadata": {
    "scrolled": true
   },
   "outputs": [
    {
     "name": "stdout",
     "output_type": "stream",
     "text": [
      "[[ 7.     0.65   0.02  ...  3.47   0.67   9.5  ]\n",
      " [10.2    0.42   0.57  ...  3.04   0.63   9.6  ]\n",
      " [ 5.2    0.34   0.    ...  3.68   0.79  14.   ]\n",
      " ...\n",
      " [ 6.6    0.725  0.09  ...  3.35   0.49  10.8  ]\n",
      " [ 7.2    0.63   0.    ...  3.37   0.58   9.   ]\n",
      " [ 9.1    0.4    0.5   ...  3.21   0.69  12.5  ]]\n",
      "[[ 7.     0.65   0.02  ...  3.47   0.67   9.5  ]\n",
      " [10.2    0.42   0.57  ...  3.04   0.63   9.6  ]\n",
      " [ 5.2    0.34   0.    ...  3.68   0.79  14.   ]\n",
      " ...\n",
      " [ 6.6    0.725  0.09  ...  3.35   0.49  10.8  ]\n",
      " [ 7.2    0.63   0.    ...  3.37   0.58   9.   ]\n",
      " [ 9.1    0.4    0.5   ...  3.21   0.69  12.5  ]]\n",
      "[[ 7.     0.65   0.02  ...  3.47   0.67   9.5  ]\n",
      " [10.2    0.42   0.57  ...  3.04   0.63   9.6  ]\n",
      " [ 5.2    0.34   0.    ...  3.68   0.79  14.   ]\n",
      " ...\n",
      " [ 6.6    0.725  0.09  ...  3.35   0.49  10.8  ]\n",
      " [ 7.2    0.63   0.    ...  3.37   0.58   9.   ]\n",
      " [ 9.1    0.4    0.5   ...  3.21   0.69  12.5  ]]\n",
      "[[ 7.     0.65   0.02  ...  3.47   0.67   9.5  ]\n",
      " [10.2    0.42   0.57  ...  3.04   0.63   9.6  ]\n",
      " [ 5.2    0.34   0.    ...  3.68   0.79  14.   ]\n",
      " ...\n",
      " [ 6.6    0.725  0.09  ...  3.35   0.49  10.8  ]\n",
      " [ 7.2    0.63   0.    ...  3.37   0.58   9.   ]\n",
      " [ 9.1    0.4    0.5   ...  3.21   0.69  12.5  ]]\n",
      "[[ 7.     0.65   0.02  ...  3.47   0.67   9.5  ]\n",
      " [10.2    0.42   0.57  ...  3.04   0.63   9.6  ]\n",
      " [ 5.2    0.34   0.    ...  3.68   0.79  14.   ]\n",
      " ...\n",
      " [ 6.6    0.725  0.09  ...  3.35   0.49  10.8  ]\n",
      " [ 7.2    0.63   0.    ...  3.37   0.58   9.   ]\n",
      " [ 9.1    0.4    0.5   ...  3.21   0.69  12.5  ]]\n",
      "[0.4972518382352941, 0.5113419117647059, 0.5058854166666666, 0.4917953431372549, 0.4957015931372549]\n"
     ]
    }
   ],
   "source": [
    "# loop k from 3 to 8, and get cross validation score of each K value (в циклі k від 3 до 8,отримують перехресне підтвердження кожного знач.K)\n",
    "for k in range(3,8):\n",
    "    knn=KNeighborsClassifier(k) #from sklearn.neighbors(класифікатор, що реалізує голосування k-найближчих сусідів)\n",
    "    score_val=cross_val_score(knn,X_train,y_train,scoring='accuracy',cv=5) \n",
    "    print(X_train)\n",
    "    #from sklearn.model_selection (оцінка оцінки за допомогою перехресної перевірки 5- кількість складок у (Stratified)KFold)\n",
    "    score_mean=score_val.mean()\n",
    "    scores.append(score_mean)  #запис балів моделі KNN)\n",
    "#print(knn)\n",
    "#print(score_val)\n",
    "#print(score_mean)\n",
    "print(scores)"
   ]
  },
  {
   "cell_type": "code",
   "execution_count": 43,
   "metadata": {},
   "outputs": [
    {
     "name": "stdout",
     "output_type": "stream",
     "text": [
      "2\n",
      "prediction precision rate: 0.540625\n"
     ]
    }
   ],
   "source": [
    "# get index of maxium score along axis, default axis=0 for 1 dimensional array\n",
    "#отримати індекс максимальної оцінки(np.argmax) вздовж осі, за замовчуванням axis=0 для 1 розмірного масиву D-1\n",
    "best_k=np.argmax(scores)+1  # Only the first occurrence is returned (Повертається лише перше значення)\n",
    "print(best_k)\n",
    "# generate KNN model (згенеруємо модель KNN)\n",
    "knn=KNeighborsClassifier(best_k)\n",
    "# fit with train data set (надавати train data set)\n",
    "knn.fit(X_train,y_train)\n",
    "# get Modes presicion rate using test set  \n",
    "#отримати передбачення набору режиму за допомогою тестового набору(точнїсть прогнозування:)\n",
    "print(\"prediction precision rate:\",knn.score(X_test,y_test))"
   ]
  },
  {
   "cell_type": "code",
   "execution_count": 45,
   "metadata": {},
   "outputs": [
    {
     "data": {
      "text/plain": [
       "array([[ 7.4  ,  0.7  ,  0.   , ...,  3.51 ,  0.56 ,  9.4  ],\n",
       "       [ 7.8  ,  0.88 ,  0.   , ...,  3.2  ,  0.68 ,  9.8  ],\n",
       "       [ 7.8  ,  0.76 ,  0.04 , ...,  3.26 ,  0.65 ,  9.8  ],\n",
       "       ...,\n",
       "       [ 6.3  ,  0.51 ,  0.13 , ...,  3.42 ,  0.75 , 11.   ],\n",
       "       [ 5.9  ,  0.645,  0.12 , ...,  3.57 ,  0.71 , 10.2  ],\n",
       "       [ 6.   ,  0.31 ,  0.47 , ...,  3.39 ,  0.66 , 11.   ]])"
      ]
     },
     "execution_count": 45,
     "metadata": {},
     "output_type": "execute_result"
    }
   ],
   "source": [
    " X"
   ]
  },
  {
   "cell_type": "code",
   "execution_count": 44,
   "metadata": {},
   "outputs": [
    {
     "name": "stdout",
     "output_type": "stream",
     "text": [
      "score: [0.5308762254901961, 0.5473039215686274, 0.526985294117647, 0.5441666666666667, 0.537922794117647]\n"
     ]
    }
   ],
   "source": [
    "scores=[]\n",
    "# loop k from 3 to 8, and get cross validation score of each K value(в циклі k від 3 до 8,отримують перехресне підтвердження кожного значення K)\n",
    "k_test, n_components, max_iter = 5, X.shape[1], 180\n",
    "for k in range(3,8):\n",
    "    # Instantiate the metric learner (Ігноруйте навчальний показник)\n",
    "    lmnn = LMNN(n_neighbors=k, max_iter=max_iter, n_components=n_components)\n",
    "    # Train the metric learner (Тренування навчального показника)\n",
    "    lmnn.fit(X_train, y_train)\n",
    "    # Fit the nearest neighbors classifier (Підібір класифікатора найближчих сусідів)\n",
    "    knn = KNeighborsClassifier(n_neighbors=k_test)\n",
    "    knn.fit(lmnn.transform(X_train), y_train)\n",
    "    score_val=cross_val_score(knn,lmnn.transform(X_train),y_train,scoring='accuracy',cv=5)\n",
    "    score_mean=score_val.mean()\n",
    "    scores.append(score_mean)\n",
    "print('score:', scores)\n",
    "\n"
   ]
  },
  {
   "cell_type": "code",
   "execution_count": 21,
   "metadata": {},
   "outputs": [
    {
     "name": "stdout",
     "output_type": "stream",
     "text": [
      "2\n",
      "prediction precision rate: 0.56875\n"
     ]
    }
   ],
   "source": [
    "# get index of maxium score along axis, default axis=0 for 1 dimensional array \n",
    "#отримати індекс максимальної оцінки вздовж осі, за замовчуванням вісь = 0 для 1 розмірного масиву\n",
    "best_k=np.argmax(scores)+1\n",
    "print(best_k)\n",
    "# Instantiate the metric learner (Ігноруйте навчальний показник)\n",
    "lmnn = LMNN(n_neighbors=int(best_k), max_iter=max_iter, n_components=n_components)\n",
    "# Train the metric learner (Тренуйте навчального показника)\n",
    "lmnn.fit(X_train, y_train)\n",
    "# generate KNN model (згенеруйте кnn модель)\n",
    "knn=KNeighborsClassifier(n_neighbors=best_k)\n",
    "# fit with train data set (підходить rain data set )\n",
    "knn.fit(lmnn.transform(X_train), y_train)\n",
    "# get Modes presicion rate using test set (отримати передбачення ставки, що використовується в тестовому наборі)\n",
    "print(\"prediction precision rate:\",knn.score(lmnn.transform(X_test),y_test))"
   ]
  },
  {
   "cell_type": "code",
   "execution_count": 22,
   "metadata": {},
   "outputs": [
    {
     "name": "stdout",
     "output_type": "stream",
     "text": [
      "ENN(distance_function=<function euclidean at 0x00000000090605E8>, k=3)\n",
      "Train scores\n",
      "accuracy_score =  0.440625\n",
      "precision_score =  0.248362824532766\n",
      "recall_score =  0.3126309842727753\n",
      "f1_score =  0.24947482612813868\n"
     ]
    }
   ],
   "source": [
    "clf = ENN()\n",
    "clf.fit(X_train, y_train)\n",
    "y_pred = clf.predict(X_test)\n",
    "print(clf)\n",
    "print('Train scores')\n",
    "print('accuracy_score = ', accuracy_score(y_test, y_pred))\n",
    "print('precision_score = ', precision_score(y_test, y_pred, average='macro'))\n",
    "print('recall_score = ', recall_score(y_test, y_pred, average='macro'))\n",
    "print('f1_score = ', f1_score(y_test, y_pred, average='macro'))"
   ]
  },
  {
   "cell_type": "code",
   "execution_count": 23,
   "metadata": {},
   "outputs": [
    {
     "data": {
      "text/plain": [
       "(3812, 12)"
      ]
     },
     "execution_count": 23,
     "metadata": {},
     "output_type": "execute_result"
    }
   ],
   "source": [
    "# Улучшение скора(Отримання збалансованого зразку шляхом надмірного збору)\n",
    "# Get balanced sample by oversampling\n",
    "df3=df_wine_red[df_wine_red['quality']==3]\n",
    "df3=pd.concat([df3]*63)\n",
    "df3\n",
    "df4=df_wine_red[df_wine_red['quality']==4]\n",
    "df4=pd.concat([df4]*12)\n",
    "df5=df_wine_red[df_wine_red['quality']==5]\n",
    "df6=df_wine_red[df_wine_red['quality']==6]\n",
    "\n",
    "df7=df_wine_red[df_wine_red['quality']==7]\n",
    "df7=pd.concat([df7]*3)\n",
    "df8=df_wine_red[df_wine_red['quality']==8]\n",
    "df8=pd.concat([df8]*35)\n",
    "df_balanced=pd.concat([df3,df4,df5,df6,df7,df8])\n",
    "df_balanced.shape"
   ]
  },
  {
   "cell_type": "code",
   "execution_count": 24,
   "metadata": {},
   "outputs": [],
   "source": [
    "quality = df_balanced['quality'].groupby(df_balanced['quality']).count()"
   ]
  },
  {
   "cell_type": "code",
   "execution_count": 25,
   "metadata": {},
   "outputs": [
    {
     "data": {
      "text/plain": [
       "<matplotlib.axes._subplots.AxesSubplot at 0xc38aa08>"
      ]
     },
     "execution_count": 25,
     "metadata": {},
     "output_type": "execute_result"
    },
    {
     "data": {
      "image/png": "[encoded data removed]",
      "text/plain": [
       "<Figure size 432x288 with 1 Axes>"
      ]
     },
     "metadata": {
      "needs_background": "light"
     },
     "output_type": "display_data"
    }
   ],
   "source": [
    "quality.plot(kind='bar')"
   ]
  },
  {
   "cell_type": "code",
   "execution_count": 26,
   "metadata": {},
   "outputs": [],
   "source": [
    "# df.columns is column labels property (властивість міток стовпців)\n",
    "features=df_balanced.columns[:-1].tolist()\n",
    "X=df_balanced[features].values\n",
    "y=df_balanced['quality']\n",
    "\n",
    "X_train,X_test,y_train,y_test=train_test_split(X,y,test_size=0.2,random_state=1)\n"
   ]
  },
  {
   "cell_type": "code",
   "execution_count": 27,
   "metadata": {},
   "outputs": [
    {
     "name": "stdout",
     "output_type": "stream",
     "text": [
      "best K is: 1\n",
      "prediction precision rate: 0.8676277850589778\n"
     ]
    }
   ],
   "source": [
    "scores=[]\n",
    "for i in range(32):\n",
    "    knn=KNeighborsClassifier(k)\n",
    "    score_val=cross_val_score(knn,X_train,y_train,scoring='accuracy',cv=10)\n",
    "    score_mean=score_val.mean()\n",
    "    scores.append(score_mean)\n",
    "best_K=np.argmax(scores)+1\n",
    "print('best K is:',best_K)\n",
    "knn=KNeighborsClassifier(best_K)\n",
    "knn.fit(X_train,y_train)\n",
    "print(\"prediction precision rate:\",knn.score(X_test,y_test))"
   ]
  },
  {
   "cell_type": "code",
   "execution_count": 28,
   "metadata": {},
   "outputs": [
    {
     "data": {
      "text/plain": [
       "KNeighborsRegressor(algorithm='auto', leaf_size=30, metric='minkowski',\n",
       "                    metric_params=None, n_jobs=None, n_neighbors=2, p=2,\n",
       "                    weights='uniform')"
      ]
     },
     "execution_count": 28,
     "metadata": {},
     "output_type": "execute_result"
    }
   ],
   "source": [
    "X = [[0], [1], [2], [3]]\n",
    "y = [0, 0, 1, 1]\n",
    "neigh = KNeighborsRegressor(n_neighbors=2)\n",
    "neigh.fit(X, y)"
   ]
  },
  {
   "cell_type": "code",
   "execution_count": 29,
   "metadata": {},
   "outputs": [
    {
     "name": "stdout",
     "output_type": "stream",
     "text": [
      "[0.5]\n"
     ]
    }
   ],
   "source": [
    "print(neigh.predict([[1.5]]))"
   ]
  },
  {
   "cell_type": "code",
   "execution_count": null,
   "metadata": {},
   "outputs": [],
   "source": []
  },
  {
   "cell_type": "code",
   "execution_count": 30,
   "metadata": {},
   "outputs": [
    {
     "data": {
      "text/plain": [
       "NearestNeighbors(algorithm='auto', leaf_size=30, metric='minkowski',\n",
       "                 metric_params=None, n_jobs=None, n_neighbors=2, p=2,\n",
       "                 radius=1.6)"
      ]
     },
     "execution_count": 30,
     "metadata": {},
     "output_type": "execute_result"
    }
   ],
   "source": [
    "samples = [[0., 0., 0.], [0., .5, 0.], [1., 1., .5]]\n",
    "neigh = NearestNeighbors(radius=1.6, n_neighbors=2)\n",
    "neigh.fit(samples)"
   ]
  },
  {
   "cell_type": "code",
   "execution_count": 31,
   "metadata": {},
   "outputs": [
    {
     "name": "stdout",
     "output_type": "stream",
     "text": [
      "(array([[0.5, 1.5]]), array([[2, 1]], dtype=int64))\n"
     ]
    }
   ],
   "source": [
    "# Predict value (Прогнозуйте значення)\n",
    "print(neigh.kneighbors([[1., 1., 1.]]))"
   ]
  },
  {
   "cell_type": "code",
   "execution_count": 32,
   "metadata": {},
   "outputs": [
    {
     "name": "stdout",
     "output_type": "stream",
     "text": [
      "[1.5 0.5]\n",
      "[1 2]\n"
     ]
    }
   ],
   "source": [
    "rng = neigh.radius_neighbors([[1., 1., 1.]])\n",
    "# Distance to points (Відстань до балів)\n",
    "print(np.asarray(rng[0][0]))\n",
    "# Index of points (Index балів)\n",
    "print(np.asarray(rng[1][0]))"
   ]
  },
  {
   "cell_type": "code",
   "execution_count": 33,
   "metadata": {},
   "outputs": [
    {
     "data": {
      "text/html": [
       "<div>\n",
       "<style scoped>\n",
       "    .dataframe tbody tr th:only-of-type {\n",
       "        vertical-align: middle;\n",
       "    }\n",
       "\n",
       "    .dataframe tbody tr th {\n",
       "        vertical-align: top;\n",
       "    }\n",
       "\n",
       "    .dataframe thead th {\n",
       "        text-align: right;\n",
       "    }\n",
       "</style>\n",
       "<table border=\"1\" class=\"dataframe\">\n",
       "  <thead>\n",
       "    <tr style=\"text-align: right;\">\n",
       "      <th></th>\n",
       "      <th>fixed acidity</th>\n",
       "      <th>volatile acidity</th>\n",
       "      <th>citric acid</th>\n",
       "      <th>residual sugar</th>\n",
       "      <th>chlorides</th>\n",
       "      <th>free sulfur dioxide</th>\n",
       "      <th>total sulfur dioxide</th>\n",
       "      <th>density</th>\n",
       "      <th>pH</th>\n",
       "      <th>sulphates</th>\n",
       "      <th>alcohol</th>\n",
       "      <th>quality</th>\n",
       "    </tr>\n",
       "  </thead>\n",
       "  <tbody>\n",
       "    <tr>\n",
       "      <th>0</th>\n",
       "      <td>7.4</td>\n",
       "      <td>0.700</td>\n",
       "      <td>0.00</td>\n",
       "      <td>1.9</td>\n",
       "      <td>0.076</td>\n",
       "      <td>11.0</td>\n",
       "      <td>34.0</td>\n",
       "      <td>0.998</td>\n",
       "      <td>3.51</td>\n",
       "      <td>0.56</td>\n",
       "      <td>9.4</td>\n",
       "      <td>5</td>\n",
       "    </tr>\n",
       "    <tr>\n",
       "      <th>1</th>\n",
       "      <td>7.8</td>\n",
       "      <td>0.880</td>\n",
       "      <td>0.00</td>\n",
       "      <td>2.6</td>\n",
       "      <td>0.098</td>\n",
       "      <td>25.0</td>\n",
       "      <td>67.0</td>\n",
       "      <td>0.997</td>\n",
       "      <td>3.20</td>\n",
       "      <td>0.68</td>\n",
       "      <td>9.8</td>\n",
       "      <td>5</td>\n",
       "    </tr>\n",
       "    <tr>\n",
       "      <th>2</th>\n",
       "      <td>7.8</td>\n",
       "      <td>0.760</td>\n",
       "      <td>0.04</td>\n",
       "      <td>2.3</td>\n",
       "      <td>0.092</td>\n",
       "      <td>15.0</td>\n",
       "      <td>54.0</td>\n",
       "      <td>0.997</td>\n",
       "      <td>3.26</td>\n",
       "      <td>0.65</td>\n",
       "      <td>9.8</td>\n",
       "      <td>5</td>\n",
       "    </tr>\n",
       "    <tr>\n",
       "      <th>3</th>\n",
       "      <td>11.2</td>\n",
       "      <td>0.280</td>\n",
       "      <td>0.56</td>\n",
       "      <td>1.9</td>\n",
       "      <td>0.075</td>\n",
       "      <td>17.0</td>\n",
       "      <td>60.0</td>\n",
       "      <td>0.998</td>\n",
       "      <td>3.16</td>\n",
       "      <td>0.58</td>\n",
       "      <td>9.8</td>\n",
       "      <td>6</td>\n",
       "    </tr>\n",
       "    <tr>\n",
       "      <th>4</th>\n",
       "      <td>7.4</td>\n",
       "      <td>0.700</td>\n",
       "      <td>0.00</td>\n",
       "      <td>1.9</td>\n",
       "      <td>0.076</td>\n",
       "      <td>11.0</td>\n",
       "      <td>34.0</td>\n",
       "      <td>0.998</td>\n",
       "      <td>3.51</td>\n",
       "      <td>0.56</td>\n",
       "      <td>9.4</td>\n",
       "      <td>5</td>\n",
       "    </tr>\n",
       "    <tr>\n",
       "      <th>...</th>\n",
       "      <td>...</td>\n",
       "      <td>...</td>\n",
       "      <td>...</td>\n",
       "      <td>...</td>\n",
       "      <td>...</td>\n",
       "      <td>...</td>\n",
       "      <td>...</td>\n",
       "      <td>...</td>\n",
       "      <td>...</td>\n",
       "      <td>...</td>\n",
       "      <td>...</td>\n",
       "      <td>...</td>\n",
       "    </tr>\n",
       "    <tr>\n",
       "      <th>1594</th>\n",
       "      <td>6.2</td>\n",
       "      <td>0.600</td>\n",
       "      <td>0.08</td>\n",
       "      <td>2.0</td>\n",
       "      <td>0.090</td>\n",
       "      <td>32.0</td>\n",
       "      <td>44.0</td>\n",
       "      <td>0.995</td>\n",
       "      <td>3.45</td>\n",
       "      <td>0.58</td>\n",
       "      <td>10.5</td>\n",
       "      <td>5</td>\n",
       "    </tr>\n",
       "    <tr>\n",
       "      <th>1595</th>\n",
       "      <td>5.9</td>\n",
       "      <td>0.550</td>\n",
       "      <td>0.10</td>\n",
       "      <td>2.2</td>\n",
       "      <td>0.062</td>\n",
       "      <td>39.0</td>\n",
       "      <td>51.0</td>\n",
       "      <td>0.995</td>\n",
       "      <td>3.52</td>\n",
       "      <td>0.76</td>\n",
       "      <td>11.2</td>\n",
       "      <td>6</td>\n",
       "    </tr>\n",
       "    <tr>\n",
       "      <th>1596</th>\n",
       "      <td>6.3</td>\n",
       "      <td>0.510</td>\n",
       "      <td>0.13</td>\n",
       "      <td>2.3</td>\n",
       "      <td>0.076</td>\n",
       "      <td>29.0</td>\n",
       "      <td>40.0</td>\n",
       "      <td>0.996</td>\n",
       "      <td>3.42</td>\n",
       "      <td>0.75</td>\n",
       "      <td>11.0</td>\n",
       "      <td>6</td>\n",
       "    </tr>\n",
       "    <tr>\n",
       "      <th>1597</th>\n",
       "      <td>5.9</td>\n",
       "      <td>0.645</td>\n",
       "      <td>0.12</td>\n",
       "      <td>2.0</td>\n",
       "      <td>0.075</td>\n",
       "      <td>32.0</td>\n",
       "      <td>44.0</td>\n",
       "      <td>0.995</td>\n",
       "      <td>3.57</td>\n",
       "      <td>0.71</td>\n",
       "      <td>10.2</td>\n",
       "      <td>5</td>\n",
       "    </tr>\n",
       "    <tr>\n",
       "      <th>1598</th>\n",
       "      <td>6.0</td>\n",
       "      <td>0.310</td>\n",
       "      <td>0.47</td>\n",
       "      <td>3.6</td>\n",
       "      <td>0.067</td>\n",
       "      <td>18.0</td>\n",
       "      <td>42.0</td>\n",
       "      <td>0.995</td>\n",
       "      <td>3.39</td>\n",
       "      <td>0.66</td>\n",
       "      <td>11.0</td>\n",
       "      <td>6</td>\n",
       "    </tr>\n",
       "  </tbody>\n",
       "</table>\n",
       "<p>1599 rows × 12 columns</p>\n",
       "</div>"
      ],
      "text/plain": [
       "      fixed acidity  volatile acidity  citric acid  residual sugar  chlorides  \\\n",
       "0               7.4             0.700         0.00             1.9      0.076   \n",
       "1               7.8             0.880         0.00             2.6      0.098   \n",
       "2               7.8             0.760         0.04             2.3      0.092   \n",
       "3              11.2             0.280         0.56             1.9      0.075   \n",
       "4               7.4             0.700         0.00             1.9      0.076   \n",
       "...             ...               ...          ...             ...        ...   \n",
       "1594            6.2             0.600         0.08             2.0      0.090   \n",
       "1595            5.9             0.550         0.10             2.2      0.062   \n",
       "1596            6.3             0.510         0.13             2.3      0.076   \n",
       "1597            5.9             0.645         0.12             2.0      0.075   \n",
       "1598            6.0             0.310         0.47             3.6      0.067   \n",
       "\n",
       "      free sulfur dioxide  total sulfur dioxide  density    pH  sulphates  \\\n",
       "0                    11.0                  34.0    0.998  3.51       0.56   \n",
       "1                    25.0                  67.0    0.997  3.20       0.68   \n",
       "2                    15.0                  54.0    0.997  3.26       0.65   \n",
       "3                    17.0                  60.0    0.998  3.16       0.58   \n",
       "4                    11.0                  34.0    0.998  3.51       0.56   \n",
       "...                   ...                   ...      ...   ...        ...   \n",
       "1594                 32.0                  44.0    0.995  3.45       0.58   \n",
       "1595                 39.0                  51.0    0.995  3.52       0.76   \n",
       "1596                 29.0                  40.0    0.996  3.42       0.75   \n",
       "1597                 32.0                  44.0    0.995  3.57       0.71   \n",
       "1598                 18.0                  42.0    0.995  3.39       0.66   \n",
       "\n",
       "      alcohol  quality  \n",
       "0         9.4        5  \n",
       "1         9.8        5  \n",
       "2         9.8        5  \n",
       "3         9.8        6  \n",
       "4         9.4        5  \n",
       "...       ...      ...  \n",
       "1594     10.5        5  \n",
       "1595     11.2        6  \n",
       "1596     11.0        6  \n",
       "1597     10.2        5  \n",
       "1598     11.0        6  \n",
       "\n",
       "[1599 rows x 12 columns]"
      ]
     },
     "execution_count": 33,
     "metadata": {},
     "output_type": "execute_result"
    }
   ],
   "source": [
    "    \n",
    "df_wine_red"
   ]
  },
  {
   "cell_type": "code",
   "execution_count": null,
   "metadata": {},
   "outputs": [],
   "source": []
  },
  {
   "cell_type": "code",
   "execution_count": null,
   "metadata": {},
   "outputs": [],
   "source": []
  },
  {
   "cell_type": "code",
   "execution_count": null,
   "metadata": {},
   "outputs": [],
   "source": []
  }
 ],
 "metadata": {
  "kernelspec": {
   "display_name": "Python 3",
   "language": "python",
   "name": "python3"
  },
  "language_info": {
   "codemirror_mode": {
    "name": "ipython",
    "version": 3
   },
   "file_extension": ".py",
   "mimetype": "text/x-python",
   "name": "python",
   "nbconvert_exporter": "python",
   "pygments_lexer": "ipython3",
   "version": "3.7.6"
  }
 },
 "nbformat": 4,
 "nbformat_minor": 2
}
