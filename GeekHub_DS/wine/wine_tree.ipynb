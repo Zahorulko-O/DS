{
 "cells": [
  {
   "cell_type": "code",
   "execution_count": 1,
   "metadata": {},
   "outputs": [
    {
     "data": {
      "text/html": [
       "<div>\n",
       "<style scoped>\n",
       "    .dataframe tbody tr th:only-of-type {\n",
       "        vertical-align: middle;\n",
       "    }\n",
       "\n",
       "    .dataframe tbody tr th {\n",
       "        vertical-align: top;\n",
       "    }\n",
       "\n",
       "    .dataframe thead th {\n",
       "        text-align: right;\n",
       "    }\n",
       "</style>\n",
       "<table border=\"1\" class=\"dataframe\">\n",
       "  <thead>\n",
       "    <tr style=\"text-align: right;\">\n",
       "      <th></th>\n",
       "      <th>fixed acidity</th>\n",
       "      <th>volatile acidity</th>\n",
       "      <th>citric acid</th>\n",
       "      <th>residual sugar</th>\n",
       "      <th>chlorides</th>\n",
       "      <th>free sulfur dioxide</th>\n",
       "      <th>total sulfur dioxide</th>\n",
       "      <th>density</th>\n",
       "      <th>pH</th>\n",
       "      <th>sulphates</th>\n",
       "      <th>alcohol</th>\n",
       "      <th>quality</th>\n",
       "      <th>type</th>\n",
       "    </tr>\n",
       "  </thead>\n",
       "  <tbody>\n",
       "    <tr>\n",
       "      <th>281</th>\n",
       "      <td>7.7</td>\n",
       "      <td>0.27</td>\n",
       "      <td>0.68</td>\n",
       "      <td>3.5</td>\n",
       "      <td>0.358</td>\n",
       "      <td>5.0</td>\n",
       "      <td>10.0</td>\n",
       "      <td>0.99720</td>\n",
       "      <td>3.25</td>\n",
       "      <td>1.08</td>\n",
       "      <td>9.9</td>\n",
       "      <td>7</td>\n",
       "      <td>red</td>\n",
       "    </tr>\n",
       "    <tr>\n",
       "      <th>606</th>\n",
       "      <td>7.3</td>\n",
       "      <td>0.25</td>\n",
       "      <td>0.29</td>\n",
       "      <td>7.5</td>\n",
       "      <td>0.049</td>\n",
       "      <td>38.0</td>\n",
       "      <td>158.0</td>\n",
       "      <td>0.99650</td>\n",
       "      <td>3.43</td>\n",
       "      <td>0.38</td>\n",
       "      <td>9.6</td>\n",
       "      <td>5</td>\n",
       "      <td>white</td>\n",
       "    </tr>\n",
       "    <tr>\n",
       "      <th>339</th>\n",
       "      <td>6.6</td>\n",
       "      <td>0.18</td>\n",
       "      <td>0.35</td>\n",
       "      <td>1.5</td>\n",
       "      <td>0.049</td>\n",
       "      <td>49.0</td>\n",
       "      <td>141.0</td>\n",
       "      <td>0.99340</td>\n",
       "      <td>3.43</td>\n",
       "      <td>0.85</td>\n",
       "      <td>10.2</td>\n",
       "      <td>7</td>\n",
       "      <td>white</td>\n",
       "    </tr>\n",
       "    <tr>\n",
       "      <th>1833</th>\n",
       "      <td>7.4</td>\n",
       "      <td>0.49</td>\n",
       "      <td>0.24</td>\n",
       "      <td>15.1</td>\n",
       "      <td>0.030</td>\n",
       "      <td>34.0</td>\n",
       "      <td>153.0</td>\n",
       "      <td>0.99530</td>\n",
       "      <td>3.13</td>\n",
       "      <td>0.51</td>\n",
       "      <td>12.0</td>\n",
       "      <td>7</td>\n",
       "      <td>white</td>\n",
       "    </tr>\n",
       "    <tr>\n",
       "      <th>2643</th>\n",
       "      <td>8.1</td>\n",
       "      <td>0.33</td>\n",
       "      <td>0.22</td>\n",
       "      <td>5.2</td>\n",
       "      <td>0.047</td>\n",
       "      <td>24.0</td>\n",
       "      <td>151.0</td>\n",
       "      <td>0.99527</td>\n",
       "      <td>3.22</td>\n",
       "      <td>0.47</td>\n",
       "      <td>10.3</td>\n",
       "      <td>5</td>\n",
       "      <td>white</td>\n",
       "    </tr>\n",
       "    <tr>\n",
       "      <th>...</th>\n",
       "      <td>...</td>\n",
       "      <td>...</td>\n",
       "      <td>...</td>\n",
       "      <td>...</td>\n",
       "      <td>...</td>\n",
       "      <td>...</td>\n",
       "      <td>...</td>\n",
       "      <td>...</td>\n",
       "      <td>...</td>\n",
       "      <td>...</td>\n",
       "      <td>...</td>\n",
       "      <td>...</td>\n",
       "      <td>...</td>\n",
       "    </tr>\n",
       "    <tr>\n",
       "      <th>3030</th>\n",
       "      <td>7.1</td>\n",
       "      <td>0.47</td>\n",
       "      <td>0.29</td>\n",
       "      <td>14.8</td>\n",
       "      <td>0.024</td>\n",
       "      <td>22.0</td>\n",
       "      <td>142.0</td>\n",
       "      <td>0.99518</td>\n",
       "      <td>3.12</td>\n",
       "      <td>0.48</td>\n",
       "      <td>12.0</td>\n",
       "      <td>8</td>\n",
       "      <td>white</td>\n",
       "    </tr>\n",
       "    <tr>\n",
       "      <th>4765</th>\n",
       "      <td>5.2</td>\n",
       "      <td>0.30</td>\n",
       "      <td>0.34</td>\n",
       "      <td>1.5</td>\n",
       "      <td>0.038</td>\n",
       "      <td>18.0</td>\n",
       "      <td>96.0</td>\n",
       "      <td>0.98942</td>\n",
       "      <td>3.56</td>\n",
       "      <td>0.48</td>\n",
       "      <td>13.0</td>\n",
       "      <td>8</td>\n",
       "      <td>white</td>\n",
       "    </tr>\n",
       "    <tr>\n",
       "      <th>1158</th>\n",
       "      <td>5.7</td>\n",
       "      <td>0.26</td>\n",
       "      <td>0.27</td>\n",
       "      <td>4.1</td>\n",
       "      <td>0.201</td>\n",
       "      <td>73.5</td>\n",
       "      <td>189.5</td>\n",
       "      <td>0.99420</td>\n",
       "      <td>3.27</td>\n",
       "      <td>0.38</td>\n",
       "      <td>9.4</td>\n",
       "      <td>6</td>\n",
       "      <td>white</td>\n",
       "    </tr>\n",
       "    <tr>\n",
       "      <th>2569</th>\n",
       "      <td>6.6</td>\n",
       "      <td>0.24</td>\n",
       "      <td>0.24</td>\n",
       "      <td>8.6</td>\n",
       "      <td>0.034</td>\n",
       "      <td>25.0</td>\n",
       "      <td>135.0</td>\n",
       "      <td>0.99582</td>\n",
       "      <td>3.33</td>\n",
       "      <td>0.59</td>\n",
       "      <td>10.3</td>\n",
       "      <td>6</td>\n",
       "      <td>white</td>\n",
       "    </tr>\n",
       "    <tr>\n",
       "      <th>4396</th>\n",
       "      <td>7.4</td>\n",
       "      <td>0.27</td>\n",
       "      <td>0.26</td>\n",
       "      <td>11.8</td>\n",
       "      <td>0.053</td>\n",
       "      <td>55.0</td>\n",
       "      <td>173.0</td>\n",
       "      <td>0.99699</td>\n",
       "      <td>3.11</td>\n",
       "      <td>0.60</td>\n",
       "      <td>9.8</td>\n",
       "      <td>5</td>\n",
       "      <td>white</td>\n",
       "    </tr>\n",
       "  </tbody>\n",
       "</table>\n",
       "<p>6497 rows × 13 columns</p>\n",
       "</div>"
      ],
      "text/plain": [
       "      fixed acidity  volatile acidity  citric acid  residual sugar  chlorides  \\\n",
       "281             7.7              0.27         0.68             3.5      0.358   \n",
       "606             7.3              0.25         0.29             7.5      0.049   \n",
       "339             6.6              0.18         0.35             1.5      0.049   \n",
       "1833            7.4              0.49         0.24            15.1      0.030   \n",
       "2643            8.1              0.33         0.22             5.2      0.047   \n",
       "...             ...               ...          ...             ...        ...   \n",
       "3030            7.1              0.47         0.29            14.8      0.024   \n",
       "4765            5.2              0.30         0.34             1.5      0.038   \n",
       "1158            5.7              0.26         0.27             4.1      0.201   \n",
       "2569            6.6              0.24         0.24             8.6      0.034   \n",
       "4396            7.4              0.27         0.26            11.8      0.053   \n",
       "\n",
       "      free sulfur dioxide  total sulfur dioxide  density    pH  sulphates  \\\n",
       "281                   5.0                  10.0  0.99720  3.25       1.08   \n",
       "606                  38.0                 158.0  0.99650  3.43       0.38   \n",
       "339                  49.0                 141.0  0.99340  3.43       0.85   \n",
       "1833                 34.0                 153.0  0.99530  3.13       0.51   \n",
       "2643                 24.0                 151.0  0.99527  3.22       0.47   \n",
       "...                   ...                   ...      ...   ...        ...   \n",
       "3030                 22.0                 142.0  0.99518  3.12       0.48   \n",
       "4765                 18.0                  96.0  0.98942  3.56       0.48   \n",
       "1158                 73.5                 189.5  0.99420  3.27       0.38   \n",
       "2569                 25.0                 135.0  0.99582  3.33       0.59   \n",
       "4396                 55.0                 173.0  0.99699  3.11       0.60   \n",
       "\n",
       "      alcohol  quality   type  \n",
       "281       9.9        7    red  \n",
       "606       9.6        5  white  \n",
       "339      10.2        7  white  \n",
       "1833     12.0        7  white  \n",
       "2643     10.3        5  white  \n",
       "...       ...      ...    ...  \n",
       "3030     12.0        8  white  \n",
       "4765     13.0        8  white  \n",
       "1158      9.4        6  white  \n",
       "2569     10.3        6  white  \n",
       "4396      9.8        5  white  \n",
       "\n",
       "[6497 rows x 13 columns]"
      ]
     },
     "execution_count": 1,
     "metadata": {},
     "output_type": "execute_result"
    }
   ],
   "source": [
    "import numpy as np\n",
    "import pandas as pd\n",
    "import os\n",
    "import glob\n",
    "import pickle\n",
    "\n",
    "import matplotlib.pyplot as plt\n",
    "from matplotlib.colors import ListedColormap\n",
    "from sklearn import neighbors, datasets\n",
    "from sklearn.tree import DecisionTreeClassifier\n",
    "\n",
    "df2 = pd.DataFrame()\n",
    "csv_file_path1 = glob.glob(os.path.join( \"HW_13_wine_dataset\", \"*.csv\"))\n",
    "for file in csv_file_path1:\n",
    "   \n",
    "    df2 = df2.append(pd.read_csv(file, sep=';').assign(type=(file.split('-')[-1].split('.')[0])))\n",
    "\n",
    "#df2[\"type\"]= np.where(df2[\"type\"] == 'red', 0, 1)\n",
    "#'red' = 0, white = 1\n",
    "df2 = df2.sample(frac=1) #перемішали\n",
    "\n",
    "df2"
   ]
  },
  {
   "cell_type": "code",
   "execution_count": 2,
   "metadata": {},
   "outputs": [],
   "source": [
    "df2['type'] = df2['type'].map({'red': 1, 'white': 0})"
   ]
  },
  {
   "cell_type": "code",
   "execution_count": 3,
   "metadata": {},
   "outputs": [
    {
     "data": {
      "text/html": [
       "<div>\n",
       "<style scoped>\n",
       "    .dataframe tbody tr th:only-of-type {\n",
       "        vertical-align: middle;\n",
       "    }\n",
       "\n",
       "    .dataframe tbody tr th {\n",
       "        vertical-align: top;\n",
       "    }\n",
       "\n",
       "    .dataframe thead th {\n",
       "        text-align: right;\n",
       "    }\n",
       "</style>\n",
       "<table border=\"1\" class=\"dataframe\">\n",
       "  <thead>\n",
       "    <tr style=\"text-align: right;\">\n",
       "      <th></th>\n",
       "      <th>fixed acidity</th>\n",
       "      <th>volatile acidity</th>\n",
       "      <th>citric acid</th>\n",
       "      <th>residual sugar</th>\n",
       "      <th>chlorides</th>\n",
       "      <th>free sulfur dioxide</th>\n",
       "      <th>total sulfur dioxide</th>\n",
       "      <th>density</th>\n",
       "      <th>pH</th>\n",
       "      <th>sulphates</th>\n",
       "      <th>alcohol</th>\n",
       "      <th>quality</th>\n",
       "      <th>type</th>\n",
       "    </tr>\n",
       "  </thead>\n",
       "  <tbody>\n",
       "    <tr>\n",
       "      <th>281</th>\n",
       "      <td>7.7</td>\n",
       "      <td>0.27</td>\n",
       "      <td>0.68</td>\n",
       "      <td>3.5</td>\n",
       "      <td>0.358</td>\n",
       "      <td>5.0</td>\n",
       "      <td>10.0</td>\n",
       "      <td>0.99720</td>\n",
       "      <td>3.25</td>\n",
       "      <td>1.08</td>\n",
       "      <td>9.9</td>\n",
       "      <td>7</td>\n",
       "      <td>1</td>\n",
       "    </tr>\n",
       "    <tr>\n",
       "      <th>606</th>\n",
       "      <td>7.3</td>\n",
       "      <td>0.25</td>\n",
       "      <td>0.29</td>\n",
       "      <td>7.5</td>\n",
       "      <td>0.049</td>\n",
       "      <td>38.0</td>\n",
       "      <td>158.0</td>\n",
       "      <td>0.99650</td>\n",
       "      <td>3.43</td>\n",
       "      <td>0.38</td>\n",
       "      <td>9.6</td>\n",
       "      <td>5</td>\n",
       "      <td>0</td>\n",
       "    </tr>\n",
       "    <tr>\n",
       "      <th>339</th>\n",
       "      <td>6.6</td>\n",
       "      <td>0.18</td>\n",
       "      <td>0.35</td>\n",
       "      <td>1.5</td>\n",
       "      <td>0.049</td>\n",
       "      <td>49.0</td>\n",
       "      <td>141.0</td>\n",
       "      <td>0.99340</td>\n",
       "      <td>3.43</td>\n",
       "      <td>0.85</td>\n",
       "      <td>10.2</td>\n",
       "      <td>7</td>\n",
       "      <td>0</td>\n",
       "    </tr>\n",
       "    <tr>\n",
       "      <th>1833</th>\n",
       "      <td>7.4</td>\n",
       "      <td>0.49</td>\n",
       "      <td>0.24</td>\n",
       "      <td>15.1</td>\n",
       "      <td>0.030</td>\n",
       "      <td>34.0</td>\n",
       "      <td>153.0</td>\n",
       "      <td>0.99530</td>\n",
       "      <td>3.13</td>\n",
       "      <td>0.51</td>\n",
       "      <td>12.0</td>\n",
       "      <td>7</td>\n",
       "      <td>0</td>\n",
       "    </tr>\n",
       "    <tr>\n",
       "      <th>2643</th>\n",
       "      <td>8.1</td>\n",
       "      <td>0.33</td>\n",
       "      <td>0.22</td>\n",
       "      <td>5.2</td>\n",
       "      <td>0.047</td>\n",
       "      <td>24.0</td>\n",
       "      <td>151.0</td>\n",
       "      <td>0.99527</td>\n",
       "      <td>3.22</td>\n",
       "      <td>0.47</td>\n",
       "      <td>10.3</td>\n",
       "      <td>5</td>\n",
       "      <td>0</td>\n",
       "    </tr>\n",
       "    <tr>\n",
       "      <th>...</th>\n",
       "      <td>...</td>\n",
       "      <td>...</td>\n",
       "      <td>...</td>\n",
       "      <td>...</td>\n",
       "      <td>...</td>\n",
       "      <td>...</td>\n",
       "      <td>...</td>\n",
       "      <td>...</td>\n",
       "      <td>...</td>\n",
       "      <td>...</td>\n",
       "      <td>...</td>\n",
       "      <td>...</td>\n",
       "      <td>...</td>\n",
       "    </tr>\n",
       "    <tr>\n",
       "      <th>3030</th>\n",
       "      <td>7.1</td>\n",
       "      <td>0.47</td>\n",
       "      <td>0.29</td>\n",
       "      <td>14.8</td>\n",
       "      <td>0.024</td>\n",
       "      <td>22.0</td>\n",
       "      <td>142.0</td>\n",
       "      <td>0.99518</td>\n",
       "      <td>3.12</td>\n",
       "      <td>0.48</td>\n",
       "      <td>12.0</td>\n",
       "      <td>8</td>\n",
       "      <td>0</td>\n",
       "    </tr>\n",
       "    <tr>\n",
       "      <th>4765</th>\n",
       "      <td>5.2</td>\n",
       "      <td>0.30</td>\n",
       "      <td>0.34</td>\n",
       "      <td>1.5</td>\n",
       "      <td>0.038</td>\n",
       "      <td>18.0</td>\n",
       "      <td>96.0</td>\n",
       "      <td>0.98942</td>\n",
       "      <td>3.56</td>\n",
       "      <td>0.48</td>\n",
       "      <td>13.0</td>\n",
       "      <td>8</td>\n",
       "      <td>0</td>\n",
       "    </tr>\n",
       "    <tr>\n",
       "      <th>1158</th>\n",
       "      <td>5.7</td>\n",
       "      <td>0.26</td>\n",
       "      <td>0.27</td>\n",
       "      <td>4.1</td>\n",
       "      <td>0.201</td>\n",
       "      <td>73.5</td>\n",
       "      <td>189.5</td>\n",
       "      <td>0.99420</td>\n",
       "      <td>3.27</td>\n",
       "      <td>0.38</td>\n",
       "      <td>9.4</td>\n",
       "      <td>6</td>\n",
       "      <td>0</td>\n",
       "    </tr>\n",
       "    <tr>\n",
       "      <th>2569</th>\n",
       "      <td>6.6</td>\n",
       "      <td>0.24</td>\n",
       "      <td>0.24</td>\n",
       "      <td>8.6</td>\n",
       "      <td>0.034</td>\n",
       "      <td>25.0</td>\n",
       "      <td>135.0</td>\n",
       "      <td>0.99582</td>\n",
       "      <td>3.33</td>\n",
       "      <td>0.59</td>\n",
       "      <td>10.3</td>\n",
       "      <td>6</td>\n",
       "      <td>0</td>\n",
       "    </tr>\n",
       "    <tr>\n",
       "      <th>4396</th>\n",
       "      <td>7.4</td>\n",
       "      <td>0.27</td>\n",
       "      <td>0.26</td>\n",
       "      <td>11.8</td>\n",
       "      <td>0.053</td>\n",
       "      <td>55.0</td>\n",
       "      <td>173.0</td>\n",
       "      <td>0.99699</td>\n",
       "      <td>3.11</td>\n",
       "      <td>0.60</td>\n",
       "      <td>9.8</td>\n",
       "      <td>5</td>\n",
       "      <td>0</td>\n",
       "    </tr>\n",
       "  </tbody>\n",
       "</table>\n",
       "<p>6497 rows × 13 columns</p>\n",
       "</div>"
      ],
      "text/plain": [
       "      fixed acidity  volatile acidity  citric acid  residual sugar  chlorides  \\\n",
       "281             7.7              0.27         0.68             3.5      0.358   \n",
       "606             7.3              0.25         0.29             7.5      0.049   \n",
       "339             6.6              0.18         0.35             1.5      0.049   \n",
       "1833            7.4              0.49         0.24            15.1      0.030   \n",
       "2643            8.1              0.33         0.22             5.2      0.047   \n",
       "...             ...               ...          ...             ...        ...   \n",
       "3030            7.1              0.47         0.29            14.8      0.024   \n",
       "4765            5.2              0.30         0.34             1.5      0.038   \n",
       "1158            5.7              0.26         0.27             4.1      0.201   \n",
       "2569            6.6              0.24         0.24             8.6      0.034   \n",
       "4396            7.4              0.27         0.26            11.8      0.053   \n",
       "\n",
       "      free sulfur dioxide  total sulfur dioxide  density    pH  sulphates  \\\n",
       "281                   5.0                  10.0  0.99720  3.25       1.08   \n",
       "606                  38.0                 158.0  0.99650  3.43       0.38   \n",
       "339                  49.0                 141.0  0.99340  3.43       0.85   \n",
       "1833                 34.0                 153.0  0.99530  3.13       0.51   \n",
       "2643                 24.0                 151.0  0.99527  3.22       0.47   \n",
       "...                   ...                   ...      ...   ...        ...   \n",
       "3030                 22.0                 142.0  0.99518  3.12       0.48   \n",
       "4765                 18.0                  96.0  0.98942  3.56       0.48   \n",
       "1158                 73.5                 189.5  0.99420  3.27       0.38   \n",
       "2569                 25.0                 135.0  0.99582  3.33       0.59   \n",
       "4396                 55.0                 173.0  0.99699  3.11       0.60   \n",
       "\n",
       "      alcohol  quality  type  \n",
       "281       9.9        7     1  \n",
       "606       9.6        5     0  \n",
       "339      10.2        7     0  \n",
       "1833     12.0        7     0  \n",
       "2643     10.3        5     0  \n",
       "...       ...      ...   ...  \n",
       "3030     12.0        8     0  \n",
       "4765     13.0        8     0  \n",
       "1158      9.4        6     0  \n",
       "2569     10.3        6     0  \n",
       "4396      9.8        5     0  \n",
       "\n",
       "[6497 rows x 13 columns]"
      ]
     },
     "execution_count": 3,
     "metadata": {},
     "output_type": "execute_result"
    }
   ],
   "source": [
    "df2"
   ]
  },
  {
   "cell_type": "code",
   "execution_count": 4,
   "metadata": {},
   "outputs": [
    {
     "name": "stdout",
     "output_type": "stream",
     "text": [
      "<class 'pandas.core.frame.DataFrame'>\n",
      "Int64Index: 6497 entries, 281 to 4396\n",
      "Data columns (total 13 columns):\n",
      " #   Column                Non-Null Count  Dtype  \n",
      "---  ------                --------------  -----  \n",
      " 0   fixed acidity         6497 non-null   float64\n",
      " 1   volatile acidity      6497 non-null   float64\n",
      " 2   citric acid           6497 non-null   float64\n",
      " 3   residual sugar        6497 non-null   float64\n",
      " 4   chlorides             6497 non-null   float64\n",
      " 5   free sulfur dioxide   6497 non-null   float64\n",
      " 6   total sulfur dioxide  6497 non-null   float64\n",
      " 7   density               6497 non-null   float64\n",
      " 8   pH                    6497 non-null   float64\n",
      " 9   sulphates             6497 non-null   float64\n",
      " 10  alcohol               6497 non-null   float64\n",
      " 11  quality               6497 non-null   int64  \n",
      " 12  type                  6497 non-null   int64  \n",
      "dtypes: float64(11), int64(2)\n",
      "memory usage: 710.6 KB\n"
     ]
    }
   ],
   "source": [
    "df2.info()"
   ]
  },
  {
   "cell_type": "code",
   "execution_count": 5,
   "metadata": {},
   "outputs": [],
   "source": [
    "y = df2['type'].astype('int')"
   ]
  },
  {
   "cell_type": "code",
   "execution_count": 6,
   "metadata": {},
   "outputs": [],
   "source": [
    "X = df2.drop('type', axis=1)"
   ]
  },
  {
   "cell_type": "code",
   "execution_count": 7,
   "metadata": {},
   "outputs": [
    {
     "data": {
      "text/plain": [
       "((6497, 12), (6497,))"
      ]
     },
     "execution_count": 7,
     "metadata": {},
     "output_type": "execute_result"
    }
   ],
   "source": [
    "X.shape, y.shape"
   ]
  },
  {
   "cell_type": "code",
   "execution_count": null,
   "metadata": {},
   "outputs": [],
   "source": [
    "train_test_split"
   ]
  },
  {
   "cell_type": "code",
   "execution_count": 8,
   "metadata": {},
   "outputs": [],
   "source": [
    "from sklearn.model_selection import train_test_split, cross_val_score\n",
    "import numpy as np"
   ]
  },
  {
   "cell_type": "code",
   "execution_count": 9,
   "metadata": {},
   "outputs": [],
   "source": [
    "X_train, X_valid, y_train, y_valid = train_test_split(X, y, \n",
    "                                                      test_size=0.3, \n",
    "                                                      random_state=17)"
   ]
  },
  {
   "cell_type": "code",
   "execution_count": 10,
   "metadata": {},
   "outputs": [
    {
     "data": {
      "text/plain": [
       "((4547, 12), (1950, 12))"
      ]
     },
     "execution_count": 10,
     "metadata": {},
     "output_type": "execute_result"
    }
   ],
   "source": [
    "X_train.shape, X_valid.shape"
   ]
  },
  {
   "cell_type": "code",
   "execution_count": 11,
   "metadata": {},
   "outputs": [],
   "source": [
    "first_tree = DecisionTreeClassifier(random_state=17)\n",
    "#DecisionTreeClassifier - Класифікатор дерева рішень\n"
   ]
  },
  {
   "cell_type": "code",
   "execution_count": 12,
   "metadata": {},
   "outputs": [
    {
     "data": {
      "text/plain": [
       "0.9830645921735031"
      ]
     },
     "execution_count": 12,
     "metadata": {},
     "output_type": "execute_result"
    }
   ],
   "source": [
    "np.mean(cross_val_score(first_tree, X_train, y_train, cv=5))"
   ]
  },
  {
   "cell_type": "code",
   "execution_count": 13,
   "metadata": {},
   "outputs": [
    {
     "data": {
      "text/plain": [
       "array([0.98791209, 0.98351648, 0.98349835, 0.97689769, 0.98349835])"
      ]
     },
     "execution_count": 13,
     "metadata": {},
     "output_type": "execute_result"
    }
   ],
   "source": [
    "cross_val_score(first_tree, X_train, y_train, cv=5)"
   ]
  },
  {
   "cell_type": "code",
   "execution_count": 14,
   "metadata": {},
   "outputs": [],
   "source": [
    "from sklearn.neighbors import KNeighborsClassifier"
   ]
  },
  {
   "cell_type": "code",
   "execution_count": 15,
   "metadata": {},
   "outputs": [
    {
     "name": "stdout",
     "output_type": "stream",
     "text": [
      "accuracy:  0.9815384615384616\n",
      "MAE:  0.018461538461538463\n",
      "MSE:  0.018461538461538463\n"
     ]
    }
   ],
   "source": [
    "from sklearn.metrics import classification_report, accuracy_score\n",
    "from sklearn.metrics import mean_squared_error\n",
    "from sklearn.metrics import mean_absolute_error\n",
    "\n",
    "first_tree.fit(X_train, y_train)\n",
    "first_tree_y_pred = first_tree.predict(X_valid)\n",
    "\n",
    "#print(classification_report(y_test, clf.predict(X_test)))\n",
    "print(\"accuracy: \", accuracy_score(y_valid, first_tree_y_pred))\n",
    "print(\"MAE: \", mean_absolute_error(y_valid, first_tree_y_pred))\n",
    "print(\"MSE: \", mean_squared_error(y_valid, first_tree_y_pred))"
   ]
  },
  {
   "cell_type": "code",
   "execution_count": 16,
   "metadata": {},
   "outputs": [
    {
     "data": {
      "text/plain": [
       "DecisionTreeClassifier(ccp_alpha=0.0, class_weight=None, criterion='gini',\n",
       "                       max_depth=None, max_features=None, max_leaf_nodes=None,\n",
       "                       min_impurity_decrease=0.0, min_impurity_split=None,\n",
       "                       min_samples_leaf=1, min_samples_split=2,\n",
       "                       min_weight_fraction_leaf=0.0, presort='deprecated',\n",
       "                       random_state=17, splitter='best')"
      ]
     },
     "execution_count": 16,
     "metadata": {},
     "output_type": "execute_result"
    }
   ],
   "source": [
    "first_tree"
   ]
  },
  {
   "cell_type": "markdown",
   "metadata": {},
   "source": [
    "# kNN"
   ]
  },
  {
   "cell_type": "code",
   "execution_count": 19,
   "metadata": {},
   "outputs": [
    {
     "name": "stdout",
     "output_type": "stream",
     "text": [
      "prediction precision rate: 0.9425641025641026\n"
     ]
    }
   ],
   "source": [
    "knn=KNeighborsClassifier(5)\n",
    "# fit with train data set (надавати train data set)\n",
    "knn.fit(X_train, y_train)\n",
    "print(\"prediction precision rate:\",knn.score(X_valid,y_valid))"
   ]
  },
  {
   "cell_type": "code",
   "execution_count": 20,
   "metadata": {},
   "outputs": [
    {
     "name": "stdout",
     "output_type": "stream",
     "text": [
      "accuracy:  0.9425641025641026\n",
      "MAE:  0.057435897435897436\n",
      "MSE:  0.057435897435897436\n"
     ]
    }
   ],
   "source": [
    "#print(classification_report(y_test, clf.predict(X_test)))\n",
    "knn.fit(X_train, y_train)\n",
    "knn_y_pred = knn.predict(X_valid)\n",
    "\n",
    "print(\"accuracy: \", accuracy_score(y_valid, knn_y_pred))\n",
    "print(\"MAE: \", mean_absolute_error(y_valid, knn_y_pred))\n",
    "print(\"MSE: \", mean_squared_error(y_valid, knn_y_pred))"
   ]
  },
  {
   "cell_type": "code",
   "execution_count": null,
   "metadata": {},
   "outputs": [],
   "source": []
  },
  {
   "cell_type": "code",
   "execution_count": null,
   "metadata": {},
   "outputs": [],
   "source": []
  },
  {
   "cell_type": "code",
   "execution_count": null,
   "metadata": {},
   "outputs": [],
   "source": []
  },
  {
   "cell_type": "code",
   "execution_count": null,
   "metadata": {},
   "outputs": [],
   "source": []
  },
  {
   "cell_type": "code",
   "execution_count": null,
   "metadata": {},
   "outputs": [],
   "source": []
  },
  {
   "cell_type": "code",
   "execution_count": null,
   "metadata": {},
   "outputs": [],
   "source": []
  },
  {
   "cell_type": "code",
   "execution_count": null,
   "metadata": {},
   "outputs": [],
   "source": []
  },
  {
   "cell_type": "code",
   "execution_count": null,
   "metadata": {},
   "outputs": [],
   "source": []
  },
  {
   "cell_type": "code",
   "execution_count": null,
   "metadata": {},
   "outputs": [],
   "source": []
  },
  {
   "cell_type": "code",
   "execution_count": null,
   "metadata": {},
   "outputs": [],
   "source": []
  },
  {
   "cell_type": "code",
   "execution_count": null,
   "metadata": {},
   "outputs": [],
   "source": []
  },
  {
   "cell_type": "code",
   "execution_count": null,
   "metadata": {},
   "outputs": [],
   "source": []
  },
  {
   "cell_type": "code",
   "execution_count": null,
   "metadata": {},
   "outputs": [],
   "source": []
  },
  {
   "cell_type": "code",
   "execution_count": null,
   "metadata": {},
   "outputs": [],
   "source": []
  },
  {
   "cell_type": "code",
   "execution_count": null,
   "metadata": {},
   "outputs": [],
   "source": []
  },
  {
   "cell_type": "code",
   "execution_count": null,
   "metadata": {},
   "outputs": [],
   "source": []
  },
  {
   "cell_type": "code",
   "execution_count": null,
   "metadata": {},
   "outputs": [],
   "source": []
  },
  {
   "cell_type": "code",
   "execution_count": null,
   "metadata": {},
   "outputs": [],
   "source": []
  },
  {
   "cell_type": "code",
   "execution_count": null,
   "metadata": {},
   "outputs": [],
   "source": []
  },
  {
   "cell_type": "code",
   "execution_count": null,
   "metadata": {},
   "outputs": [],
   "source": []
  },
  {
   "cell_type": "code",
   "execution_count": null,
   "metadata": {},
   "outputs": [],
   "source": []
  },
  {
   "cell_type": "code",
   "execution_count": null,
   "metadata": {},
   "outputs": [],
   "source": []
  },
  {
   "cell_type": "code",
   "execution_count": null,
   "metadata": {},
   "outputs": [],
   "source": []
  },
  {
   "cell_type": "code",
   "execution_count": null,
   "metadata": {},
   "outputs": [],
   "source": []
  },
  {
   "cell_type": "code",
   "execution_count": null,
   "metadata": {},
   "outputs": [],
   "source": []
  },
  {
   "cell_type": "code",
   "execution_count": null,
   "metadata": {},
   "outputs": [],
   "source": []
  }
 ],
 "metadata": {
  "kernelspec": {
   "display_name": "Python 3",
   "language": "python",
   "name": "python3"
  },
  "language_info": {
   "codemirror_mode": {
    "name": "ipython",
    "version": 3
   },
   "file_extension": ".py",
   "mimetype": "text/x-python",
   "name": "python",
   "nbconvert_exporter": "python",
   "pygments_lexer": "ipython3",
   "version": "3.7.6"
  }
 },
 "nbformat": 4,
 "nbformat_minor": 2
}
