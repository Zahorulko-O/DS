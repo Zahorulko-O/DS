{
 "cells": [
  {
   "cell_type": "markdown",
   "metadata": {},
   "source": [
    "# <center> Регрессия, регуляризация\n",
    "## <center> Прогноз числа прокатов велосипедов"
   ]
  },
  {
   "cell_type": "code",
   "execution_count": 1,
   "metadata": {},
   "outputs": [],
   "source": [
    "import numpy as np\n",
    "import pandas as pd"
   ]
  },
  {
   "cell_type": "code",
   "execution_count": 2,
   "metadata": {},
   "outputs": [],
   "source": [
    "data = pd.read_csv('bikes_rent.csv')"
   ]
  },
  {
   "cell_type": "code",
   "execution_count": 3,
   "metadata": {},
   "outputs": [
    {
     "data": {
      "text/plain": [
       "(731, 13)"
      ]
     },
     "execution_count": 3,
     "metadata": {},
     "output_type": "execute_result"
    }
   ],
   "source": [
    "data.shape"
   ]
  },
  {
   "cell_type": "code",
   "execution_count": 4,
   "metadata": {},
   "outputs": [
    {
     "name": "stdout",
     "output_type": "stream",
     "text": [
      "<class 'pandas.core.frame.DataFrame'>\n",
      "RangeIndex: 731 entries, 0 to 730\n",
      "Data columns (total 13 columns):\n",
      "season            731 non-null int64\n",
      "yr                731 non-null int64\n",
      "mnth              731 non-null int64\n",
      "holiday           731 non-null int64\n",
      "weekday           731 non-null int64\n",
      "workingday        731 non-null int64\n",
      "weathersit        731 non-null int64\n",
      "temp              731 non-null float64\n",
      "atemp             731 non-null float64\n",
      "hum               731 non-null float64\n",
      "windspeed(mph)    731 non-null float64\n",
      "windspeed(ms)     731 non-null float64\n",
      "cnt               731 non-null int64\n",
      "dtypes: float64(5), int64(8)\n",
      "memory usage: 74.4 KB\n"
     ]
    }
   ],
   "source": [
    "data.info()"
   ]
  },
  {
   "cell_type": "code",
   "execution_count": 5,
   "metadata": {},
   "outputs": [
    {
     "data": {
      "text/html": [
       "<div>\n",
       "<style scoped>\n",
       "    .dataframe tbody tr th:only-of-type {\n",
       "        vertical-align: middle;\n",
       "    }\n",
       "\n",
       "    .dataframe tbody tr th {\n",
       "        vertical-align: top;\n",
       "    }\n",
       "\n",
       "    .dataframe thead th {\n",
       "        text-align: right;\n",
       "    }\n",
       "</style>\n",
       "<table border=\"1\" class=\"dataframe\">\n",
       "  <thead>\n",
       "    <tr style=\"text-align: right;\">\n",
       "      <th></th>\n",
       "      <th>season</th>\n",
       "      <th>yr</th>\n",
       "      <th>mnth</th>\n",
       "      <th>holiday</th>\n",
       "      <th>weekday</th>\n",
       "      <th>workingday</th>\n",
       "      <th>weathersit</th>\n",
       "      <th>temp</th>\n",
       "      <th>atemp</th>\n",
       "      <th>hum</th>\n",
       "      <th>windspeed(mph)</th>\n",
       "      <th>windspeed(ms)</th>\n",
       "      <th>cnt</th>\n",
       "    </tr>\n",
       "  </thead>\n",
       "  <tbody>\n",
       "    <tr>\n",
       "      <th>0</th>\n",
       "      <td>1</td>\n",
       "      <td>0</td>\n",
       "      <td>1</td>\n",
       "      <td>0</td>\n",
       "      <td>6</td>\n",
       "      <td>0</td>\n",
       "      <td>2</td>\n",
       "      <td>14.110847</td>\n",
       "      <td>18.18125</td>\n",
       "      <td>80.5833</td>\n",
       "      <td>10.749882</td>\n",
       "      <td>4.805490</td>\n",
       "      <td>985</td>\n",
       "    </tr>\n",
       "    <tr>\n",
       "      <th>1</th>\n",
       "      <td>1</td>\n",
       "      <td>0</td>\n",
       "      <td>1</td>\n",
       "      <td>0</td>\n",
       "      <td>0</td>\n",
       "      <td>0</td>\n",
       "      <td>2</td>\n",
       "      <td>14.902598</td>\n",
       "      <td>17.68695</td>\n",
       "      <td>69.6087</td>\n",
       "      <td>16.652113</td>\n",
       "      <td>7.443949</td>\n",
       "      <td>801</td>\n",
       "    </tr>\n",
       "    <tr>\n",
       "      <th>2</th>\n",
       "      <td>1</td>\n",
       "      <td>0</td>\n",
       "      <td>1</td>\n",
       "      <td>0</td>\n",
       "      <td>1</td>\n",
       "      <td>1</td>\n",
       "      <td>1</td>\n",
       "      <td>8.050924</td>\n",
       "      <td>9.47025</td>\n",
       "      <td>43.7273</td>\n",
       "      <td>16.636703</td>\n",
       "      <td>7.437060</td>\n",
       "      <td>1349</td>\n",
       "    </tr>\n",
       "    <tr>\n",
       "      <th>3</th>\n",
       "      <td>1</td>\n",
       "      <td>0</td>\n",
       "      <td>1</td>\n",
       "      <td>0</td>\n",
       "      <td>2</td>\n",
       "      <td>1</td>\n",
       "      <td>1</td>\n",
       "      <td>8.200000</td>\n",
       "      <td>10.60610</td>\n",
       "      <td>59.0435</td>\n",
       "      <td>10.739832</td>\n",
       "      <td>4.800998</td>\n",
       "      <td>1562</td>\n",
       "    </tr>\n",
       "    <tr>\n",
       "      <th>4</th>\n",
       "      <td>1</td>\n",
       "      <td>0</td>\n",
       "      <td>1</td>\n",
       "      <td>0</td>\n",
       "      <td>3</td>\n",
       "      <td>1</td>\n",
       "      <td>1</td>\n",
       "      <td>9.305237</td>\n",
       "      <td>11.46350</td>\n",
       "      <td>43.6957</td>\n",
       "      <td>12.522300</td>\n",
       "      <td>5.597810</td>\n",
       "      <td>1600</td>\n",
       "    </tr>\n",
       "  </tbody>\n",
       "</table>\n",
       "</div>"
      ],
      "text/plain": [
       "   season  yr  mnth  holiday  weekday  workingday  weathersit       temp  \\\n",
       "0       1   0     1        0        6           0           2  14.110847   \n",
       "1       1   0     1        0        0           0           2  14.902598   \n",
       "2       1   0     1        0        1           1           1   8.050924   \n",
       "3       1   0     1        0        2           1           1   8.200000   \n",
       "4       1   0     1        0        3           1           1   9.305237   \n",
       "\n",
       "      atemp      hum  windspeed(mph)  windspeed(ms)   cnt  \n",
       "0  18.18125  80.5833       10.749882       4.805490   985  \n",
       "1  17.68695  69.6087       16.652113       7.443949   801  \n",
       "2   9.47025  43.7273       16.636703       7.437060  1349  \n",
       "3  10.60610  59.0435       10.739832       4.800998  1562  \n",
       "4  11.46350  43.6957       12.522300       5.597810  1600  "
      ]
     },
     "execution_count": 5,
     "metadata": {},
     "output_type": "execute_result"
    }
   ],
   "source": [
    "data.head()"
   ]
  },
  {
   "cell_type": "code",
   "execution_count": 6,
   "metadata": {},
   "outputs": [
    {
     "data": {
      "text/plain": [
       "3    188\n",
       "2    184\n",
       "1    181\n",
       "4    178\n",
       "Name: season, dtype: int64"
      ]
     },
     "execution_count": 6,
     "metadata": {},
     "output_type": "execute_result"
    }
   ],
   "source": [
    "data['season'].value_counts()"
   ]
  },
  {
   "cell_type": "code",
   "execution_count": 7,
   "metadata": {},
   "outputs": [
    {
     "data": {
      "text/html": [
       "<div>\n",
       "<style scoped>\n",
       "    .dataframe tbody tr th:only-of-type {\n",
       "        vertical-align: middle;\n",
       "    }\n",
       "\n",
       "    .dataframe tbody tr th {\n",
       "        vertical-align: top;\n",
       "    }\n",
       "\n",
       "    .dataframe thead th {\n",
       "        text-align: right;\n",
       "    }\n",
       "</style>\n",
       "<table border=\"1\" class=\"dataframe\">\n",
       "  <thead>\n",
       "    <tr style=\"text-align: right;\">\n",
       "      <th></th>\n",
       "      <th>season</th>\n",
       "      <th>yr</th>\n",
       "      <th>mnth</th>\n",
       "      <th>holiday</th>\n",
       "      <th>weekday</th>\n",
       "      <th>workingday</th>\n",
       "      <th>weathersit</th>\n",
       "      <th>temp</th>\n",
       "      <th>atemp</th>\n",
       "      <th>hum</th>\n",
       "      <th>windspeed(mph)</th>\n",
       "      <th>windspeed(ms)</th>\n",
       "      <th>cnt</th>\n",
       "    </tr>\n",
       "  </thead>\n",
       "  <tbody>\n",
       "    <tr>\n",
       "      <th>count</th>\n",
       "      <td>731.000000</td>\n",
       "      <td>731.000000</td>\n",
       "      <td>731.000000</td>\n",
       "      <td>731.000000</td>\n",
       "      <td>731.000000</td>\n",
       "      <td>731.000000</td>\n",
       "      <td>731.000000</td>\n",
       "      <td>731.000000</td>\n",
       "      <td>731.000000</td>\n",
       "      <td>731.000000</td>\n",
       "      <td>731.000000</td>\n",
       "      <td>731.000000</td>\n",
       "      <td>731.000000</td>\n",
       "    </tr>\n",
       "    <tr>\n",
       "      <th>mean</th>\n",
       "      <td>2.496580</td>\n",
       "      <td>0.500684</td>\n",
       "      <td>6.519836</td>\n",
       "      <td>0.028728</td>\n",
       "      <td>2.997264</td>\n",
       "      <td>0.683995</td>\n",
       "      <td>1.395349</td>\n",
       "      <td>20.310776</td>\n",
       "      <td>23.717699</td>\n",
       "      <td>62.789406</td>\n",
       "      <td>12.762576</td>\n",
       "      <td>5.705220</td>\n",
       "      <td>4504.348837</td>\n",
       "    </tr>\n",
       "    <tr>\n",
       "      <th>std</th>\n",
       "      <td>1.110807</td>\n",
       "      <td>0.500342</td>\n",
       "      <td>3.451913</td>\n",
       "      <td>0.167155</td>\n",
       "      <td>2.004787</td>\n",
       "      <td>0.465233</td>\n",
       "      <td>0.544894</td>\n",
       "      <td>7.505091</td>\n",
       "      <td>8.148059</td>\n",
       "      <td>14.242910</td>\n",
       "      <td>5.192357</td>\n",
       "      <td>2.321125</td>\n",
       "      <td>1937.211452</td>\n",
       "    </tr>\n",
       "    <tr>\n",
       "      <th>min</th>\n",
       "      <td>1.000000</td>\n",
       "      <td>0.000000</td>\n",
       "      <td>1.000000</td>\n",
       "      <td>0.000000</td>\n",
       "      <td>0.000000</td>\n",
       "      <td>0.000000</td>\n",
       "      <td>1.000000</td>\n",
       "      <td>2.424346</td>\n",
       "      <td>3.953480</td>\n",
       "      <td>0.000000</td>\n",
       "      <td>1.500244</td>\n",
       "      <td>0.670650</td>\n",
       "      <td>22.000000</td>\n",
       "    </tr>\n",
       "    <tr>\n",
       "      <th>25%</th>\n",
       "      <td>2.000000</td>\n",
       "      <td>0.000000</td>\n",
       "      <td>4.000000</td>\n",
       "      <td>0.000000</td>\n",
       "      <td>1.000000</td>\n",
       "      <td>0.000000</td>\n",
       "      <td>1.000000</td>\n",
       "      <td>13.820424</td>\n",
       "      <td>16.892125</td>\n",
       "      <td>52.000000</td>\n",
       "      <td>9.041650</td>\n",
       "      <td>4.041864</td>\n",
       "      <td>3152.000000</td>\n",
       "    </tr>\n",
       "    <tr>\n",
       "      <th>50%</th>\n",
       "      <td>3.000000</td>\n",
       "      <td>1.000000</td>\n",
       "      <td>7.000000</td>\n",
       "      <td>0.000000</td>\n",
       "      <td>3.000000</td>\n",
       "      <td>1.000000</td>\n",
       "      <td>1.000000</td>\n",
       "      <td>20.431653</td>\n",
       "      <td>24.336650</td>\n",
       "      <td>62.666700</td>\n",
       "      <td>12.125325</td>\n",
       "      <td>5.420351</td>\n",
       "      <td>4548.000000</td>\n",
       "    </tr>\n",
       "    <tr>\n",
       "      <th>75%</th>\n",
       "      <td>3.000000</td>\n",
       "      <td>1.000000</td>\n",
       "      <td>10.000000</td>\n",
       "      <td>0.000000</td>\n",
       "      <td>5.000000</td>\n",
       "      <td>1.000000</td>\n",
       "      <td>2.000000</td>\n",
       "      <td>26.872077</td>\n",
       "      <td>30.430100</td>\n",
       "      <td>73.020850</td>\n",
       "      <td>15.625371</td>\n",
       "      <td>6.984967</td>\n",
       "      <td>5956.000000</td>\n",
       "    </tr>\n",
       "    <tr>\n",
       "      <th>max</th>\n",
       "      <td>4.000000</td>\n",
       "      <td>1.000000</td>\n",
       "      <td>12.000000</td>\n",
       "      <td>1.000000</td>\n",
       "      <td>6.000000</td>\n",
       "      <td>1.000000</td>\n",
       "      <td>3.000000</td>\n",
       "      <td>35.328347</td>\n",
       "      <td>42.044800</td>\n",
       "      <td>97.250000</td>\n",
       "      <td>34.000021</td>\n",
       "      <td>15.198937</td>\n",
       "      <td>8714.000000</td>\n",
       "    </tr>\n",
       "  </tbody>\n",
       "</table>\n",
       "</div>"
      ],
      "text/plain": [
       "           season          yr        mnth     holiday     weekday  workingday  \\\n",
       "count  731.000000  731.000000  731.000000  731.000000  731.000000  731.000000   \n",
       "mean     2.496580    0.500684    6.519836    0.028728    2.997264    0.683995   \n",
       "std      1.110807    0.500342    3.451913    0.167155    2.004787    0.465233   \n",
       "min      1.000000    0.000000    1.000000    0.000000    0.000000    0.000000   \n",
       "25%      2.000000    0.000000    4.000000    0.000000    1.000000    0.000000   \n",
       "50%      3.000000    1.000000    7.000000    0.000000    3.000000    1.000000   \n",
       "75%      3.000000    1.000000   10.000000    0.000000    5.000000    1.000000   \n",
       "max      4.000000    1.000000   12.000000    1.000000    6.000000    1.000000   \n",
       "\n",
       "       weathersit        temp       atemp         hum  windspeed(mph)  \\\n",
       "count  731.000000  731.000000  731.000000  731.000000      731.000000   \n",
       "mean     1.395349   20.310776   23.717699   62.789406       12.762576   \n",
       "std      0.544894    7.505091    8.148059   14.242910        5.192357   \n",
       "min      1.000000    2.424346    3.953480    0.000000        1.500244   \n",
       "25%      1.000000   13.820424   16.892125   52.000000        9.041650   \n",
       "50%      1.000000   20.431653   24.336650   62.666700       12.125325   \n",
       "75%      2.000000   26.872077   30.430100   73.020850       15.625371   \n",
       "max      3.000000   35.328347   42.044800   97.250000       34.000021   \n",
       "\n",
       "       windspeed(ms)          cnt  \n",
       "count     731.000000   731.000000  \n",
       "mean        5.705220  4504.348837  \n",
       "std         2.321125  1937.211452  \n",
       "min         0.670650    22.000000  \n",
       "25%         4.041864  3152.000000  \n",
       "50%         5.420351  4548.000000  \n",
       "75%         6.984967  5956.000000  \n",
       "max        15.198937  8714.000000  "
      ]
     },
     "execution_count": 7,
     "metadata": {},
     "output_type": "execute_result"
    }
   ],
   "source": [
    "data.describe()"
   ]
  },
  {
   "cell_type": "code",
   "execution_count": 8,
   "metadata": {},
   "outputs": [],
   "source": [
    "%matplotlib inline\n",
    "from matplotlib import pyplot as plt\n",
    "import seaborn as sns\n",
    "\n",
    "#plt.rcParams['figure.figsize'] = (12, 8)"
   ]
  },
  {
   "cell_type": "code",
   "execution_count": 9,
   "metadata": {},
   "outputs": [
    {
     "data": {
      "image/png": "[encoded data removed]",
      "text/plain": [
       "<Figure size 432x288 with 1 Axes>"
      ]
     },
     "metadata": {
      "needs_background": "light"
     },
     "output_type": "display_data"
    }
   ],
   "source": [
    "sns.violinplot(data['season'], data['cnt']);"
   ]
  },
  {
   "cell_type": "code",
   "execution_count": 10,
   "metadata": {},
   "outputs": [
    {
     "data": {
      "image/png": "[encoded data removed]",
      "text/plain": [
       "<Figure size 432x288 with 2 Axes>"
      ]
     },
     "metadata": {
      "needs_background": "light"
     },
     "output_type": "display_data"
    }
   ],
   "source": [
    "sns.heatmap(data.corr());"
   ]
  },
  {
   "cell_type": "code",
   "execution_count": 11,
   "metadata": {},
   "outputs": [
    {
     "data": {
      "text/plain": [
       "(731, 13)"
      ]
     },
     "execution_count": 11,
     "metadata": {},
     "output_type": "execute_result"
    }
   ],
   "source": [
    "data.shape"
   ]
  },
  {
   "cell_type": "code",
   "execution_count": 12,
   "metadata": {},
   "outputs": [
    {
     "data": {
      "image/png": "[encoded data removed]",
      "text/plain": [
       "<Figure size 864x576 with 12 Axes>"
      ]
     },
     "metadata": {
      "needs_background": "light"
     },
     "output_type": "display_data"
    }
   ],
   "source": [
    "for i, col in enumerate(data.columns[:-1]):\n",
    "    plt.rcParams['figure.figsize'] = (12, 8)\n",
    "    plt.subplot(4, 3, i + 1)\n",
    "    plt.scatter(data[col], data['cnt'])\n",
    "    plt.title(col)"
   ]
  },
  {
   "cell_type": "code",
   "execution_count": 13,
   "metadata": {},
   "outputs": [
    {
     "data": {
      "image/png": "[encoded data removed]",
      "text/plain": [
       "<Figure size 864x576 with 1 Axes>"
      ]
     },
     "metadata": {
      "needs_background": "light"
     },
     "output_type": "display_data"
    }
   ],
   "source": [
    "plt.scatter(data.mnth, data.cnt);"
   ]
  },
  {
   "cell_type": "code",
   "execution_count": 14,
   "metadata": {},
   "outputs": [
    {
     "data": {
      "image/png": "[encoded data removed]",
      "text/plain": [
       "<Figure size 864x576 with 1 Axes>"
      ]
     },
     "metadata": {
      "needs_background": "light"
     },
     "output_type": "display_data"
    }
   ],
   "source": [
    "plt.scatter(data.temp, data.cnt);"
   ]
  },
  {
   "cell_type": "code",
   "execution_count": 15,
   "metadata": {},
   "outputs": [],
   "source": [
    "from sklearn.linear_model import LinearRegression, Lasso, Ridge\n",
    "from sklearn.linear_model import LassoCV, RidgeCV\n",
    "from sklearn.ensemble import RandomForestRegressor\n",
    "from sklearn.preprocessing import StandardScaler\n",
    "from sklearn.metrics import mean_squared_error"
   ]
  },
  {
   "cell_type": "code",
   "execution_count": 16,
   "metadata": {},
   "outputs": [],
   "source": [
    "linreg = LinearRegression()\n",
    "lasso = Lasso(random_state=17)\n",
    "ridge = Ridge(random_state=17)\n",
    "lasso_cv = LassoCV(random_state=17)\n",
    "ridge_cv = RidgeCV()"
   ]
  },
  {
   "cell_type": "code",
   "execution_count": 17,
   "metadata": {},
   "outputs": [],
   "source": [
    "X, y = data.drop('cnt', axis=1).values, data['cnt'].values"
   ]
  },
  {
   "cell_type": "code",
   "execution_count": 18,
   "metadata": {},
   "outputs": [],
   "source": [
    "train_part_size = int(.7 * X.shape[0])\n",
    "\n",
    "X_train, X_valid = X[:train_part_size, :], X[train_part_size:, :]\n",
    "y_train, y_valid = y[:train_part_size], y[train_part_size:]\n"
   ]
  },
  {
   "cell_type": "code",
   "execution_count": 19,
   "metadata": {},
   "outputs": [],
   "source": [
    "scaler = StandardScaler()\n",
    "X_train_scaled = scaler.fit_transform(X_train)\n",
    "X_valid_scaled = scaler.transform(X_valid)"
   ]
  },
  {
   "cell_type": "code",
   "execution_count": 20,
   "metadata": {},
   "outputs": [
    {
     "data": {
      "text/plain": [
       "LinearRegression(copy_X=True, fit_intercept=True, n_jobs=None, normalize=False)"
      ]
     },
     "execution_count": 20,
     "metadata": {},
     "output_type": "execute_result"
    }
   ],
   "source": [
    "linreg.fit(X_train_scaled, y_train)"
   ]
  },
  {
   "cell_type": "code",
   "execution_count": 21,
   "metadata": {},
   "outputs": [
    {
     "data": {
      "text/plain": [
       "1121.7948196341106"
      ]
     },
     "execution_count": 21,
     "metadata": {},
     "output_type": "execute_result"
    }
   ],
   "source": [
    "np.sqrt(mean_squared_error(y_valid, linreg.predict(X_valid_scaled)))"
   ]
  },
  {
   "cell_type": "code",
   "execution_count": 22,
   "metadata": {},
   "outputs": [
    {
     "data": {
      "image/png": "[encoded data removed]",
      "text/plain": [
       "<Figure size 864x576 with 1 Axes>"
      ]
     },
     "metadata": {
      "needs_background": "light"
     },
     "output_type": "display_data"
    }
   ],
   "source": [
    "data['cnt'].hist();"
   ]
  },
  {
   "cell_type": "code",
   "execution_count": 23,
   "metadata": {},
   "outputs": [
    {
     "data": {
      "text/html": [
       "<div>\n",
       "<style scoped>\n",
       "    .dataframe tbody tr th:only-of-type {\n",
       "        vertical-align: middle;\n",
       "    }\n",
       "\n",
       "    .dataframe tbody tr th {\n",
       "        vertical-align: top;\n",
       "    }\n",
       "\n",
       "    .dataframe thead th {\n",
       "        text-align: right;\n",
       "    }\n",
       "</style>\n",
       "<table border=\"1\" class=\"dataframe\">\n",
       "  <thead>\n",
       "    <tr style=\"text-align: right;\">\n",
       "      <th></th>\n",
       "      <th>coef</th>\n",
       "    </tr>\n",
       "  </thead>\n",
       "  <tbody>\n",
       "    <tr>\n",
       "      <th>windspeed(ms)</th>\n",
       "      <td>3.048097e+12</td>\n",
       "    </tr>\n",
       "    <tr>\n",
       "      <th>yr</th>\n",
       "      <td>9.540702e+02</td>\n",
       "    </tr>\n",
       "    <tr>\n",
       "      <th>atemp</th>\n",
       "      <td>8.911671e+02</td>\n",
       "    </tr>\n",
       "    <tr>\n",
       "      <th>season</th>\n",
       "      <td>4.048569e+02</td>\n",
       "    </tr>\n",
       "    <tr>\n",
       "      <th>weekday</th>\n",
       "      <td>1.037111e+02</td>\n",
       "    </tr>\n",
       "    <tr>\n",
       "      <th>temp</th>\n",
       "      <td>6.249081e+01</td>\n",
       "    </tr>\n",
       "    <tr>\n",
       "      <th>mnth</th>\n",
       "      <td>3.080960e+01</td>\n",
       "    </tr>\n",
       "    <tr>\n",
       "      <th>workingday</th>\n",
       "      <td>1.470184e+01</td>\n",
       "    </tr>\n",
       "    <tr>\n",
       "      <th>holiday</th>\n",
       "      <td>-6.757382e+01</td>\n",
       "    </tr>\n",
       "    <tr>\n",
       "      <th>hum</th>\n",
       "      <td>-1.589777e+02</td>\n",
       "    </tr>\n",
       "    <tr>\n",
       "      <th>weathersit</th>\n",
       "      <td>-2.938156e+02</td>\n",
       "    </tr>\n",
       "    <tr>\n",
       "      <th>windspeed(mph)</th>\n",
       "      <td>-3.048097e+12</td>\n",
       "    </tr>\n",
       "  </tbody>\n",
       "</table>\n",
       "</div>"
      ],
      "text/plain": [
       "                        coef\n",
       "windspeed(ms)   3.048097e+12\n",
       "yr              9.540702e+02\n",
       "atemp           8.911671e+02\n",
       "season          4.048569e+02\n",
       "weekday         1.037111e+02\n",
       "temp            6.249081e+01\n",
       "mnth            3.080960e+01\n",
       "workingday      1.470184e+01\n",
       "holiday        -6.757382e+01\n",
       "hum            -1.589777e+02\n",
       "weathersit     -2.938156e+02\n",
       "windspeed(mph) -3.048097e+12"
      ]
     },
     "execution_count": 23,
     "metadata": {},
     "output_type": "execute_result"
    }
   ],
   "source": [
    "pd.DataFrame(linreg.coef_, \n",
    "             data.columns[:-1], columns=['coef']).sort_values(by='coef',\n",
    "                                                             ascending=False)"
   ]
  },
  {
   "cell_type": "code",
   "execution_count": 24,
   "metadata": {},
   "outputs": [],
   "source": [
    "def train_validate_report(model, X_train_scaled, y_train,\n",
    "                         X_valid_scaled, y_valid, feature_names,\n",
    "                         forest=False):\n",
    "    \"\"\"\n",
    "    For linear models and regression trees\n",
    "    \"\"\"\n",
    "    model.fit(X_train_scaled, y_train)\n",
    "    print(\"MSE=%f\" % np.sqrt(mean_squared_error(y_valid, \n",
    "                                     model.predict(X_valid_scaled))))\n",
    "    print(\"Model coefficients:\")\n",
    "    coef = model.feature_importances_ if forest else model.coef_\n",
    "    coef_name = 'Importance' if forest else 'Coef'\n",
    "\n",
    "    print(pd.DataFrame(coef, \n",
    "             feature_names, columns=[coef_name]).sort_values(by=coef_name,\n",
    "                                                        ascending=False))"
   ]
  },
  {
   "cell_type": "code",
   "execution_count": 25,
   "metadata": {},
   "outputs": [
    {
     "name": "stdout",
     "output_type": "stream",
     "text": [
      "MSE=1120.721409\n",
      "Model coefficients:\n",
      "                      Coef\n",
      "yr              952.804560\n",
      "atemp           877.159813\n",
      "season          403.416439\n",
      "weekday         102.643044\n",
      "temp             75.953962\n",
      "mnth             29.857599\n",
      "workingday       14.173377\n",
      "windspeed(ms)    -0.000000\n",
      "holiday         -67.073435\n",
      "hum            -157.547615\n",
      "windspeed(mph) -187.341353\n",
      "weathersit     -293.177257\n"
     ]
    }
   ],
   "source": [
    "train_validate_report(lasso, X_train_scaled, y_train,\n",
    "                         X_valid_scaled, y_valid, \n",
    "                      feature_names=data.columns[:-1])"
   ]
  },
  {
   "cell_type": "code",
   "execution_count": 26,
   "metadata": {},
   "outputs": [
    {
     "name": "stderr",
     "output_type": "stream",
     "text": [
      "C:\\Users\\Olya\\Anaconda3\\lib\\site-packages\\sklearn\\model_selection\\_split.py:1978: FutureWarning: The default value of cv will change from 3 to 5 in version 0.22. Specify it explicitly to silence this warning.\n",
      "  warnings.warn(CV_WARNING, FutureWarning)\n"
     ]
    },
    {
     "name": "stdout",
     "output_type": "stream",
     "text": [
      "MSE=1241.823261\n",
      "Model coefficients:\n",
      "                      Coef\n",
      "atemp           886.374386\n",
      "yr              784.305733\n",
      "season          272.280614\n",
      "weekday          12.617944\n",
      "mnth              0.000000\n",
      "holiday          -0.000000\n",
      "workingday        0.000000\n",
      "temp              0.000000\n",
      "windspeed(ms)    -0.000000\n",
      "hum              -9.823886\n",
      "windspeed(mph)  -77.728632\n",
      "weathersit     -279.739913\n"
     ]
    }
   ],
   "source": [
    "train_validate_report(lasso_cv, X_train_scaled, y_train,\n",
    "                         X_valid_scaled, y_valid, \n",
    "                      feature_names=data.columns[:-1])"
   ]
  },
  {
   "cell_type": "code",
   "execution_count": 27,
   "metadata": {},
   "outputs": [
    {
     "name": "stdout",
     "output_type": "stream",
     "text": [
      "MSE=1119.560520\n",
      "Model coefficients:\n",
      "                      Coef\n",
      "yr              954.075878\n",
      "atemp           730.747340\n",
      "season          400.114172\n",
      "temp            221.406072\n",
      "weekday         103.198680\n",
      "mnth             34.687740\n",
      "workingday       15.334339\n",
      "holiday         -69.046689\n",
      "windspeed(ms)   -95.819798\n",
      "windspeed(mph)  -95.819798\n",
      "hum            -157.702520\n",
      "weathersit     -293.899386\n"
     ]
    }
   ],
   "source": [
    "train_validate_report(ridge, X_train_scaled, y_train,\n",
    "                         X_valid_scaled, y_valid, \n",
    "                      feature_names=data.columns[:-1])"
   ]
  },
  {
   "cell_type": "code",
   "execution_count": 28,
   "metadata": {},
   "outputs": [
    {
     "name": "stdout",
     "output_type": "stream",
     "text": [
      "MSE=1118.903543\n",
      "Model coefficients:\n",
      "                      Coef\n",
      "yr              934.401985\n",
      "atemp           534.482125\n",
      "temp            410.485392\n",
      "season          375.585733\n",
      "weekday         100.838401\n",
      "mnth             48.142392\n",
      "workingday       16.165284\n",
      "holiday         -70.019251\n",
      "windspeed(ms)   -97.770430\n",
      "windspeed(mph)  -97.770430\n",
      "hum            -155.174377\n",
      "weathersit     -291.035853\n"
     ]
    }
   ],
   "source": [
    "train_validate_report(ridge_cv, X_train_scaled, y_train,\n",
    "                         X_valid_scaled, y_valid, \n",
    "                      feature_names=data.columns[:-1])"
   ]
  },
  {
   "cell_type": "code",
   "execution_count": 29,
   "metadata": {},
   "outputs": [],
   "source": [
    "forest = RandomForestRegressor(random_state=17, n_estimators=500)"
   ]
  },
  {
   "cell_type": "code",
   "execution_count": 30,
   "metadata": {},
   "outputs": [
    {
     "name": "stdout",
     "output_type": "stream",
     "text": [
      "MSE=1046.960772\n",
      "Model coefficients:\n",
      "                Importance\n",
      "temp              0.298609\n",
      "atemp             0.243309\n",
      "yr                0.199314\n",
      "hum               0.070565\n",
      "season            0.062295\n",
      "weathersit        0.030535\n",
      "mnth              0.027786\n",
      "windspeed(mph)    0.020349\n",
      "weekday           0.019819\n",
      "windspeed(ms)     0.019613\n",
      "workingday        0.005191\n",
      "holiday           0.002615\n"
     ]
    }
   ],
   "source": [
    "train_validate_report(forest, X_train, y_train,\n",
    "                         X_valid, y_valid, \n",
    "                      feature_names=data.columns[:-1], forest=True)"
   ]
  },
  {
   "cell_type": "markdown",
   "metadata": {},
   "source": [
    "# ***\n",
    "# Улучшить скор в Bikes notebook прокатов велосипедов\n",
    "# ***"
   ]
  },
  {
   "cell_type": "code",
   "execution_count": 31,
   "metadata": {},
   "outputs": [],
   "source": [
    "df = pd.DataFrame()\n",
    "df = data.drop(['mnth', 'windspeed(ms)', 'atemp'], axis=1)"
   ]
  },
  {
   "cell_type": "code",
   "execution_count": 32,
   "metadata": {},
   "outputs": [
    {
     "data": {
      "text/html": [
       "<div>\n",
       "<style scoped>\n",
       "    .dataframe tbody tr th:only-of-type {\n",
       "        vertical-align: middle;\n",
       "    }\n",
       "\n",
       "    .dataframe tbody tr th {\n",
       "        vertical-align: top;\n",
       "    }\n",
       "\n",
       "    .dataframe thead th {\n",
       "        text-align: right;\n",
       "    }\n",
       "</style>\n",
       "<table border=\"1\" class=\"dataframe\">\n",
       "  <thead>\n",
       "    <tr style=\"text-align: right;\">\n",
       "      <th></th>\n",
       "      <th>season</th>\n",
       "      <th>yr</th>\n",
       "      <th>mnth</th>\n",
       "      <th>holiday</th>\n",
       "      <th>weekday</th>\n",
       "      <th>workingday</th>\n",
       "      <th>weathersit</th>\n",
       "      <th>temp</th>\n",
       "      <th>atemp</th>\n",
       "      <th>hum</th>\n",
       "      <th>windspeed(mph)</th>\n",
       "      <th>windspeed(ms)</th>\n",
       "      <th>cnt</th>\n",
       "    </tr>\n",
       "  </thead>\n",
       "  <tbody>\n",
       "    <tr>\n",
       "      <th>count</th>\n",
       "      <td>731.000000</td>\n",
       "      <td>731.000000</td>\n",
       "      <td>731.000000</td>\n",
       "      <td>731.000000</td>\n",
       "      <td>731.000000</td>\n",
       "      <td>731.000000</td>\n",
       "      <td>731.000000</td>\n",
       "      <td>731.000000</td>\n",
       "      <td>731.000000</td>\n",
       "      <td>731.000000</td>\n",
       "      <td>731.000000</td>\n",
       "      <td>731.000000</td>\n",
       "      <td>731.000000</td>\n",
       "    </tr>\n",
       "    <tr>\n",
       "      <th>mean</th>\n",
       "      <td>2.496580</td>\n",
       "      <td>0.500684</td>\n",
       "      <td>6.519836</td>\n",
       "      <td>0.028728</td>\n",
       "      <td>2.997264</td>\n",
       "      <td>0.683995</td>\n",
       "      <td>1.395349</td>\n",
       "      <td>20.310776</td>\n",
       "      <td>23.717699</td>\n",
       "      <td>62.789406</td>\n",
       "      <td>12.762576</td>\n",
       "      <td>5.705220</td>\n",
       "      <td>4504.348837</td>\n",
       "    </tr>\n",
       "    <tr>\n",
       "      <th>std</th>\n",
       "      <td>1.110807</td>\n",
       "      <td>0.500342</td>\n",
       "      <td>3.451913</td>\n",
       "      <td>0.167155</td>\n",
       "      <td>2.004787</td>\n",
       "      <td>0.465233</td>\n",
       "      <td>0.544894</td>\n",
       "      <td>7.505091</td>\n",
       "      <td>8.148059</td>\n",
       "      <td>14.242910</td>\n",
       "      <td>5.192357</td>\n",
       "      <td>2.321125</td>\n",
       "      <td>1937.211452</td>\n",
       "    </tr>\n",
       "    <tr>\n",
       "      <th>min</th>\n",
       "      <td>1.000000</td>\n",
       "      <td>0.000000</td>\n",
       "      <td>1.000000</td>\n",
       "      <td>0.000000</td>\n",
       "      <td>0.000000</td>\n",
       "      <td>0.000000</td>\n",
       "      <td>1.000000</td>\n",
       "      <td>2.424346</td>\n",
       "      <td>3.953480</td>\n",
       "      <td>0.000000</td>\n",
       "      <td>1.500244</td>\n",
       "      <td>0.670650</td>\n",
       "      <td>22.000000</td>\n",
       "    </tr>\n",
       "    <tr>\n",
       "      <th>25%</th>\n",
       "      <td>2.000000</td>\n",
       "      <td>0.000000</td>\n",
       "      <td>4.000000</td>\n",
       "      <td>0.000000</td>\n",
       "      <td>1.000000</td>\n",
       "      <td>0.000000</td>\n",
       "      <td>1.000000</td>\n",
       "      <td>13.820424</td>\n",
       "      <td>16.892125</td>\n",
       "      <td>52.000000</td>\n",
       "      <td>9.041650</td>\n",
       "      <td>4.041864</td>\n",
       "      <td>3152.000000</td>\n",
       "    </tr>\n",
       "    <tr>\n",
       "      <th>50%</th>\n",
       "      <td>3.000000</td>\n",
       "      <td>1.000000</td>\n",
       "      <td>7.000000</td>\n",
       "      <td>0.000000</td>\n",
       "      <td>3.000000</td>\n",
       "      <td>1.000000</td>\n",
       "      <td>1.000000</td>\n",
       "      <td>20.431653</td>\n",
       "      <td>24.336650</td>\n",
       "      <td>62.666700</td>\n",
       "      <td>12.125325</td>\n",
       "      <td>5.420351</td>\n",
       "      <td>4548.000000</td>\n",
       "    </tr>\n",
       "    <tr>\n",
       "      <th>75%</th>\n",
       "      <td>3.000000</td>\n",
       "      <td>1.000000</td>\n",
       "      <td>10.000000</td>\n",
       "      <td>0.000000</td>\n",
       "      <td>5.000000</td>\n",
       "      <td>1.000000</td>\n",
       "      <td>2.000000</td>\n",
       "      <td>26.872077</td>\n",
       "      <td>30.430100</td>\n",
       "      <td>73.020850</td>\n",
       "      <td>15.625371</td>\n",
       "      <td>6.984967</td>\n",
       "      <td>5956.000000</td>\n",
       "    </tr>\n",
       "    <tr>\n",
       "      <th>max</th>\n",
       "      <td>4.000000</td>\n",
       "      <td>1.000000</td>\n",
       "      <td>12.000000</td>\n",
       "      <td>1.000000</td>\n",
       "      <td>6.000000</td>\n",
       "      <td>1.000000</td>\n",
       "      <td>3.000000</td>\n",
       "      <td>35.328347</td>\n",
       "      <td>42.044800</td>\n",
       "      <td>97.250000</td>\n",
       "      <td>34.000021</td>\n",
       "      <td>15.198937</td>\n",
       "      <td>8714.000000</td>\n",
       "    </tr>\n",
       "  </tbody>\n",
       "</table>\n",
       "</div>"
      ],
      "text/plain": [
       "           season          yr        mnth     holiday     weekday  workingday  \\\n",
       "count  731.000000  731.000000  731.000000  731.000000  731.000000  731.000000   \n",
       "mean     2.496580    0.500684    6.519836    0.028728    2.997264    0.683995   \n",
       "std      1.110807    0.500342    3.451913    0.167155    2.004787    0.465233   \n",
       "min      1.000000    0.000000    1.000000    0.000000    0.000000    0.000000   \n",
       "25%      2.000000    0.000000    4.000000    0.000000    1.000000    0.000000   \n",
       "50%      3.000000    1.000000    7.000000    0.000000    3.000000    1.000000   \n",
       "75%      3.000000    1.000000   10.000000    0.000000    5.000000    1.000000   \n",
       "max      4.000000    1.000000   12.000000    1.000000    6.000000    1.000000   \n",
       "\n",
       "       weathersit        temp       atemp         hum  windspeed(mph)  \\\n",
       "count  731.000000  731.000000  731.000000  731.000000      731.000000   \n",
       "mean     1.395349   20.310776   23.717699   62.789406       12.762576   \n",
       "std      0.544894    7.505091    8.148059   14.242910        5.192357   \n",
       "min      1.000000    2.424346    3.953480    0.000000        1.500244   \n",
       "25%      1.000000   13.820424   16.892125   52.000000        9.041650   \n",
       "50%      1.000000   20.431653   24.336650   62.666700       12.125325   \n",
       "75%      2.000000   26.872077   30.430100   73.020850       15.625371   \n",
       "max      3.000000   35.328347   42.044800   97.250000       34.000021   \n",
       "\n",
       "       windspeed(ms)          cnt  \n",
       "count     731.000000   731.000000  \n",
       "mean        5.705220  4504.348837  \n",
       "std         2.321125  1937.211452  \n",
       "min         0.670650    22.000000  \n",
       "25%         4.041864  3152.000000  \n",
       "50%         5.420351  4548.000000  \n",
       "75%         6.984967  5956.000000  \n",
       "max        15.198937  8714.000000  "
      ]
     },
     "execution_count": 32,
     "metadata": {},
     "output_type": "execute_result"
    }
   ],
   "source": [
    "data.describe()"
   ]
  },
  {
   "cell_type": "code",
   "execution_count": 33,
   "metadata": {},
   "outputs": [
    {
     "data": {
      "image/png": "[encoded data removed]",
      "text/plain": [
       "<Figure size 864x576 with 2 Axes>"
      ]
     },
     "metadata": {
      "needs_background": "light"
     },
     "output_type": "display_data"
    }
   ],
   "source": [
    "sns.heatmap(df.corr());"
   ]
  },
  {
   "cell_type": "code",
   "execution_count": 34,
   "metadata": {},
   "outputs": [
    {
     "data": {
      "image/png": "[encoded data removed]",
      "text/plain": [
       "<Figure size 864x576 with 9 Axes>"
      ]
     },
     "metadata": {
      "needs_background": "light"
     },
     "output_type": "display_data"
    }
   ],
   "source": [
    "for i, col in enumerate(df.columns[:-1]):\n",
    "    plt.rcParams['figure.figsize'] = (12, 8)\n",
    "    plt.subplot(4, 3, i + 1)\n",
    "    plt.scatter(df[col], df['cnt'])\n",
    "    plt.title(col)"
   ]
  },
  {
   "cell_type": "code",
   "execution_count": 35,
   "metadata": {},
   "outputs": [],
   "source": [
    "X, y = df.drop('cnt', axis=1).values, df['cnt'].values"
   ]
  },
  {
   "cell_type": "code",
   "execution_count": 36,
   "metadata": {},
   "outputs": [],
   "source": [
    "train_part_size = int(.75 * X.shape[0])\n",
    "\n",
    "X_train, X_valid = X[:train_part_size, :], X[train_part_size:, :]\n",
    "y_train, y_valid = y[:train_part_size], y[train_part_size:]\n",
    "\n",
    "scaler = StandardScaler()\n",
    "X_train_scaled = scaler.fit_transform(X_train)\n",
    "X_valid_scaled = scaler.transform(X_valid)"
   ]
  },
  {
   "cell_type": "code",
   "execution_count": 37,
   "metadata": {},
   "outputs": [
    {
     "data": {
      "text/plain": [
       "LinearRegression(copy_X=True, fit_intercept=True, n_jobs=None, normalize=False)"
      ]
     },
     "execution_count": 37,
     "metadata": {},
     "output_type": "execute_result"
    }
   ],
   "source": [
    "linreg.fit(X_train_scaled, y_train)"
   ]
  },
  {
   "cell_type": "code",
   "execution_count": 38,
   "metadata": {
    "scrolled": true
   },
   "outputs": [
    {
     "data": {
      "text/plain": [
       "1108.94606939726"
      ]
     },
     "execution_count": 38,
     "metadata": {},
     "output_type": "execute_result"
    }
   ],
   "source": [
    "np.sqrt(mean_squared_error(y_valid, linreg.predict(X_valid_scaled)))"
   ]
  },
  {
   "cell_type": "markdown",
   "metadata": {},
   "source": [
    "If you delete the columns ['mnth', 'windspeed (ms)', 'atemp'] (correlated by sns.heatmap), mean_squared_error will change from 1121.79 to 1108.94.(Якщо вилалити стовпці ['mnth', 'windspeed(ms)', 'atemp'] (корелюють по sns.heatmap), то mean_squared_error зміниться з  1121.79 до 1108.94. )"
   ]
  },
  {
   "cell_type": "markdown",
   "metadata": {},
   "source": [
    "# ***"
   ]
  },
  {
   "cell_type": "code",
   "execution_count": null,
   "metadata": {},
   "outputs": [],
   "source": []
  },
  {
   "cell_type": "code",
   "execution_count": 172,
   "metadata": {},
   "outputs": [
    {
     "data": {
      "text/html": [
       "<div>\n",
       "<style scoped>\n",
       "    .dataframe tbody tr th:only-of-type {\n",
       "        vertical-align: middle;\n",
       "    }\n",
       "\n",
       "    .dataframe tbody tr th {\n",
       "        vertical-align: top;\n",
       "    }\n",
       "\n",
       "    .dataframe thead th {\n",
       "        text-align: right;\n",
       "    }\n",
       "</style>\n",
       "<table border=\"1\" class=\"dataframe\">\n",
       "  <thead>\n",
       "    <tr style=\"text-align: right;\">\n",
       "      <th></th>\n",
       "      <th>season</th>\n",
       "      <th>yr</th>\n",
       "      <th>holiday</th>\n",
       "      <th>weekday</th>\n",
       "      <th>workingday</th>\n",
       "      <th>weathersit</th>\n",
       "      <th>temp</th>\n",
       "      <th>hum</th>\n",
       "      <th>windspeed(mph)</th>\n",
       "      <th>cnt</th>\n",
       "      <th>temp-weathersit</th>\n",
       "      <th>cnt0.5</th>\n",
       "    </tr>\n",
       "  </thead>\n",
       "  <tbody>\n",
       "    <tr>\n",
       "      <th>0</th>\n",
       "      <td>1</td>\n",
       "      <td>0</td>\n",
       "      <td>0</td>\n",
       "      <td>6</td>\n",
       "      <td>0</td>\n",
       "      <td>2</td>\n",
       "      <td>14.110847</td>\n",
       "      <td>80.5833</td>\n",
       "      <td>10.749882</td>\n",
       "      <td>985</td>\n",
       "      <td>4.628030e+08</td>\n",
       "      <td>31.384710</td>\n",
       "    </tr>\n",
       "    <tr>\n",
       "      <th>1</th>\n",
       "      <td>1</td>\n",
       "      <td>0</td>\n",
       "      <td>0</td>\n",
       "      <td>0</td>\n",
       "      <td>0</td>\n",
       "      <td>2</td>\n",
       "      <td>14.902598</td>\n",
       "      <td>69.6087</td>\n",
       "      <td>16.652113</td>\n",
       "      <td>801</td>\n",
       "      <td>7.680992e+08</td>\n",
       "      <td>28.301943</td>\n",
       "    </tr>\n",
       "    <tr>\n",
       "      <th>2</th>\n",
       "      <td>1</td>\n",
       "      <td>0</td>\n",
       "      <td>0</td>\n",
       "      <td>1</td>\n",
       "      <td>1</td>\n",
       "      <td>1</td>\n",
       "      <td>8.050924</td>\n",
       "      <td>43.7273</td>\n",
       "      <td>16.636703</td>\n",
       "      <td>1349</td>\n",
       "      <td>6.108974e+06</td>\n",
       "      <td>36.728735</td>\n",
       "    </tr>\n",
       "    <tr>\n",
       "      <th>3</th>\n",
       "      <td>1</td>\n",
       "      <td>0</td>\n",
       "      <td>0</td>\n",
       "      <td>2</td>\n",
       "      <td>1</td>\n",
       "      <td>1</td>\n",
       "      <td>8.200000</td>\n",
       "      <td>59.0435</td>\n",
       "      <td>10.739832</td>\n",
       "      <td>1562</td>\n",
       "      <td>7.222041e+06</td>\n",
       "      <td>39.522146</td>\n",
       "    </tr>\n",
       "    <tr>\n",
       "      <th>4</th>\n",
       "      <td>1</td>\n",
       "      <td>0</td>\n",
       "      <td>0</td>\n",
       "      <td>3</td>\n",
       "      <td>1</td>\n",
       "      <td>1</td>\n",
       "      <td>9.305237</td>\n",
       "      <td>43.6957</td>\n",
       "      <td>12.522300</td>\n",
       "      <td>1600</td>\n",
       "      <td>2.263686e+07</td>\n",
       "      <td>40.000000</td>\n",
       "    </tr>\n",
       "    <tr>\n",
       "      <th>...</th>\n",
       "      <td>...</td>\n",
       "      <td>...</td>\n",
       "      <td>...</td>\n",
       "      <td>...</td>\n",
       "      <td>...</td>\n",
       "      <td>...</td>\n",
       "      <td>...</td>\n",
       "      <td>...</td>\n",
       "      <td>...</td>\n",
       "      <td>...</td>\n",
       "      <td>...</td>\n",
       "      <td>...</td>\n",
       "    </tr>\n",
       "    <tr>\n",
       "      <th>726</th>\n",
       "      <td>1</td>\n",
       "      <td>1</td>\n",
       "      <td>0</td>\n",
       "      <td>4</td>\n",
       "      <td>1</td>\n",
       "      <td>2</td>\n",
       "      <td>10.420847</td>\n",
       "      <td>65.2917</td>\n",
       "      <td>23.458911</td>\n",
       "      <td>2114</td>\n",
       "      <td>2.528403e+07</td>\n",
       "      <td>45.978256</td>\n",
       "    </tr>\n",
       "    <tr>\n",
       "      <th>727</th>\n",
       "      <td>1</td>\n",
       "      <td>1</td>\n",
       "      <td>0</td>\n",
       "      <td>5</td>\n",
       "      <td>1</td>\n",
       "      <td>2</td>\n",
       "      <td>10.386653</td>\n",
       "      <td>59.0000</td>\n",
       "      <td>10.416557</td>\n",
       "      <td>3095</td>\n",
       "      <td>2.447425e+07</td>\n",
       "      <td>55.632724</td>\n",
       "    </tr>\n",
       "    <tr>\n",
       "      <th>728</th>\n",
       "      <td>1</td>\n",
       "      <td>1</td>\n",
       "      <td>0</td>\n",
       "      <td>6</td>\n",
       "      <td>0</td>\n",
       "      <td>2</td>\n",
       "      <td>10.386653</td>\n",
       "      <td>75.2917</td>\n",
       "      <td>8.333661</td>\n",
       "      <td>1341</td>\n",
       "      <td>2.447425e+07</td>\n",
       "      <td>36.619667</td>\n",
       "    </tr>\n",
       "    <tr>\n",
       "      <th>729</th>\n",
       "      <td>1</td>\n",
       "      <td>1</td>\n",
       "      <td>0</td>\n",
       "      <td>0</td>\n",
       "      <td>0</td>\n",
       "      <td>1</td>\n",
       "      <td>10.489153</td>\n",
       "      <td>48.3333</td>\n",
       "      <td>23.500518</td>\n",
       "      <td>1796</td>\n",
       "      <td>6.573847e+07</td>\n",
       "      <td>42.379240</td>\n",
       "    </tr>\n",
       "    <tr>\n",
       "      <th>730</th>\n",
       "      <td>1</td>\n",
       "      <td>1</td>\n",
       "      <td>0</td>\n",
       "      <td>1</td>\n",
       "      <td>1</td>\n",
       "      <td>2</td>\n",
       "      <td>8.849153</td>\n",
       "      <td>57.7500</td>\n",
       "      <td>10.374682</td>\n",
       "      <td>2729</td>\n",
       "      <td>4.842782e+06</td>\n",
       "      <td>52.239832</td>\n",
       "    </tr>\n",
       "  </tbody>\n",
       "</table>\n",
       "<p>731 rows × 12 columns</p>\n",
       "</div>"
      ],
      "text/plain": [
       "     season  yr  holiday  weekday  workingday  weathersit       temp      hum  \\\n",
       "0         1   0        0        6           0           2  14.110847  80.5833   \n",
       "1         1   0        0        0           0           2  14.902598  69.6087   \n",
       "2         1   0        0        1           1           1   8.050924  43.7273   \n",
       "3         1   0        0        2           1           1   8.200000  59.0435   \n",
       "4         1   0        0        3           1           1   9.305237  43.6957   \n",
       "..      ...  ..      ...      ...         ...         ...        ...      ...   \n",
       "726       1   1        0        4           1           2  10.420847  65.2917   \n",
       "727       1   1        0        5           1           2  10.386653  59.0000   \n",
       "728       1   1        0        6           0           2  10.386653  75.2917   \n",
       "729       1   1        0        0           0           1  10.489153  48.3333   \n",
       "730       1   1        0        1           1           2   8.849153  57.7500   \n",
       "\n",
       "     windspeed(mph)   cnt  temp-weathersit     cnt0.5  \n",
       "0         10.749882   985     4.628030e+08  31.384710  \n",
       "1         16.652113   801     7.680992e+08  28.301943  \n",
       "2         16.636703  1349     6.108974e+06  36.728735  \n",
       "3         10.739832  1562     7.222041e+06  39.522146  \n",
       "4         12.522300  1600     2.263686e+07  40.000000  \n",
       "..              ...   ...              ...        ...  \n",
       "726       23.458911  2114     2.528403e+07  45.978256  \n",
       "727       10.416557  3095     2.447425e+07  55.632724  \n",
       "728        8.333661  1341     2.447425e+07  36.619667  \n",
       "729       23.500518  1796     6.573847e+07  42.379240  \n",
       "730       10.374682  2729     4.842782e+06  52.239832  \n",
       "\n",
       "[731 rows x 12 columns]"
      ]
     },
     "execution_count": 172,
     "metadata": {},
     "output_type": "execute_result"
    }
   ],
   "source": [
    "df1 = []\n",
    "df1 = data.drop(['mnth', 'windspeed(ms)', 'atemp'], axis=1)\n",
    "df1['temp-weathersit'] = (df1['temp']-df1['weathersit'])**8\n",
    "#невдалі спроби:\n",
    "#df1['temp*2/cnt'] = df1['temp']**2/df1['windspeed(mph)']**2\n",
    "#df1 = df1.drop(['temp', 'windspeed(mph)'], axis=1)\n",
    "#df1['temp/windspeed(mph)'] = (df1['temp']+df1['windspeed(mph)'])/2\n",
    "#df1 = df1.drop(['temp', 'windspeed(mph)'], axis=1)\n",
    "#df1['1/3'] = (df1['season']+df1['holiday']+df1['workingday'])/3\n",
    "#df1 = df1.drop(['season', 'holiday', 'workingday'], axis=1)\n",
    "#df1['hum'] = df1['hum']**0.5 - df1['weathersit']\n",
    "#df1=df.drop(['hum'], axis=1)\n",
    "#df1['cnt1'] = np.sqrt((df1['temp']-df1['weathersit'])**2)\n",
    "#df1['temp-weathersit'] = (df1['temp']-df1['weathersit'])**2\n",
    "#df1['temp-weathersit'] = (df1['temp']-df1['weathersit'])**6\n",
    "#df1['temp-weathersit'] = (df1['temp']-df1['weathersit'])**6\n",
    "df1['cnt0.5'] = df1['cnt']**0.5\n",
    "#df1['holiday-workingday'] = (df1['holiday']+df1['workingday'])/2\n",
    "#df1 = data.drop(['holiday', 'workingday'], axis=1)\n",
    "#df1.fillna(0)\n",
    "#df = df.drop(['temp', 'windspeed(mph)'], axis=1)\n",
    "# нова фіча\n",
    "df1"
   ]
  },
  {
   "cell_type": "code",
   "execution_count": 173,
   "metadata": {},
   "outputs": [
    {
     "data": {
      "text/plain": [
       "517.641494436104"
      ]
     },
     "execution_count": 173,
     "metadata": {},
     "output_type": "execute_result"
    }
   ],
   "source": [
    "#df1 = df1.drop(['temp', 'windspeed(mph)'], axis=1)\n",
    "X, y = df1.drop('cnt', axis=1).values, df1['cnt'].values\n",
    "\n",
    "train_part_size = int(.7 * X.shape[0])\n",
    "X_train, X_valid = X[:train_part_size, :], X[train_part_size:, :]\n",
    "y_train, y_valid = y[:train_part_size], y[train_part_size:]\n",
    "\n",
    "scaler = StandardScaler()\n",
    "X_train_scaled = scaler.fit_transform(X_train)\n",
    "X_valid_scaled = scaler.transform(X_valid)\n",
    "\n",
    "linreg.fit(X_train_scaled, y_train)\n",
    "\n",
    "np.sqrt(mean_squared_error(y_valid, linreg.predict(X_valid_scaled)))\n"
   ]
  },
  {
   "cell_type": "code",
   "execution_count": 174,
   "metadata": {},
   "outputs": [],
   "source": [
    "#df1['holiday_weekday_workingday_weathersit'] = (df1['holiday']+df1['weekday']+ df1['workingday']+df1['weathersit'])/4\n",
    "#df1 = df1.drop(['holiday', 'weekday', 'workingday', 'weathersit'], axis=1)\n"
   ]
  },
  {
   "cell_type": "code",
   "execution_count": 175,
   "metadata": {},
   "outputs": [],
   "source": [
    "def train_validate_report(model, X_train_scaled, y_train,\n",
    "                         X_valid_scaled, y_valid, feature_names,\n",
    "                         forest=False):\n",
    "    \"\"\"\n",
    "    For linear models and regression trees\n",
    "    \"\"\"\n",
    "    model.fit(X_train_scaled, y_train)\n",
    "    print(\"MSE=%f\" % np.sqrt(mean_squared_error(y_valid, \n",
    "                                     model.predict(X_valid_scaled))))\n",
    "    print(\"Model coefficients:\")\n",
    "    coef = model.feature_importances_ if forest else model.coef_\n",
    "    coef_name = 'Importance' if forest else 'Coef'\n",
    "\n",
    "    print(pd.DataFrame(coef, \n",
    "             feature_names, columns=[coef_name]).sort_values(by=coef_name,\n",
    "                                                        ascending=False))"
   ]
  },
  {
   "cell_type": "code",
   "execution_count": 176,
   "metadata": {},
   "outputs": [
    {
     "name": "stdout",
     "output_type": "stream",
     "text": [
      "MSE=517.434478\n",
      "Model coefficients:\n",
      "                        Coef\n",
      "temp-weathersit  1513.025146\n",
      "temp               85.378033\n",
      "yr                 55.816558\n",
      "weekday            23.245121\n",
      "weathersit          5.201871\n",
      "holiday            -0.000000\n",
      "windspeed(mph)    -17.358495\n",
      "hum               -23.659964\n",
      "workingday        -28.431539\n",
      "season            -34.933220\n",
      "cnt               -52.719485\n"
     ]
    }
   ],
   "source": [
    "train_validate_report(lasso, X_train_scaled, y_train,\n",
    "                         X_valid_scaled, y_valid, \n",
    "                      feature_names=df1.columns[:-1])"
   ]
  },
  {
   "cell_type": "code",
   "execution_count": 177,
   "metadata": {},
   "outputs": [
    {
     "name": "stdout",
     "output_type": "stream",
     "text": [
      "MSE=516.774566\n",
      "Model coefficients:\n",
      "                        Coef\n",
      "temp-weathersit  1491.998666\n",
      "temp              108.377137\n",
      "yr                 66.506224\n",
      "weekday            25.098957\n",
      "weathersit          3.853489\n",
      "holiday            -1.795622\n",
      "windspeed(mph)    -23.097485\n",
      "workingday        -29.458417\n",
      "hum               -31.049699\n",
      "season            -31.356104\n",
      "cnt               -64.258768\n"
     ]
    }
   ],
   "source": [
    "train_validate_report(ridge_cv, X_train_scaled, y_train,\n",
    "                         X_valid_scaled, y_valid, \n",
    "                      feature_names=df1.columns[:-1])"
   ]
  },
  {
   "cell_type": "code",
   "execution_count": 178,
   "metadata": {},
   "outputs": [
    {
     "name": "stdout",
     "output_type": "stream",
     "text": [
      "MSE=120.020332\n",
      "Model coefficients:\n",
      "                   Importance\n",
      "temp-weathersit  9.992481e-01\n",
      "windspeed(mph)   4.195736e-04\n",
      "hum              6.951571e-05\n",
      "temp             6.604344e-05\n",
      "cnt              6.547147e-05\n",
      "weathersit       5.717476e-05\n",
      "weekday          3.873131e-05\n",
      "workingday       1.621178e-05\n",
      "season           1.593215e-05\n",
      "yr               2.831079e-06\n",
      "holiday          3.759472e-07\n"
     ]
    }
   ],
   "source": [
    "forest = RandomForestRegressor(random_state=17, n_estimators=400)\n",
    "train_validate_report(forest, X_train, y_train,\n",
    "                         X_valid, y_valid, \n",
    "                      feature_names=df1.columns[:-1], forest=True)"
   ]
  },
  {
   "cell_type": "code",
   "execution_count": 179,
   "metadata": {},
   "outputs": [
    {
     "name": "stdout",
     "output_type": "stream",
     "text": [
      "MSE=118.733418\n",
      "Model coefficients:\n",
      "                   Importance\n",
      "temp-weathersit  9.992337e-01\n",
      "windspeed(mph)   4.261073e-04\n",
      "hum              7.197245e-05\n",
      "cnt              6.675875e-05\n",
      "temp             6.602977e-05\n",
      "weathersit       5.734121e-05\n",
      "weekday          3.845636e-05\n",
      "season           2.024235e-05\n",
      "workingday       1.620607e-05\n",
      "yr               2.789475e-06\n",
      "holiday          4.157805e-07\n"
     ]
    }
   ],
   "source": [
    "forest = RandomForestRegressor(random_state=17, n_estimators=600)\n",
    "train_validate_report(forest, X_train, y_train,\n",
    "                         X_valid, y_valid, \n",
    "                      feature_names=df1.columns[:-1], forest=True)"
   ]
  },
  {
   "cell_type": "code",
   "execution_count": 180,
   "metadata": {},
   "outputs": [
    {
     "name": "stdout",
     "output_type": "stream",
     "text": [
      "MSE=121.766238\n",
      "Model coefficients:\n",
      "                   Importance\n",
      "temp-weathersit  9.992303e-01\n",
      "windspeed(mph)   4.393946e-04\n",
      "temp             6.871911e-05\n",
      "cnt              6.618186e-05\n",
      "hum              6.522607e-05\n",
      "weathersit       5.560123e-05\n",
      "weekday          3.822605e-05\n",
      "workingday       1.654613e-05\n",
      "season           1.636171e-05\n",
      "yr               3.003960e-06\n",
      "holiday          4.026492e-07\n"
     ]
    }
   ],
   "source": [
    "forest = RandomForestRegressor(random_state=17, n_estimators=350, min_samples_split=2)\n",
    "train_validate_report(forest, X_train, y_train,\n",
    "                         X_valid, y_valid, \n",
    "                      feature_names=df1.columns[:-1], forest=True)"
   ]
  },
  {
   "cell_type": "markdown",
   "metadata": {},
   "source": [
    "\n",
    "For RandomForestRegressor, the optimal parameter is n_estimators = 400. If you take more (600) or less (350), the MSE worsens.\n",
    "At min_samples_split> 2, it also worsens.\n",
    "(Для RandomForestRegressor оптимальный параметр n_estimators=400. Если брать больше (600) или меньше(350) MSE ухудшается.\n",
    "При min_samples_split >2, тоже ухудшается.)"
   ]
  },
  {
   "cell_type": "markdown",
   "metadata": {},
   "source": [
    "\n",
    "If you take features that are almost uncorrelated and create a new one (df1 ['temp-weathersit'] = (df1 ['temp'] - df1 ['temp-weathersit']) ** 8,8 degree is the most optimal in this case ), we will greatly improve the result to MSE = 898.\n",
    "(Якщо взяти фічі, які майже не корелюють і з них створити нову (df1['temp-weathersit'] = (df1['temp']-df1['weathersit'])**8, 8 степінь - сама оптимальна в даному випадку), то ми значно покращимо результат до MSE=898.)"
   ]
  },
  {
   "cell_type": "markdown",
   "metadata": {},
   "source": [
    "If you take the feature that is least correlated with others and create a new one (df1 ['temp-weathersit'] = (df1 ['temp'] - df1 ['weathersit']) ** 8,8 degree is the most optimal in this case) then we will greatly improve the result to MSE = 517 (model = lasso) and to MSE = 118 (model = RandomForestRegressor). \n",
    "(Якщо взяти фічу, яка найменше кореює з іншими і створити нову (df1['temp-weathersit'] = (df1['temp']-df1['weathersit'])**8, 8 степінь - сама оптимальна в даному випадку), то ми значно покращимо результат до MSE=517 (model=lasso) and до MSE=118 (model=RandomForestRegressor)."
   ]
  },
  {
   "cell_type": "code",
   "execution_count": null,
   "metadata": {},
   "outputs": [],
   "source": []
  },
  {
   "cell_type": "code",
   "execution_count": null,
   "metadata": {},
   "outputs": [],
   "source": []
  },
  {
   "cell_type": "code",
   "execution_count": null,
   "metadata": {},
   "outputs": [],
   "source": []
  },
  {
   "cell_type": "code",
   "execution_count": null,
   "metadata": {},
   "outputs": [],
   "source": []
  },
  {
   "cell_type": "code",
   "execution_count": null,
   "metadata": {},
   "outputs": [],
   "source": []
  }
 ],
 "metadata": {
  "kernelspec": {
   "display_name": "Python 3",
   "language": "python",
   "name": "python3"
  },
  "language_info": {
   "codemirror_mode": {
    "name": "ipython",
    "version": 3
   },
   "file_extension": ".py",
   "mimetype": "text/x-python",
   "name": "python",
   "nbconvert_exporter": "python",
   "pygments_lexer": "ipython3",
   "version": "3.7.3"
  }
 },
 "nbformat": 4,
 "nbformat_minor": 1
}
