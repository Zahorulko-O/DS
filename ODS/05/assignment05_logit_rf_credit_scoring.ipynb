{
 "cells": [
  {
   "cell_type": "markdown",
   "metadata": {},
   "source": [
    "<center>\n",
    "<img src=\"../../img/ods_stickers.jpg\">\n",
    "## Открытый курс по машинному обучению\n",
    "<center>\n",
    "Автор материала: Виталий Радченко, Data scientist @ YouScan (@vradchenko в Slack ODS)  <br> \n",
    "\n",
    "Материал распространяется на условиях лицензии [Creative Commons CC BY-NC-SA 4.0](https://creativecommons.org/licenses/by-nc-sa/4.0/). Можно использовать в любых целях (редактировать, поправлять и брать за основу), кроме коммерческих, но с обязательным упоминанием автора материала"
   ]
  },
  {
   "cell_type": "markdown",
   "metadata": {},
   "source": [
    "# <center> Домашнее задание № 5 (Демо).\n",
    "## <center> Логистическая регрессия и случайный лес в задаче кредитного скоринга"
   ]
  },
  {
   "cell_type": "markdown",
   "metadata": {},
   "source": [
    "[Веб-форма](https://docs.google.com/forms/d/1HASy2b_FLBHBCzzpG-TbnbB6gqhB-qwznQxU2vaoSgc/) для ответов.\n",
    "\n",
    "#### Нашей главной задачей будет построение модели для задачи кредитного скоринга.\n",
    "\n",
    "Но для разминки решите первое задание :)\n",
    "\n",
    "**Задание 1.** В зале суда есть 5 присяжных, каждый из них по отдельности с вероятностью 70% может правильно определить, виновен подсудимый или нет. С какой вероятностью они все вместе вынесут правильный вердикт, если решение принимается большинством голосов?\n",
    "- 70.00%\n",
    "- 83.20%\n",
    "+ 83.70% +\n",
    "- 87.50%\n",
    "\n",
    "Теперь перейдем непосредственно к машинному обучению.\n",
    "\n",
    "#### Данные представлены следующим образом:\n",
    "\n",
    "##### Прогнозируемая  переменная\n",
    "* SeriousDlqin2yrs\t      – Человек не выплатил данный кредит в течение 90 дней; возможные значения  1/0 \n",
    "\n",
    "##### Независимые признаки\n",
    "* age\t                          –  Возраст заёмщика кредитных средств; тип - integer\n",
    "* NumberOfTime30-59DaysPastDueNotWorse\t – Количество раз, когда человек имел просрочку выплаты других кредитов более 30-59 дней, но не больше в течение последних двух лет; тип -\tinteger\n",
    "* DebtRatio  – \tЕжемесячный отчисления на задолжености(кредиты,алименты и т.д.)  / совокупный месячный доход \tpercentage; тип -\treal\n",
    "* MonthlyIncome\t – Месячный доход в долларах; тип -\treal\n",
    "* NumberOfTimes90DaysLate  – Количество раз, когда человек имел просрочку выплаты других кредитов более 90 дней; тип -\tinteger\n",
    "* NumberOfTime60-89DaysPastDueNotWorse – \tКоличество раз, когда человек имел просрочку выплаты других кредитов более 60-89 дней, но не больше в течение последних двух лет; тип -\tinteger\n",
    "* NumberOfDependents  – Число человек в семье кредитозаёмщика; тип -\tinteger"
   ]
  },
  {
   "cell_type": "code",
   "execution_count": 1,
   "metadata": {},
   "outputs": [
    {
     "name": "stdout",
     "output_type": "stream",
     "text": [
      "83.7\n"
     ]
    }
   ],
   "source": [
    "import math\n",
    "def bernulli(p, amount, true_val):\n",
    "    prob = 0\n",
    "    for i in range(true_val, amount+1):\n",
    "        prob += math.pow(p, i) * math.pow(1-p, amount-i) * math.factorial(amount) / math.factorial(i) / math.factorial(amount - i)\n",
    "    return prob\n",
    "print(round(bernulli(0.7, 5, 3)*100, 1))"
   ]
  },
  {
   "cell_type": "code",
   "execution_count": 2,
   "metadata": {},
   "outputs": [],
   "source": [
    "%matplotlib inline\n",
    "import matplotlib.pyplot as plt\n",
    "import seaborn as sns\n",
    "# отключим предупреждения Anaconda\n",
    "import warnings\n",
    "warnings.filterwarnings('ignore')\n",
    "import pandas as pd\n",
    "import numpy as np"
   ]
  },
  {
   "cell_type": "code",
   "execution_count": 3,
   "metadata": {},
   "outputs": [],
   "source": [
    "## Сделаем функцию, которая будет заменять NaN значения на медиану в каждом столбце таблицы \n",
    "def delete_nan(table):\n",
    "    for col in table.columns:\n",
    "        table[col]= table[col].fillna(table[col].median())\n",
    "    return table   "
   ]
  },
  {
   "cell_type": "code",
   "execution_count": 4,
   "metadata": {},
   "outputs": [
    {
     "data": {
      "text/html": [
       "<div>\n",
       "<style scoped>\n",
       "    .dataframe tbody tr th:only-of-type {\n",
       "        vertical-align: middle;\n",
       "    }\n",
       "\n",
       "    .dataframe tbody tr th {\n",
       "        vertical-align: top;\n",
       "    }\n",
       "\n",
       "    .dataframe thead th {\n",
       "        text-align: right;\n",
       "    }\n",
       "</style>\n",
       "<table border=\"1\" class=\"dataframe\">\n",
       "  <thead>\n",
       "    <tr style=\"text-align: right;\">\n",
       "      <th></th>\n",
       "      <th>SeriousDlqin2yrs</th>\n",
       "      <th>age</th>\n",
       "      <th>NumberOfTime30-59DaysPastDueNotWorse</th>\n",
       "      <th>DebtRatio</th>\n",
       "      <th>NumberOfTimes90DaysLate</th>\n",
       "      <th>NumberOfTime60-89DaysPastDueNotWorse</th>\n",
       "      <th>MonthlyIncome</th>\n",
       "      <th>NumberOfDependents</th>\n",
       "    </tr>\n",
       "  </thead>\n",
       "  <tbody>\n",
       "    <tr>\n",
       "      <th>0</th>\n",
       "      <td>0</td>\n",
       "      <td>64</td>\n",
       "      <td>0</td>\n",
       "      <td>0.249908</td>\n",
       "      <td>0</td>\n",
       "      <td>0</td>\n",
       "      <td>8158.0</td>\n",
       "      <td>0.0</td>\n",
       "    </tr>\n",
       "    <tr>\n",
       "      <th>1</th>\n",
       "      <td>0</td>\n",
       "      <td>58</td>\n",
       "      <td>0</td>\n",
       "      <td>3870.000000</td>\n",
       "      <td>0</td>\n",
       "      <td>0</td>\n",
       "      <td>NaN</td>\n",
       "      <td>0.0</td>\n",
       "    </tr>\n",
       "    <tr>\n",
       "      <th>2</th>\n",
       "      <td>0</td>\n",
       "      <td>41</td>\n",
       "      <td>0</td>\n",
       "      <td>0.456127</td>\n",
       "      <td>0</td>\n",
       "      <td>0</td>\n",
       "      <td>6666.0</td>\n",
       "      <td>0.0</td>\n",
       "    </tr>\n",
       "    <tr>\n",
       "      <th>3</th>\n",
       "      <td>0</td>\n",
       "      <td>43</td>\n",
       "      <td>0</td>\n",
       "      <td>0.000190</td>\n",
       "      <td>0</td>\n",
       "      <td>0</td>\n",
       "      <td>10500.0</td>\n",
       "      <td>2.0</td>\n",
       "    </tr>\n",
       "    <tr>\n",
       "      <th>4</th>\n",
       "      <td>1</td>\n",
       "      <td>49</td>\n",
       "      <td>0</td>\n",
       "      <td>0.271820</td>\n",
       "      <td>0</td>\n",
       "      <td>0</td>\n",
       "      <td>400.0</td>\n",
       "      <td>0.0</td>\n",
       "    </tr>\n",
       "  </tbody>\n",
       "</table>\n",
       "</div>"
      ],
      "text/plain": [
       "   SeriousDlqin2yrs  age  NumberOfTime30-59DaysPastDueNotWorse    DebtRatio  \\\n",
       "0                 0   64                                     0     0.249908   \n",
       "1                 0   58                                     0  3870.000000   \n",
       "2                 0   41                                     0     0.456127   \n",
       "3                 0   43                                     0     0.000190   \n",
       "4                 1   49                                     0     0.271820   \n",
       "\n",
       "   NumberOfTimes90DaysLate  NumberOfTime60-89DaysPastDueNotWorse  \\\n",
       "0                        0                                     0   \n",
       "1                        0                                     0   \n",
       "2                        0                                     0   \n",
       "3                        0                                     0   \n",
       "4                        0                                     0   \n",
       "\n",
       "   MonthlyIncome  NumberOfDependents  \n",
       "0         8158.0                 0.0  \n",
       "1            NaN                 0.0  \n",
       "2         6666.0                 0.0  \n",
       "3        10500.0                 2.0  \n",
       "4          400.0                 0.0  "
      ]
     },
     "execution_count": 4,
     "metadata": {},
     "output_type": "execute_result"
    }
   ],
   "source": [
    "## Считываем данные\n",
    "data = pd.read_csv('credit_scoring_sampl.csv', sep =';')\n",
    "data.head()"
   ]
  },
  {
   "cell_type": "code",
   "execution_count": 5,
   "metadata": {},
   "outputs": [
    {
     "data": {
      "text/plain": [
       "SeriousDlqin2yrs                          int64\n",
       "age                                       int64\n",
       "NumberOfTime30-59DaysPastDueNotWorse      int64\n",
       "DebtRatio                               float64\n",
       "NumberOfTimes90DaysLate                   int64\n",
       "NumberOfTime60-89DaysPastDueNotWorse      int64\n",
       "MonthlyIncome                           float64\n",
       "NumberOfDependents                      float64\n",
       "dtype: object"
      ]
     },
     "execution_count": 5,
     "metadata": {},
     "output_type": "execute_result"
    }
   ],
   "source": [
    "## Рассмотрим типы считанных данных\n",
    "data.dtypes"
   ]
  },
  {
   "cell_type": "code",
   "execution_count": 6,
   "metadata": {},
   "outputs": [
    {
     "name": "stdout",
     "output_type": "stream",
     "text": [
      "Distribution of target\n"
     ]
    },
    {
     "data": {
      "text/plain": [
       "0    0.777511\n",
       "1    0.222489\n",
       "Name: SeriousDlqin2yrs, dtype: float64"
      ]
     },
     "execution_count": 6,
     "metadata": {},
     "output_type": "execute_result"
    },
    {
     "data": {
      "image/png": "[encoded data removed]",
      "text/plain": [
       "<Figure size 432x288 with 1 Axes>"
      ]
     },
     "metadata": {
      "needs_background": "light"
     },
     "output_type": "display_data"
    }
   ],
   "source": [
    "## Посмотрим на распределение классов в зависимой переменной\n",
    "\n",
    "ax =data['SeriousDlqin2yrs'].hist(orientation='horizontal', color='red')\n",
    "ax.set_xlabel(\"number_of_observations\")\n",
    "ax.set_ylabel(\"unique_value\")\n",
    "ax.set_title(\"Target distribution\")\n",
    "\n",
    "print('Distribution of target')\n",
    "data['SeriousDlqin2yrs'].value_counts()/data.shape[0]"
   ]
  },
  {
   "cell_type": "code",
   "execution_count": 7,
   "metadata": {},
   "outputs": [
    {
     "name": "stdout",
     "output_type": "stream",
     "text": [
      "Distribution of target\n"
     ]
    },
    {
     "data": {
      "text/plain": [
       "0    0.777511\n",
       "1    0.222489\n",
       "Name: SeriousDlqin2yrs, dtype: float64"
      ]
     },
     "execution_count": 7,
     "metadata": {},
     "output_type": "execute_result"
    },
    {
     "data": {
      "image/png": "[encoded data removed]",
      "text/plain": [
       "<Figure size 432x288 with 1 Axes>"
      ]
     },
     "metadata": {
      "needs_background": "light"
     },
     "output_type": "display_data"
    }
   ],
   "source": [
    "\n",
    "ax =data['SeriousDlqin2yrs'].hist(orientation='vertical', color='red')\n",
    "ax.set_xlabel(\"number_of_observations\")\n",
    "ax.set_ylabel(\"unique_value\")\n",
    "ax.set_title(\"Target distribution\")\n",
    "\n",
    "print('Distribution of target')\n",
    "data['SeriousDlqin2yrs'].value_counts()/data.shape[0]"
   ]
  },
  {
   "cell_type": "code",
   "execution_count": 8,
   "metadata": {},
   "outputs": [
    {
     "data": {
      "text/plain": [
       "['age',\n",
       " 'NumberOfTime30-59DaysPastDueNotWorse',\n",
       " 'DebtRatio',\n",
       " 'NumberOfTimes90DaysLate',\n",
       " 'NumberOfTime60-89DaysPastDueNotWorse',\n",
       " 'MonthlyIncome',\n",
       " 'NumberOfDependents']"
      ]
     },
     "execution_count": 8,
     "metadata": {},
     "output_type": "execute_result"
    }
   ],
   "source": [
    "## Выберем названия всех признаков из таблицы, кроме прогнозируемого\n",
    "\n",
    "independent_columns_names = data.columns.values\n",
    "independent_columns_names = [x for x in data if x != 'SeriousDlqin2yrs']\n",
    "independent_columns_names\n"
   ]
  },
  {
   "cell_type": "code",
   "execution_count": 9,
   "metadata": {},
   "outputs": [],
   "source": [
    "## Применяем функцию, заменяющую все NaN значения на медианное значение соответствующего столбца\n",
    "table =delete_nan(data)\n"
   ]
  },
  {
   "cell_type": "code",
   "execution_count": 10,
   "metadata": {},
   "outputs": [],
   "source": [
    "## Разделяем таргет и признаки \n",
    "X =table[independent_columns_names]\n",
    "y = table['SeriousDlqin2yrs']\n"
   ]
  },
  {
   "cell_type": "markdown",
   "metadata": {},
   "source": [
    "# Бутстрэп"
   ]
  },
  {
   "cell_type": "markdown",
   "metadata": {},
   "source": [
    "**Задание 2.** Сделайте интервальную оценку среднего возраста (age) для клиентов, которые просрочили выплату кредита, с 90% \"уверенностью\". Используйте пример из статьи, поставьте `np.random.seed(0)`, как это сделано в статье."
   ]
  },
  {
   "cell_type": "code",
   "execution_count": 11,
   "metadata": {},
   "outputs": [
    {
     "name": "stdout",
     "output_type": "stream",
     "text": [
      "Service calls from churn:  mean interval [45.71 46.13]\n"
     ]
    }
   ],
   "source": [
    "### Ваш код должен быть здесь ###\n",
    "\n",
    "def get_bootstrap_samples(data, n_samples):\n",
    "    # функция для генерации подвыборок с помощью бутстрэпа\n",
    "    indices = np.random.randint(0, len(data), (n_samples, len(data)))\n",
    "    samples = data[indices]\n",
    "    return samples\n",
    "def stat_intervals(stat, alpha):\n",
    "    # функция для интервальной оценки\n",
    "    boundaries = np.percentile(stat, [100 * alpha / 2., 100 * (1 - alpha / 2.)])\n",
    "    return boundaries\n",
    "\n",
    "# сохранение в отдельные numpy массивы данных по клиентамб прострочившим виплаты\n",
    "\n",
    "churn_age = data[data['SeriousDlqin2yrs'] == True]['age'].values\n",
    "\n",
    "# ставим seed для воспроизводимости результатов\n",
    "np.random.seed(0)\n",
    "\n",
    "# генерируем выборки с помощью бутстрэра и сразу считаем среднее\n",
    "\n",
    "churn_mean_scores = [np.mean(sample) \n",
    "                       for sample in get_bootstrap_samples(churn_age, 1000)]\n",
    "\n",
    "#  выводим интервальную оценку среднего  возраста (age) \n",
    "\n",
    "print(\"Service calls from churn:  mean interval\",  np.around(stat_intervals(churn_mean_scores, 0.1), decimals=2))"
   ]
  },
  {
   "cell_type": "markdown",
   "metadata": {},
   "source": [
    "## Подбор параметров для модели логистической регрессии "
   ]
  },
  {
   "cell_type": "markdown",
   "metadata": {},
   "source": [
    "#### Одной из важных метрик качества модели является значение площади под ROC-кривой. Значение ROC-AUC лежит от 0  до 1.   Чем ближе начение метрики ROC-AUC к 1, тем качественнее происходит классификация моделью."
   ]
  },
  {
   "cell_type": "code",
   "execution_count": 12,
   "metadata": {},
   "outputs": [],
   "source": [
    "from sklearn.linear_model import LogisticRegression\n",
    "from sklearn.model_selection import GridSearchCV, StratifiedKFold\n",
    "\n",
    "## Используем модуль LogisticRegression для построения логистической регрессии.\n",
    "## Из-за несбалансированности классов  в таргете добавляем параметр балансировки.\n",
    "## Используем также параметр random_state=5 для воспроизводимости результатов\n",
    "lr = LogisticRegression(random_state=5, class_weight= 'balanced')\n",
    "\n",
    "## Попробуем подобрать лучший коэффициент регуляризации (коэффициент C в логистической регрессии) для модели лог.регрессии.\n",
    "## Этот параметр необходим для того, чтобы подобрать оптимальную модель, которая не будет переобучена, с одной стороны, \n",
    "## и будет хорошо предсказывать значения таргета, с другой.\n",
    "## Остальные параметры оставляем по умолчанию.\n",
    "parameters = {'C': (0.0001, 0.001, 0.01, 0.1, 1, 10)}\n",
    "\n",
    "## Для того, чтобы подобрать коэффициент регуляризации, попробуем для каждого его возможного значения посмотреть \n",
    "## значения roc-auc на стрэтифайд кросс-валидации из 5 фолдов с помощью функции StratifiedKFold\n",
    "\n",
    "skf = StratifiedKFold(n_splits=5, shuffle=True, random_state=5)"
   ]
  },
  {
   "cell_type": "markdown",
   "metadata": {},
   "source": [
    "**Задание 3.**\n",
    "Сделайте GridSearch с метрикой \"roc-auc\" по параметру C. Какое оптимальное значение параметра С?"
   ]
  },
  {
   "cell_type": "code",
   "execution_count": 13,
   "metadata": {},
   "outputs": [
    {
     "name": "stdout",
     "output_type": "stream",
     "text": [
      " оптимальное значение параметра С:  0.7962065338421279 {'C': 0.001}\n"
     ]
    }
   ],
   "source": [
    "### Ваш код должен быть здесь ###\n",
    "from sklearn.metrics import roc_auc_score\n",
    "lr_grid_searcher = GridSearchCV(estimator=lr, param_grid=parameters,\n",
    "                                  scoring='roc_auc',  cv=skf)\n",
    "lr_grid_searcher.fit(X, y)\n",
    "#print('CV score', lr_grid_searcher.best_score_)\n",
    "print(\" оптимальное значение параметра С: \",  lr_grid_searcher.best_params_)"
   ]
  },
  {
   "cell_type": "code",
   "execution_count": 14,
   "metadata": {
    "scrolled": true
   },
   "outputs": [
    {
     "data": {
      "text/plain": [
       "LogisticRegression(C=0.001, class_weight='balanced', dual=False,\n",
       "                   fit_intercept=True, intercept_scaling=1, l1_ratio=None,\n",
       "                   max_iter=100, multi_class='warn', n_jobs=None, penalty='l2',\n",
       "                   random_state=5, solver='warn', tol=0.0001, verbose=0,\n",
       "                   warm_start=False)"
      ]
     },
     "execution_count": 14,
     "metadata": {},
     "output_type": "execute_result"
    }
   ],
   "source": [
    "lr_grid_searcher.best_estimator_"
   ]
  },
  {
   "cell_type": "markdown",
   "metadata": {},
   "source": [
    "**Задание 4.** \n",
    "Можно ли считать лучшую модель устойчивой? (модель считаем устойчивой, если стандартное отклонение на валидации меньше 0.5%) Сохраните точность лучшей модели, она вам приходится для следующих заданий"
   ]
  },
  {
   "cell_type": "code",
   "execution_count": 34,
   "metadata": {},
   "outputs": [
    {
     "data": {
      "text/plain": [
       "0.7962065338421279"
      ]
     },
     "execution_count": 34,
     "metadata": {},
     "output_type": "execute_result"
    }
   ],
   "source": [
    "lr_grid_searcher.best_score_"
   ]
  },
  {
   "cell_type": "code",
   "execution_count": 37,
   "metadata": {},
   "outputs": [
    {
     "data": {
      "text/plain": [
       "array([0.6978686 , 0.67603131, 0.59912718, ..., 0.51863996, 0.37981527,\n",
       "       0.33342296])"
      ]
     },
     "execution_count": 37,
     "metadata": {},
     "output_type": "execute_result"
    }
   ],
   "source": [
    "lr_grid_searcher.predict_proba(X)[:,0]"
   ]
  },
  {
   "cell_type": "markdown",
   "metadata": {},
   "source": [
    "## Определение влияния признаков"
   ]
  },
  {
   "cell_type": "markdown",
   "metadata": {},
   "source": [
    "**Задание 5.**\n",
    "Определите самый важный признак. Важность признака определяется абсолютным значением его коэффициента. Так же нужно нормализировать все признаки, что бы можно их было корректно сравнить."
   ]
  },
  {
   "cell_type": "code",
   "execution_count": 18,
   "metadata": {
    "scrolled": true
   },
   "outputs": [
    {
     "name": "stdout",
     "output_type": "stream",
     "text": [
      "[['age' '-0.01818528200492835']\n",
      " ['NumberOfTime30-59DaysPastDueNotWorse' '0.4823492346998185']\n",
      " ['DebtRatio' '-1.0798311299121803e-05']\n",
      " ['NumberOfTimes90DaysLate' '0.4303141552022086']\n",
      " ['NumberOfTime60-89DaysPastDueNotWorse' '0.06595787427839524']\n",
      " ['MonthlyIncome' '-1.144765891938557e-05']\n",
      " ['NumberOfDependents' '0.11535625453253713']]\n",
      "Тут видно, что  самым сильным признаком является NumberOfTime30-59DaysPastDueNotWorse\n"
     ]
    }
   ],
   "source": [
    "### Ваш код должен быть здесь ###\n",
    "#Определение влияния признаков\n",
    "from sklearn.preprocessing import StandardScaler\n",
    "\n",
    "clf = LogisticRegression(C = 0.001, random_state = 5, class_weight = 'balanced')\n",
    "clf.fit(X, y)\n",
    "print(np.hstack([np.array(independent_columns_names).reshape(7,1),clf.coef_.reshape(7,1)]))\n",
    "\n",
    "print('Тут видно, что  самым сильным признаком является', 'NumberOfTime30-59DaysPastDueNotWorse')"
   ]
  },
  {
   "cell_type": "markdown",
   "metadata": {},
   "source": [
    "**Задание 6.** Посчитайте долю влияния DebtRatio на предсказание. (Воспользуйтесь функцией [softmax](https://en.wikipedia.org/wiki/Softmax_function))"
   ]
  },
  {
   "cell_type": "code",
   "execution_count": 38,
   "metadata": {},
   "outputs": [
    {
     "data": {
      "text/plain": [
       "array([[0.11788425, 0.19446219, 0.12004632, 0.18460209, 0.12823267,\n",
       "        0.12004625, 0.13472622]])"
      ]
     },
     "execution_count": 38,
     "metadata": {},
     "output_type": "execute_result"
    }
   ],
   "source": [
    "### Ваш код должен быть здесь ###\n",
    "def softmax(x):\n",
    "    \"\"\"Compute softmax values for each sets of scores in x.\"\"\"\n",
    "    return np.exp(x) / np.sum(np.exp(x))\n",
    "softmax(clf.coef_)"
   ]
  },
  {
   "cell_type": "code",
   "execution_count": 20,
   "metadata": {},
   "outputs": [
    {
     "name": "stdout",
     "output_type": "stream",
     "text": [
      "доля влияния DebtRatio на предсказание:   0.12004632419138771\n"
     ]
    }
   ],
   "source": [
    "def softmax(x):\n",
    "    \"\"\"Compute softmax values for each sets of scores in x.\"\"\"\n",
    "    return np.exp(x) / np.sum(np.exp(x))\n",
    "print(\"доля влияния DebtRatio на предсказание:  \", softmax(clf.coef_)[0,2])"
   ]
  },
  {
   "cell_type": "markdown",
   "metadata": {},
   "source": [
    "**Задание 7.** \n",
    "Давайте посмотрим как можно интерпретировать влияние наших признаков. Для этого заного оценим логистическую регрессию в абсолютных величинах. После этого посчитайте во сколько раз увеличатся шансы, что клиент не выплатит кредит, если увеличить возраст на 20 лет при всех остальных равных значениях признаков. (теоретический расчет можно посмотреть [здесь](https://www.unm.edu/~schrader/biostat/bio2/Spr06/lec11.pdf))"
   ]
  },
  {
   "cell_type": "code",
   "execution_count": 82,
   "metadata": {},
   "outputs": [
    {
     "name": "stdout",
     "output_type": "stream",
     "text": [
      "во сколько раз увеличатся шансы, что клиент не выплатит кредит, если увеличить возраст на 20 лет при всех остальных равных значениях признаков (по по вероятносных оценках) : \n",
      " 0.65\n"
     ]
    }
   ],
   "source": [
    "### Ваш код должен быть здесь ###\n",
    "X_20 = X.copy()\n",
    "X_20['age'] = X_20['age']+20\n",
    "\n",
    "#1\n",
    "lr_x = LogisticRegression(random_state=5)\n",
    "lr_x.fit(X,y)\n",
    "lr_x.predict_proba(X)[:,1]\n",
    "#2\n",
    "lr_X_20 = LogisticRegression(random_state=5)\n",
    "lr_X_20.fit(X_20,y)\n",
    "lr_X_20.predict_proba(X_20)[:,1]\n",
    "\n",
    "#lr_X_20.predict(X_20).sum()/lr_X_20.predict(X).sum()\n",
    "#(lr_X_20.predict_proba(X_20)[:,1].sum())/(lr_x.predict_proba(X)[:,1].sum())\n",
    "#lr_X_20.score(X_20,y)/lr_x.score(X,y)\n",
    "print(\"во сколько раз увеличатся шансы, что клиент не выплатит кредит, если увеличить возраст на 20 лет при\\\n",
    " всех остальных равных значениях признаков (по по вероятносных оценках) :\", \"\\n\",\n",
    "           round(abs(lr_X_20.coef_).sum()/abs(lr_x.coef_).sum(), 2))"
   ]
  },
  {
   "cell_type": "code",
   "execution_count": 87,
   "metadata": {},
   "outputs": [
    {
     "data": {
      "text/plain": [
       "3.930306345733043"
      ]
     },
     "execution_count": 87,
     "metadata": {},
     "output_type": "execute_result"
    }
   ],
   "source": [
    "matlog(lr_X_20.score(X_20,y)/(1-lr_X_20.score(X_20,y)))"
   ]
  },
  {
   "cell_type": "markdown",
   "metadata": {},
   "source": [
    "# Случайный лес"
   ]
  },
  {
   "cell_type": "code",
   "execution_count": 22,
   "metadata": {},
   "outputs": [],
   "source": [
    "from sklearn.ensemble import RandomForestClassifier\n",
    "\n",
    "# Инициализируем случайный лес с 100 деревьями и сбалансированными классами \n",
    "rf = RandomForestClassifier(n_estimators=100, n_jobs=-1, \n",
    "                            random_state=42, oob_score=True, \n",
    "                            class_weight='balanced')\n",
    "\n",
    "## Будем искать лучшие параметры среди следующего набора\n",
    "parameters = {'max_features': [1, 2, 4], \n",
    "              'min_samples_leaf': [3, 5, 7, 9], \n",
    "              'max_depth': [5,10,15]}\n",
    "\n",
    "## Делаем опять же стрэтифайд k-fold валидацию. Инициализация которой должна у вас продолжать храниться в skf"
   ]
  },
  {
   "cell_type": "markdown",
   "metadata": {},
   "source": [
    "**Задание 8.** На сколько точность лучшей модели случайного леса выше точности логистической регрессии на валидации?"
   ]
  },
  {
   "cell_type": "code",
   "execution_count": 23,
   "metadata": {},
   "outputs": [
    {
     "name": "stdout",
     "output_type": "stream",
     "text": [
      "Fitting 5 folds for each of 36 candidates, totalling 180 fits\n",
      "[CV] max_depth=5, max_features=1, min_samples_leaf=3 .................\n"
     ]
    },
    {
     "name": "stderr",
     "output_type": "stream",
     "text": [
      "[Parallel(n_jobs=1)]: Using backend SequentialBackend with 1 concurrent workers.\n"
     ]
    },
    {
     "name": "stdout",
     "output_type": "stream",
     "text": [
      "[CV] .. max_depth=5, max_features=1, min_samples_leaf=3, total=   6.4s\n",
      "[CV] max_depth=5, max_features=1, min_samples_leaf=3 .................\n"
     ]
    },
    {
     "name": "stderr",
     "output_type": "stream",
     "text": [
      "[Parallel(n_jobs=1)]: Done   1 out of   1 | elapsed:    6.3s remaining:    0.0s\n"
     ]
    },
    {
     "name": "stdout",
     "output_type": "stream",
     "text": [
      "[CV] .. max_depth=5, max_features=1, min_samples_leaf=3, total=   2.6s\n",
      "[CV] max_depth=5, max_features=1, min_samples_leaf=3 .................\n",
      "[CV] .. max_depth=5, max_features=1, min_samples_leaf=3, total=   2.3s\n",
      "[CV] max_depth=5, max_features=1, min_samples_leaf=3 .................\n",
      "[CV] .. max_depth=5, max_features=1, min_samples_leaf=3, total=   2.2s\n",
      "[CV] max_depth=5, max_features=1, min_samples_leaf=3 .................\n",
      "[CV] .. max_depth=5, max_features=1, min_samples_leaf=3, total=   2.5s\n",
      "[CV] max_depth=5, max_features=1, min_samples_leaf=5 .................\n",
      "[CV] .. max_depth=5, max_features=1, min_samples_leaf=5, total=   3.5s\n",
      "[CV] max_depth=5, max_features=1, min_samples_leaf=5 .................\n",
      "[CV] .. max_depth=5, max_features=1, min_samples_leaf=5, total=   2.3s\n",
      "[CV] max_depth=5, max_features=1, min_samples_leaf=5 .................\n",
      "[CV] .. max_depth=5, max_features=1, min_samples_leaf=5, total=   2.3s\n",
      "[CV] max_depth=5, max_features=1, min_samples_leaf=5 .................\n",
      "[CV] .. max_depth=5, max_features=1, min_samples_leaf=5, total=   2.6s\n",
      "[CV] max_depth=5, max_features=1, min_samples_leaf=5 .................\n",
      "[CV] .. max_depth=5, max_features=1, min_samples_leaf=5, total=   2.2s\n",
      "[CV] max_depth=5, max_features=1, min_samples_leaf=7 .................\n",
      "[CV] .. max_depth=5, max_features=1, min_samples_leaf=7, total=   2.2s\n",
      "[CV] max_depth=5, max_features=1, min_samples_leaf=7 .................\n",
      "[CV] .. max_depth=5, max_features=1, min_samples_leaf=7, total=   2.2s\n",
      "[CV] max_depth=5, max_features=1, min_samples_leaf=7 .................\n",
      "[CV] .. max_depth=5, max_features=1, min_samples_leaf=7, total=   2.5s\n",
      "[CV] max_depth=5, max_features=1, min_samples_leaf=7 .................\n",
      "[CV] .. max_depth=5, max_features=1, min_samples_leaf=7, total=   2.3s\n",
      "[CV] max_depth=5, max_features=1, min_samples_leaf=7 .................\n",
      "[CV] .. max_depth=5, max_features=1, min_samples_leaf=7, total=   2.5s\n",
      "[CV] max_depth=5, max_features=1, min_samples_leaf=9 .................\n",
      "[CV] .. max_depth=5, max_features=1, min_samples_leaf=9, total=   2.2s\n",
      "[CV] max_depth=5, max_features=1, min_samples_leaf=9 .................\n",
      "[CV] .. max_depth=5, max_features=1, min_samples_leaf=9, total=   2.6s\n",
      "[CV] max_depth=5, max_features=1, min_samples_leaf=9 .................\n",
      "[CV] .. max_depth=5, max_features=1, min_samples_leaf=9, total=   2.8s\n",
      "[CV] max_depth=5, max_features=1, min_samples_leaf=9 .................\n",
      "[CV] .. max_depth=5, max_features=1, min_samples_leaf=9, total=   2.5s\n",
      "[CV] max_depth=5, max_features=1, min_samples_leaf=9 .................\n",
      "[CV] .. max_depth=5, max_features=1, min_samples_leaf=9, total=   2.3s\n",
      "[CV] max_depth=5, max_features=2, min_samples_leaf=3 .................\n",
      "[CV] .. max_depth=5, max_features=2, min_samples_leaf=3, total=   3.0s\n",
      "[CV] max_depth=5, max_features=2, min_samples_leaf=3 .................\n",
      "[CV] .. max_depth=5, max_features=2, min_samples_leaf=3, total=   2.8s\n",
      "[CV] max_depth=5, max_features=2, min_samples_leaf=3 .................\n",
      "[CV] .. max_depth=5, max_features=2, min_samples_leaf=3, total=   3.2s\n",
      "[CV] max_depth=5, max_features=2, min_samples_leaf=3 .................\n",
      "[CV] .. max_depth=5, max_features=2, min_samples_leaf=3, total=   2.8s\n",
      "[CV] max_depth=5, max_features=2, min_samples_leaf=3 .................\n",
      "[CV] .. max_depth=5, max_features=2, min_samples_leaf=3, total=   3.1s\n",
      "[CV] max_depth=5, max_features=2, min_samples_leaf=5 .................\n",
      "[CV] .. max_depth=5, max_features=2, min_samples_leaf=5, total=   2.8s\n",
      "[CV] max_depth=5, max_features=2, min_samples_leaf=5 .................\n",
      "[CV] .. max_depth=5, max_features=2, min_samples_leaf=5, total=   2.7s\n",
      "[CV] max_depth=5, max_features=2, min_samples_leaf=5 .................\n",
      "[CV] .. max_depth=5, max_features=2, min_samples_leaf=5, total=   2.7s\n",
      "[CV] max_depth=5, max_features=2, min_samples_leaf=5 .................\n",
      "[CV] .. max_depth=5, max_features=2, min_samples_leaf=5, total=   2.6s\n",
      "[CV] max_depth=5, max_features=2, min_samples_leaf=5 .................\n",
      "[CV] .. max_depth=5, max_features=2, min_samples_leaf=5, total=   2.8s\n",
      "[CV] max_depth=5, max_features=2, min_samples_leaf=7 .................\n",
      "[CV] .. max_depth=5, max_features=2, min_samples_leaf=7, total=   2.6s\n",
      "[CV] max_depth=5, max_features=2, min_samples_leaf=7 .................\n",
      "[CV] .. max_depth=5, max_features=2, min_samples_leaf=7, total=   2.5s\n",
      "[CV] max_depth=5, max_features=2, min_samples_leaf=7 .................\n",
      "[CV] .. max_depth=5, max_features=2, min_samples_leaf=7, total=   2.6s\n",
      "[CV] max_depth=5, max_features=2, min_samples_leaf=7 .................\n",
      "[CV] .. max_depth=5, max_features=2, min_samples_leaf=7, total=   2.9s\n",
      "[CV] max_depth=5, max_features=2, min_samples_leaf=7 .................\n",
      "[CV] .. max_depth=5, max_features=2, min_samples_leaf=7, total=   2.6s\n",
      "[CV] max_depth=5, max_features=2, min_samples_leaf=9 .................\n",
      "[CV] .. max_depth=5, max_features=2, min_samples_leaf=9, total=   2.9s\n",
      "[CV] max_depth=5, max_features=2, min_samples_leaf=9 .................\n",
      "[CV] .. max_depth=5, max_features=2, min_samples_leaf=9, total=   3.9s\n",
      "[CV] max_depth=5, max_features=2, min_samples_leaf=9 .................\n",
      "[CV] .. max_depth=5, max_features=2, min_samples_leaf=9, total=   3.3s\n",
      "[CV] max_depth=5, max_features=2, min_samples_leaf=9 .................\n",
      "[CV] .. max_depth=5, max_features=2, min_samples_leaf=9, total=   3.4s\n",
      "[CV] max_depth=5, max_features=2, min_samples_leaf=9 .................\n",
      "[CV] .. max_depth=5, max_features=2, min_samples_leaf=9, total=   3.6s\n",
      "[CV] max_depth=5, max_features=4, min_samples_leaf=3 .................\n",
      "[CV] .. max_depth=5, max_features=4, min_samples_leaf=3, total=   4.5s\n",
      "[CV] max_depth=5, max_features=4, min_samples_leaf=3 .................\n",
      "[CV] .. max_depth=5, max_features=4, min_samples_leaf=3, total=   4.9s\n",
      "[CV] max_depth=5, max_features=4, min_samples_leaf=3 .................\n",
      "[CV] .. max_depth=5, max_features=4, min_samples_leaf=3, total=   4.6s\n",
      "[CV] max_depth=5, max_features=4, min_samples_leaf=3 .................\n",
      "[CV] .. max_depth=5, max_features=4, min_samples_leaf=3, total=   4.0s\n",
      "[CV] max_depth=5, max_features=4, min_samples_leaf=3 .................\n",
      "[CV] .. max_depth=5, max_features=4, min_samples_leaf=3, total=   3.8s\n",
      "[CV] max_depth=5, max_features=4, min_samples_leaf=5 .................\n",
      "[CV] .. max_depth=5, max_features=4, min_samples_leaf=5, total=   3.7s\n",
      "[CV] max_depth=5, max_features=4, min_samples_leaf=5 .................\n",
      "[CV] .. max_depth=5, max_features=4, min_samples_leaf=5, total=   3.6s\n",
      "[CV] max_depth=5, max_features=4, min_samples_leaf=5 .................\n",
      "[CV] .. max_depth=5, max_features=4, min_samples_leaf=5, total=   3.6s\n",
      "[CV] max_depth=5, max_features=4, min_samples_leaf=5 .................\n",
      "[CV] .. max_depth=5, max_features=4, min_samples_leaf=5, total=   3.8s\n",
      "[CV] max_depth=5, max_features=4, min_samples_leaf=5 .................\n",
      "[CV] .. max_depth=5, max_features=4, min_samples_leaf=5, total=   3.6s\n",
      "[CV] max_depth=5, max_features=4, min_samples_leaf=7 .................\n",
      "[CV] .. max_depth=5, max_features=4, min_samples_leaf=7, total=   3.7s\n",
      "[CV] max_depth=5, max_features=4, min_samples_leaf=7 .................\n",
      "[CV] .. max_depth=5, max_features=4, min_samples_leaf=7, total=   3.9s\n",
      "[CV] max_depth=5, max_features=4, min_samples_leaf=7 .................\n",
      "[CV] .. max_depth=5, max_features=4, min_samples_leaf=7, total=   4.2s\n",
      "[CV] max_depth=5, max_features=4, min_samples_leaf=7 .................\n",
      "[CV] .. max_depth=5, max_features=4, min_samples_leaf=7, total=   4.3s\n",
      "[CV] max_depth=5, max_features=4, min_samples_leaf=7 .................\n",
      "[CV] .. max_depth=5, max_features=4, min_samples_leaf=7, total=   4.8s\n",
      "[CV] max_depth=5, max_features=4, min_samples_leaf=9 .................\n",
      "[CV] .. max_depth=5, max_features=4, min_samples_leaf=9, total=   6.3s\n",
      "[CV] max_depth=5, max_features=4, min_samples_leaf=9 .................\n",
      "[CV] .. max_depth=5, max_features=4, min_samples_leaf=9, total=   7.0s\n",
      "[CV] max_depth=5, max_features=4, min_samples_leaf=9 .................\n",
      "[CV] .. max_depth=5, max_features=4, min_samples_leaf=9, total=   4.9s\n",
      "[CV] max_depth=5, max_features=4, min_samples_leaf=9 .................\n",
      "[CV] .. max_depth=5, max_features=4, min_samples_leaf=9, total=   5.1s\n",
      "[CV] max_depth=5, max_features=4, min_samples_leaf=9 .................\n"
     ]
    },
    {
     "name": "stdout",
     "output_type": "stream",
     "text": [
      "[CV] .. max_depth=5, max_features=4, min_samples_leaf=9, total=   5.2s\n",
      "[CV] max_depth=10, max_features=1, min_samples_leaf=3 ................\n",
      "[CV] . max_depth=10, max_features=1, min_samples_leaf=3, total=   4.2s\n",
      "[CV] max_depth=10, max_features=1, min_samples_leaf=3 ................\n",
      "[CV] . max_depth=10, max_features=1, min_samples_leaf=3, total=   6.2s\n",
      "[CV] max_depth=10, max_features=1, min_samples_leaf=3 ................\n",
      "[CV] . max_depth=10, max_features=1, min_samples_leaf=3, total=   6.8s\n",
      "[CV] max_depth=10, max_features=1, min_samples_leaf=3 ................\n",
      "[CV] . max_depth=10, max_features=1, min_samples_leaf=3, total=   9.0s\n",
      "[CV] max_depth=10, max_features=1, min_samples_leaf=3 ................\n",
      "[CV] . max_depth=10, max_features=1, min_samples_leaf=3, total=   7.3s\n",
      "[CV] max_depth=10, max_features=1, min_samples_leaf=5 ................\n",
      "[CV] . max_depth=10, max_features=1, min_samples_leaf=5, total=   8.8s\n",
      "[CV] max_depth=10, max_features=1, min_samples_leaf=5 ................\n",
      "[CV] . max_depth=10, max_features=1, min_samples_leaf=5, total=   5.9s\n",
      "[CV] max_depth=10, max_features=1, min_samples_leaf=5 ................\n",
      "[CV] . max_depth=10, max_features=1, min_samples_leaf=5, total=   6.7s\n",
      "[CV] max_depth=10, max_features=1, min_samples_leaf=5 ................\n",
      "[CV] . max_depth=10, max_features=1, min_samples_leaf=5, total=   5.7s\n",
      "[CV] max_depth=10, max_features=1, min_samples_leaf=5 ................\n",
      "[CV] . max_depth=10, max_features=1, min_samples_leaf=5, total=   5.2s\n",
      "[CV] max_depth=10, max_features=1, min_samples_leaf=7 ................\n",
      "[CV] . max_depth=10, max_features=1, min_samples_leaf=7, total=   4.2s\n",
      "[CV] max_depth=10, max_features=1, min_samples_leaf=7 ................\n",
      "[CV] . max_depth=10, max_features=1, min_samples_leaf=7, total=   4.0s\n",
      "[CV] max_depth=10, max_features=1, min_samples_leaf=7 ................\n",
      "[CV] . max_depth=10, max_features=1, min_samples_leaf=7, total=   4.7s\n",
      "[CV] max_depth=10, max_features=1, min_samples_leaf=7 ................\n",
      "[CV] . max_depth=10, max_features=1, min_samples_leaf=7, total=   4.4s\n",
      "[CV] max_depth=10, max_features=1, min_samples_leaf=7 ................\n",
      "[CV] . max_depth=10, max_features=1, min_samples_leaf=7, total=   3.3s\n",
      "[CV] max_depth=10, max_features=1, min_samples_leaf=9 ................\n",
      "[CV] . max_depth=10, max_features=1, min_samples_leaf=9, total=   3.3s\n",
      "[CV] max_depth=10, max_features=1, min_samples_leaf=9 ................\n",
      "[CV] . max_depth=10, max_features=1, min_samples_leaf=9, total=   3.7s\n",
      "[CV] max_depth=10, max_features=1, min_samples_leaf=9 ................\n",
      "[CV] . max_depth=10, max_features=1, min_samples_leaf=9, total=   3.4s\n",
      "[CV] max_depth=10, max_features=1, min_samples_leaf=9 ................\n",
      "[CV] . max_depth=10, max_features=1, min_samples_leaf=9, total=   3.3s\n",
      "[CV] max_depth=10, max_features=1, min_samples_leaf=9 ................\n",
      "[CV] . max_depth=10, max_features=1, min_samples_leaf=9, total=   3.1s\n",
      "[CV] max_depth=10, max_features=2, min_samples_leaf=3 ................\n",
      "[CV] . max_depth=10, max_features=2, min_samples_leaf=3, total=   3.9s\n",
      "[CV] max_depth=10, max_features=2, min_samples_leaf=3 ................\n",
      "[CV] . max_depth=10, max_features=2, min_samples_leaf=3, total=   6.3s\n",
      "[CV] max_depth=10, max_features=2, min_samples_leaf=3 ................\n",
      "[CV] . max_depth=10, max_features=2, min_samples_leaf=3, total=   6.7s\n",
      "[CV] max_depth=10, max_features=2, min_samples_leaf=3 ................\n",
      "[CV] . max_depth=10, max_features=2, min_samples_leaf=3, total=   5.3s\n",
      "[CV] max_depth=10, max_features=2, min_samples_leaf=3 ................\n",
      "[CV] . max_depth=10, max_features=2, min_samples_leaf=3, total=   4.4s\n",
      "[CV] max_depth=10, max_features=2, min_samples_leaf=5 ................\n",
      "[CV] . max_depth=10, max_features=2, min_samples_leaf=5, total=   4.6s\n",
      "[CV] max_depth=10, max_features=2, min_samples_leaf=5 ................\n",
      "[CV] . max_depth=10, max_features=2, min_samples_leaf=5, total=   4.3s\n",
      "[CV] max_depth=10, max_features=2, min_samples_leaf=5 ................\n",
      "[CV] . max_depth=10, max_features=2, min_samples_leaf=5, total=   4.5s\n",
      "[CV] max_depth=10, max_features=2, min_samples_leaf=5 ................\n",
      "[CV] . max_depth=10, max_features=2, min_samples_leaf=5, total=   4.1s\n",
      "[CV] max_depth=10, max_features=2, min_samples_leaf=5 ................\n",
      "[CV] . max_depth=10, max_features=2, min_samples_leaf=5, total=   4.4s\n",
      "[CV] max_depth=10, max_features=2, min_samples_leaf=7 ................\n",
      "[CV] . max_depth=10, max_features=2, min_samples_leaf=7, total=   3.8s\n",
      "[CV] max_depth=10, max_features=2, min_samples_leaf=7 ................\n",
      "[CV] . max_depth=10, max_features=2, min_samples_leaf=7, total=   4.0s\n",
      "[CV] max_depth=10, max_features=2, min_samples_leaf=7 ................\n",
      "[CV] . max_depth=10, max_features=2, min_samples_leaf=7, total=   3.9s\n",
      "[CV] max_depth=10, max_features=2, min_samples_leaf=7 ................\n",
      "[CV] . max_depth=10, max_features=2, min_samples_leaf=7, total=   4.3s\n",
      "[CV] max_depth=10, max_features=2, min_samples_leaf=7 ................\n",
      "[CV] . max_depth=10, max_features=2, min_samples_leaf=7, total=   4.0s\n",
      "[CV] max_depth=10, max_features=2, min_samples_leaf=9 ................\n",
      "[CV] . max_depth=10, max_features=2, min_samples_leaf=9, total=   3.8s\n",
      "[CV] max_depth=10, max_features=2, min_samples_leaf=9 ................\n",
      "[CV] . max_depth=10, max_features=2, min_samples_leaf=9, total=   3.8s\n",
      "[CV] max_depth=10, max_features=2, min_samples_leaf=9 ................\n",
      "[CV] . max_depth=10, max_features=2, min_samples_leaf=9, total=   3.8s\n",
      "[CV] max_depth=10, max_features=2, min_samples_leaf=9 ................\n",
      "[CV] . max_depth=10, max_features=2, min_samples_leaf=9, total=   4.0s\n",
      "[CV] max_depth=10, max_features=2, min_samples_leaf=9 ................\n",
      "[CV] . max_depth=10, max_features=2, min_samples_leaf=9, total=   4.2s\n",
      "[CV] max_depth=10, max_features=4, min_samples_leaf=3 ................\n",
      "[CV] . max_depth=10, max_features=4, min_samples_leaf=3, total=   5.4s\n",
      "[CV] max_depth=10, max_features=4, min_samples_leaf=3 ................\n",
      "[CV] . max_depth=10, max_features=4, min_samples_leaf=3, total=   6.0s\n",
      "[CV] max_depth=10, max_features=4, min_samples_leaf=3 ................\n",
      "[CV] . max_depth=10, max_features=4, min_samples_leaf=3, total=   5.7s\n",
      "[CV] max_depth=10, max_features=4, min_samples_leaf=3 ................\n",
      "[CV] . max_depth=10, max_features=4, min_samples_leaf=3, total=   5.5s\n",
      "[CV] max_depth=10, max_features=4, min_samples_leaf=3 ................\n",
      "[CV] . max_depth=10, max_features=4, min_samples_leaf=3, total=   6.0s\n",
      "[CV] max_depth=10, max_features=4, min_samples_leaf=5 ................\n",
      "[CV] . max_depth=10, max_features=4, min_samples_leaf=5, total=   5.4s\n",
      "[CV] max_depth=10, max_features=4, min_samples_leaf=5 ................\n",
      "[CV] . max_depth=10, max_features=4, min_samples_leaf=5, total=   5.8s\n",
      "[CV] max_depth=10, max_features=4, min_samples_leaf=5 ................\n",
      "[CV] . max_depth=10, max_features=4, min_samples_leaf=5, total=   5.1s\n",
      "[CV] max_depth=10, max_features=4, min_samples_leaf=5 ................\n",
      "[CV] . max_depth=10, max_features=4, min_samples_leaf=5, total=   5.8s\n",
      "[CV] max_depth=10, max_features=4, min_samples_leaf=5 ................\n",
      "[CV] . max_depth=10, max_features=4, min_samples_leaf=5, total=   6.5s\n",
      "[CV] max_depth=10, max_features=4, min_samples_leaf=7 ................\n",
      "[CV] . max_depth=10, max_features=4, min_samples_leaf=7, total=   6.4s\n",
      "[CV] max_depth=10, max_features=4, min_samples_leaf=7 ................\n",
      "[CV] . max_depth=10, max_features=4, min_samples_leaf=7, total=   6.9s\n",
      "[CV] max_depth=10, max_features=4, min_samples_leaf=7 ................\n",
      "[CV] . max_depth=10, max_features=4, min_samples_leaf=7, total=   6.1s\n",
      "[CV] max_depth=10, max_features=4, min_samples_leaf=7 ................\n",
      "[CV] . max_depth=10, max_features=4, min_samples_leaf=7, total=   5.2s\n",
      "[CV] max_depth=10, max_features=4, min_samples_leaf=7 ................\n",
      "[CV] . max_depth=10, max_features=4, min_samples_leaf=7, total=   5.9s\n",
      "[CV] max_depth=10, max_features=4, min_samples_leaf=9 ................\n",
      "[CV] . max_depth=10, max_features=4, min_samples_leaf=9, total=   5.6s\n",
      "[CV] max_depth=10, max_features=4, min_samples_leaf=9 ................\n",
      "[CV] . max_depth=10, max_features=4, min_samples_leaf=9, total=   5.7s\n",
      "[CV] max_depth=10, max_features=4, min_samples_leaf=9 ................\n"
     ]
    },
    {
     "name": "stdout",
     "output_type": "stream",
     "text": [
      "[CV] . max_depth=10, max_features=4, min_samples_leaf=9, total=   5.3s\n",
      "[CV] max_depth=10, max_features=4, min_samples_leaf=9 ................\n",
      "[CV] . max_depth=10, max_features=4, min_samples_leaf=9, total=   5.4s\n",
      "[CV] max_depth=10, max_features=4, min_samples_leaf=9 ................\n",
      "[CV] . max_depth=10, max_features=4, min_samples_leaf=9, total=   5.6s\n",
      "[CV] max_depth=15, max_features=1, min_samples_leaf=3 ................\n",
      "[CV] . max_depth=15, max_features=1, min_samples_leaf=3, total=   4.1s\n",
      "[CV] max_depth=15, max_features=1, min_samples_leaf=3 ................\n",
      "[CV] . max_depth=15, max_features=1, min_samples_leaf=3, total=   4.6s\n",
      "[CV] max_depth=15, max_features=1, min_samples_leaf=3 ................\n",
      "[CV] . max_depth=15, max_features=1, min_samples_leaf=3, total=   5.6s\n",
      "[CV] max_depth=15, max_features=1, min_samples_leaf=3 ................\n",
      "[CV] . max_depth=15, max_features=1, min_samples_leaf=3, total=   6.2s\n",
      "[CV] max_depth=15, max_features=1, min_samples_leaf=3 ................\n",
      "[CV] . max_depth=15, max_features=1, min_samples_leaf=3, total=   4.5s\n",
      "[CV] max_depth=15, max_features=1, min_samples_leaf=5 ................\n",
      "[CV] . max_depth=15, max_features=1, min_samples_leaf=5, total=   4.3s\n",
      "[CV] max_depth=15, max_features=1, min_samples_leaf=5 ................\n",
      "[CV] . max_depth=15, max_features=1, min_samples_leaf=5, total=   4.2s\n",
      "[CV] max_depth=15, max_features=1, min_samples_leaf=5 ................\n",
      "[CV] . max_depth=15, max_features=1, min_samples_leaf=5, total=   4.3s\n",
      "[CV] max_depth=15, max_features=1, min_samples_leaf=5 ................\n",
      "[CV] . max_depth=15, max_features=1, min_samples_leaf=5, total=   4.4s\n",
      "[CV] max_depth=15, max_features=1, min_samples_leaf=5 ................\n",
      "[CV] . max_depth=15, max_features=1, min_samples_leaf=5, total=   4.3s\n",
      "[CV] max_depth=15, max_features=1, min_samples_leaf=7 ................\n",
      "[CV] . max_depth=15, max_features=1, min_samples_leaf=7, total=   4.5s\n",
      "[CV] max_depth=15, max_features=1, min_samples_leaf=7 ................\n",
      "[CV] . max_depth=15, max_features=1, min_samples_leaf=7, total=   4.2s\n",
      "[CV] max_depth=15, max_features=1, min_samples_leaf=7 ................\n",
      "[CV] . max_depth=15, max_features=1, min_samples_leaf=7, total=   4.5s\n",
      "[CV] max_depth=15, max_features=1, min_samples_leaf=7 ................\n",
      "[CV] . max_depth=15, max_features=1, min_samples_leaf=7, total=   4.3s\n",
      "[CV] max_depth=15, max_features=1, min_samples_leaf=7 ................\n",
      "[CV] . max_depth=15, max_features=1, min_samples_leaf=7, total=   4.1s\n",
      "[CV] max_depth=15, max_features=1, min_samples_leaf=9 ................\n",
      "[CV] . max_depth=15, max_features=1, min_samples_leaf=9, total=   3.9s\n",
      "[CV] max_depth=15, max_features=1, min_samples_leaf=9 ................\n",
      "[CV] . max_depth=15, max_features=1, min_samples_leaf=9, total=   3.9s\n",
      "[CV] max_depth=15, max_features=1, min_samples_leaf=9 ................\n",
      "[CV] . max_depth=15, max_features=1, min_samples_leaf=9, total=   4.2s\n",
      "[CV] max_depth=15, max_features=1, min_samples_leaf=9 ................\n",
      "[CV] . max_depth=15, max_features=1, min_samples_leaf=9, total=   4.4s\n",
      "[CV] max_depth=15, max_features=1, min_samples_leaf=9 ................\n",
      "[CV] . max_depth=15, max_features=1, min_samples_leaf=9, total=   4.3s\n",
      "[CV] max_depth=15, max_features=2, min_samples_leaf=3 ................\n",
      "[CV] . max_depth=15, max_features=2, min_samples_leaf=3, total=   5.4s\n",
      "[CV] max_depth=15, max_features=2, min_samples_leaf=3 ................\n",
      "[CV] . max_depth=15, max_features=2, min_samples_leaf=3, total=   5.3s\n",
      "[CV] max_depth=15, max_features=2, min_samples_leaf=3 ................\n",
      "[CV] . max_depth=15, max_features=2, min_samples_leaf=3, total=   4.7s\n",
      "[CV] max_depth=15, max_features=2, min_samples_leaf=3 ................\n",
      "[CV] . max_depth=15, max_features=2, min_samples_leaf=3, total=   5.4s\n",
      "[CV] max_depth=15, max_features=2, min_samples_leaf=3 ................\n",
      "[CV] . max_depth=15, max_features=2, min_samples_leaf=3, total=   5.1s\n",
      "[CV] max_depth=15, max_features=2, min_samples_leaf=5 ................\n",
      "[CV] . max_depth=15, max_features=2, min_samples_leaf=5, total=   5.6s\n",
      "[CV] max_depth=15, max_features=2, min_samples_leaf=5 ................\n",
      "[CV] . max_depth=15, max_features=2, min_samples_leaf=5, total=   5.2s\n",
      "[CV] max_depth=15, max_features=2, min_samples_leaf=5 ................\n",
      "[CV] . max_depth=15, max_features=2, min_samples_leaf=5, total=   5.7s\n",
      "[CV] max_depth=15, max_features=2, min_samples_leaf=5 ................\n",
      "[CV] . max_depth=15, max_features=2, min_samples_leaf=5, total=   4.7s\n",
      "[CV] max_depth=15, max_features=2, min_samples_leaf=5 ................\n",
      "[CV] . max_depth=15, max_features=2, min_samples_leaf=5, total=   4.9s\n",
      "[CV] max_depth=15, max_features=2, min_samples_leaf=7 ................\n",
      "[CV] . max_depth=15, max_features=2, min_samples_leaf=7, total=   4.8s\n",
      "[CV] max_depth=15, max_features=2, min_samples_leaf=7 ................\n",
      "[CV] . max_depth=15, max_features=2, min_samples_leaf=7, total=   4.7s\n",
      "[CV] max_depth=15, max_features=2, min_samples_leaf=7 ................\n",
      "[CV] . max_depth=15, max_features=2, min_samples_leaf=7, total=   4.6s\n",
      "[CV] max_depth=15, max_features=2, min_samples_leaf=7 ................\n",
      "[CV] . max_depth=15, max_features=2, min_samples_leaf=7, total=   5.2s\n",
      "[CV] max_depth=15, max_features=2, min_samples_leaf=7 ................\n",
      "[CV] . max_depth=15, max_features=2, min_samples_leaf=7, total=   4.9s\n",
      "[CV] max_depth=15, max_features=2, min_samples_leaf=9 ................\n",
      "[CV] . max_depth=15, max_features=2, min_samples_leaf=9, total=   6.6s\n",
      "[CV] max_depth=15, max_features=2, min_samples_leaf=9 ................\n",
      "[CV] . max_depth=15, max_features=2, min_samples_leaf=9, total=   6.1s\n",
      "[CV] max_depth=15, max_features=2, min_samples_leaf=9 ................\n",
      "[CV] . max_depth=15, max_features=2, min_samples_leaf=9, total=   9.1s\n",
      "[CV] max_depth=15, max_features=2, min_samples_leaf=9 ................\n",
      "[CV] . max_depth=15, max_features=2, min_samples_leaf=9, total=   5.3s\n",
      "[CV] max_depth=15, max_features=2, min_samples_leaf=9 ................\n",
      "[CV] . max_depth=15, max_features=2, min_samples_leaf=9, total=   4.9s\n",
      "[CV] max_depth=15, max_features=4, min_samples_leaf=3 ................\n",
      "[CV] . max_depth=15, max_features=4, min_samples_leaf=3, total=   7.9s\n",
      "[CV] max_depth=15, max_features=4, min_samples_leaf=3 ................\n",
      "[CV] . max_depth=15, max_features=4, min_samples_leaf=3, total=   7.8s\n",
      "[CV] max_depth=15, max_features=4, min_samples_leaf=3 ................\n",
      "[CV] . max_depth=15, max_features=4, min_samples_leaf=3, total=   7.7s\n",
      "[CV] max_depth=15, max_features=4, min_samples_leaf=3 ................\n",
      "[CV] . max_depth=15, max_features=4, min_samples_leaf=3, total=   7.3s\n",
      "[CV] max_depth=15, max_features=4, min_samples_leaf=3 ................\n",
      "[CV] . max_depth=15, max_features=4, min_samples_leaf=3, total=   8.2s\n",
      "[CV] max_depth=15, max_features=4, min_samples_leaf=5 ................\n",
      "[CV] . max_depth=15, max_features=4, min_samples_leaf=5, total=   7.9s\n",
      "[CV] max_depth=15, max_features=4, min_samples_leaf=5 ................\n",
      "[CV] . max_depth=15, max_features=4, min_samples_leaf=5, total=   7.9s\n",
      "[CV] max_depth=15, max_features=4, min_samples_leaf=5 ................\n",
      "[CV] . max_depth=15, max_features=4, min_samples_leaf=5, total=   7.6s\n",
      "[CV] max_depth=15, max_features=4, min_samples_leaf=5 ................\n",
      "[CV] . max_depth=15, max_features=4, min_samples_leaf=5, total=   7.5s\n",
      "[CV] max_depth=15, max_features=4, min_samples_leaf=5 ................\n",
      "[CV] . max_depth=15, max_features=4, min_samples_leaf=5, total=   7.1s\n",
      "[CV] max_depth=15, max_features=4, min_samples_leaf=7 ................\n",
      "[CV] . max_depth=15, max_features=4, min_samples_leaf=7, total=   7.3s\n",
      "[CV] max_depth=15, max_features=4, min_samples_leaf=7 ................\n",
      "[CV] . max_depth=15, max_features=4, min_samples_leaf=7, total=   7.1s\n",
      "[CV] max_depth=15, max_features=4, min_samples_leaf=7 ................\n",
      "[CV] . max_depth=15, max_features=4, min_samples_leaf=7, total=   7.1s\n",
      "[CV] max_depth=15, max_features=4, min_samples_leaf=7 ................\n",
      "[CV] . max_depth=15, max_features=4, min_samples_leaf=7, total=   7.9s\n",
      "[CV] max_depth=15, max_features=4, min_samples_leaf=7 ................\n",
      "[CV] . max_depth=15, max_features=4, min_samples_leaf=7, total=  16.5s\n",
      "[CV] max_depth=15, max_features=4, min_samples_leaf=9 ................\n"
     ]
    },
    {
     "name": "stdout",
     "output_type": "stream",
     "text": [
      "[CV] . max_depth=15, max_features=4, min_samples_leaf=9, total=  13.2s\n",
      "[CV] max_depth=15, max_features=4, min_samples_leaf=9 ................\n",
      "[CV] . max_depth=15, max_features=4, min_samples_leaf=9, total=  10.0s\n",
      "[CV] max_depth=15, max_features=4, min_samples_leaf=9 ................\n",
      "[CV] . max_depth=15, max_features=4, min_samples_leaf=9, total=  12.2s\n",
      "[CV] max_depth=15, max_features=4, min_samples_leaf=9 ................\n",
      "[CV] . max_depth=15, max_features=4, min_samples_leaf=9, total=  11.8s\n",
      "[CV] max_depth=15, max_features=4, min_samples_leaf=9 ................\n",
      "[CV] . max_depth=15, max_features=4, min_samples_leaf=9, total=   8.2s\n"
     ]
    },
    {
     "name": "stderr",
     "output_type": "stream",
     "text": [
      "[Parallel(n_jobs=1)]: Done 180 out of 180 | elapsed: 14.7min finished\n"
     ]
    },
    {
     "data": {
      "text/plain": [
       "GridSearchCV(cv=StratifiedKFold(n_splits=5, random_state=5, shuffle=True),\n",
       "             error_score='raise-deprecating',\n",
       "             estimator=RandomForestClassifier(bootstrap=True,\n",
       "                                              class_weight='balanced',\n",
       "                                              criterion='gini', max_depth=None,\n",
       "                                              max_features='auto',\n",
       "                                              max_leaf_nodes=None,\n",
       "                                              min_impurity_decrease=0.0,\n",
       "                                              min_impurity_split=None,\n",
       "                                              min_samples_leaf=1,\n",
       "                                              min_samples_split=2,\n",
       "                                              min_weight_fraction_leaf=0.0,\n",
       "                                              n_estimators=100, n_jobs=-1,\n",
       "                                              oob_score=True, random_state=42,\n",
       "                                              verbose=0, warm_start=False),\n",
       "             iid='warn', n_jobs=None,\n",
       "             param_grid={'max_depth': [5, 10, 15], 'max_features': [1, 2, 4],\n",
       "                         'min_samples_leaf': [3, 5, 7, 9]},\n",
       "             pre_dispatch='2*n_jobs', refit=True, return_train_score=False,\n",
       "             scoring='roc_auc', verbose=2)"
      ]
     },
     "execution_count": 23,
     "metadata": {},
     "output_type": "execute_result"
    }
   ],
   "source": [
    "### Ваш код должен быть здесь ###\n",
    "grid_searcher = GridSearchCV(rf, parameters, scoring='roc_auc', verbose=2, cv=skf)\n",
    "grid_searcher.fit(X, y)"
   ]
  },
  {
   "cell_type": "code",
   "execution_count": 24,
   "metadata": {},
   "outputs": [
    {
     "data": {
      "text/plain": [
       "({'max_depth': 10, 'max_features': 2, 'min_samples_leaf': 9}, 0.836)"
      ]
     },
     "execution_count": 24,
     "metadata": {},
     "output_type": "execute_result"
    }
   ],
   "source": [
    "grid_searcher.best_params_, round(grid_searcher.best_score_, 3)"
   ]
  },
  {
   "cell_type": "code",
   "execution_count": 61,
   "metadata": {},
   "outputs": [
    {
     "name": "stdout",
     "output_type": "stream",
     "text": [
      "На сколько точность лучшей модели случайного леса выше точности логистической регрессии на валидации 4.0 %\n"
     ]
    }
   ],
   "source": [
    "print(\"На сколько точность лучшей модели случайного леса выше точности логистической регрессии на валидации\",\n",
    "  round((grid_searcher.best_score_- lr_grid_searcher.best_score_), 2)*100, \"%\")"
   ]
  },
  {
   "cell_type": "markdown",
   "metadata": {},
   "source": [
    "**Задание 9.** Определите какой признак имеет самое слабое влияние."
   ]
  },
  {
   "cell_type": "code",
   "execution_count": 26,
   "metadata": {},
   "outputs": [
    {
     "name": "stdout",
     "output_type": "stream",
     "text": [
      "[0.17463152 0.11957712 0.29419038 0.10898834 0.06081583 0.20906526\n",
      " 0.03273155]\n"
     ]
    },
    {
     "data": {
      "text/plain": [
       "array([['age', '0.17463151528656592'],\n",
       "       ['NumberOfTime30-59DaysPastDueNotWorse', '0.11957711681708225'],\n",
       "       ['DebtRatio', '0.2941903788615162'],\n",
       "       ['NumberOfTimes90DaysLate', '0.10898834291140112'],\n",
       "       ['NumberOfTime60-89DaysPastDueNotWorse', '0.060815832550324446'],\n",
       "       ['MonthlyIncome', '0.2090652601940088'],\n",
       "       ['NumberOfDependents', '0.032731553379101275']], dtype='<U36')"
      ]
     },
     "execution_count": 26,
     "metadata": {},
     "output_type": "execute_result"
    }
   ],
   "source": [
    "### Ваш код должен быть здесь ###\n",
    "rf = RandomForestClassifier(n_estimators=100, n_jobs=-1, \n",
    "                            random_state=42, oob_score=True, \n",
    "                            class_weight='balanced')\n",
    "rf.fit(X, y)\n",
    "print(rf.feature_importances_)\n",
    "np.hstack([np.array(independent_columns_names).reshape(7,1), rf.feature_importances_.reshape(7,1)])"
   ]
  },
  {
   "cell_type": "code",
   "execution_count": 27,
   "metadata": {},
   "outputs": [
    {
     "name": "stdout",
     "output_type": "stream",
     "text": [
      " какой признак имеет самое слабое влияние:  NumberOfDependents\n"
     ]
    }
   ],
   "source": [
    "print(\" какой признак имеет самое слабое влияние: \", 'NumberOfDependents')"
   ]
  },
  {
   "cell_type": "markdown",
   "metadata": {},
   "source": [
    "** Задание 10.** Какое наиболее существенное примущество логистической регрессии перед случайным лесом для нашей бизнес-задачи?\n",
    "\n",
    "- меньше тратится времени для тренировки модели;\n",
    "- меньше параметров для перебора;\n",
    "- интепретируемость признаков;\n",
    "- линейные свойства алгоритма."
   ]
  },
  {
   "cell_type": "code",
   "execution_count": 28,
   "metadata": {},
   "outputs": [],
   "source": [
    "#1 коэффициенты перед признаками могут интерпретироваться \n",
    "\n",
    "#2 меньше параметров для перебора\n",
    "#3 меньше тратится времени для тренировки модели (хорошо изучены и очень быстрые даже на очень больших выборках)\n"
   ]
  },
  {
   "cell_type": "markdown",
   "metadata": {},
   "source": [
    "# Бэггинг"
   ]
  },
  {
   "cell_type": "code",
   "execution_count": 29,
   "metadata": {},
   "outputs": [],
   "source": [
    "from sklearn.ensemble import BaggingClassifier\n",
    "from sklearn.model_selection import RandomizedSearchCV\n",
    "parameters = {'max_features': [2, 3, 4], 'max_samples': [0.5, 0.7, 0.9], \n",
    "              \"base_estimator__C\": [0.0001, 0.001, 0.01, 1, 10, 100]}"
   ]
  },
  {
   "cell_type": "markdown",
   "metadata": {},
   "source": [
    "**Задание 11.** Следующая задача обучить бэггинг классификатор (`random_state`=42). В качестве базовых классификаторов возьмите 100 логистических регрессий и на этот раз используйте не `GridSearchCV`, а `RandomizedSearchCV`. Так как перебирать все 54 варианта комбинаций долго, то поставьте максимальное число итераций 20 для `RandomizedSearchCV`. Также не забудьте передать параметр валидации `cv` и `random_state=1`. Какая лучшая точность получилась?"
   ]
  },
  {
   "cell_type": "code",
   "execution_count": 73,
   "metadata": {},
   "outputs": [
    {
     "data": {
      "text/plain": [
       "RandomizedSearchCV(cv=StratifiedKFold(n_splits=5, random_state=5, shuffle=True),\n",
       "                   error_score='raise-deprecating',\n",
       "                   estimator=BaggingClassifier(base_estimator=LogisticRegression(C=1.0,\n",
       "                                                                                 class_weight='balanced',\n",
       "                                                                                 dual=False,\n",
       "                                                                                 fit_intercept=True,\n",
       "                                                                                 intercept_scaling=1,\n",
       "                                                                                 l1_ratio=None,\n",
       "                                                                                 max_iter=100,\n",
       "                                                                                 multi_class='warn',\n",
       "                                                                                 n_jobs=None,\n",
       "                                                                                 penalty='l2',\n",
       "                                                                                 random_state=5,\n",
       "                                                                                 solver='warn...\n",
       "                                               max_samples=1.0,\n",
       "                                               n_estimators=100, n_jobs=None,\n",
       "                                               oob_score=False, random_state=42,\n",
       "                                               verbose=0, warm_start=False),\n",
       "                   iid='warn', n_iter=20, n_jobs=None,\n",
       "                   param_distributions={'base_estimator__C': [0.0001, 0.001,\n",
       "                                                              0.01, 1, 10,\n",
       "                                                              100],\n",
       "                                        'max_features': [2, 3, 4],\n",
       "                                        'max_samples': [0.5, 0.7, 0.9]},\n",
       "                   pre_dispatch='2*n_jobs', random_state=1, refit=True,\n",
       "                   return_train_score=False, scoring='roc_auc', verbose=0)"
      ]
     },
     "execution_count": 73,
     "metadata": {},
     "output_type": "execute_result"
    }
   ],
   "source": [
    "### Ваш код должен быть здесь ###\n",
    "\n",
    "lr = LogisticRegression(random_state=5, class_weight= 'balanced')\n",
    "skf = StratifiedKFold(n_splits=5, shuffle=True, random_state=5)\n",
    "\n",
    "Classifier = BaggingClassifier(lr, n_estimators = 100, random_state=42)\n",
    "clr = RandomizedSearchCV(Classifier, param_distributions=parameters,  cv=skf, n_iter = 20, \n",
    "                         scoring='roc_auc', random_state=1) # \n",
    "clr.fit(X,y)\n"
   ]
  },
  {
   "cell_type": "code",
   "execution_count": 88,
   "metadata": {},
   "outputs": [
    {
     "name": "stdout",
     "output_type": "stream",
     "text": [
      "лучшая точность:  0.8074677872295736\n"
     ]
    }
   ],
   "source": [
    "print(\"лучшая точность: \",(clr.best_score_))"
   ]
  },
  {
   "cell_type": "markdown",
   "metadata": {},
   "source": [
    "**Задача 12.** Дайте интерпретацию лучших параметров для бэггинга. Почему именно такие значения оказались лучшими?\n",
    "\n",
    "- для бэггинга важно использовать как можно меньше признаков\n",
    "- бэггинг лучше работает на небольших выборках\n",
    "- меньше корреляция между одиночными моделями\n",
    "- чем больше признаков, тем меньше теряется информации"
   ]
  },
  {
   "cell_type": "code",
   "execution_count": 33,
   "metadata": {},
   "outputs": [
    {
     "data": {
      "text/plain": [
       "{'max_samples': 0.7, 'max_features': 2, 'base_estimator__C': 100}"
      ]
     },
     "execution_count": 33,
     "metadata": {},
     "output_type": "execute_result"
    }
   ],
   "source": [
    "clr.best_params_"
   ]
  },
  {
   "cell_type": "code",
   "execution_count": null,
   "metadata": {},
   "outputs": [],
   "source": [
    "меньше корреляция между одиночными моделями (бэггинг лучше работает на небольших выборках)"
   ]
  }
 ],
 "metadata": {
  "anaconda-cloud": {},
  "kernelspec": {
   "display_name": "Python 3",
   "language": "python",
   "name": "python3"
  },
  "language_info": {
   "codemirror_mode": {
    "name": "ipython",
    "version": 3
   },
   "file_extension": ".py",
   "mimetype": "text/x-python",
   "name": "python",
   "nbconvert_exporter": "python",
   "pygments_lexer": "ipython3",
   "version": "3.7.3"
  }
 },
 "nbformat": 4,
 "nbformat_minor": 1
}
